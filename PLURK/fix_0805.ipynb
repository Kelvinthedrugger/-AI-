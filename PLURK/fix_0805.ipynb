{
 "cells": [
  {
   "cell_type": "markdown",
   "metadata": {},
   "source": [
    "## fetch the emoji's that currently has < 5000 posts"
   ]
  },
  {
   "cell_type": "code",
   "execution_count": 1,
   "metadata": {},
   "outputs": [
    {
     "name": "stdout",
     "output_type": "stream",
     "text": [
      "{'joy': '😂', 'sadness': '😭', 'love': '😍', 'anger': '😡', 'fear': '😨', 'surprise': '😮'} \n",
      "start date: 2022-08\n"
     ]
    }
   ],
   "source": [
    "from info_list import *\n"
   ]
  },
  {
   "cell_type": "code",
   "execution_count": 4,
   "metadata": {},
   "outputs": [],
   "source": [
    "from pathlib import Path\n",
    "import os, pickle"
   ]
  },
  {
   "cell_type": "code",
   "execution_count": 10,
   "metadata": {},
   "outputs": [
    {
     "name": "stdout",
     "output_type": "stream",
     "text": [
      "anger_.pkl    1049\n",
      "fear_.pkl    584\n",
      "joy_.pkl    7508\n",
      "love_.pkl    2631\n",
      "sadness_.pkl    5561\n",
      "surprise_.pkl    849\n",
      "\n",
      "fetched files:  ['anger_.pkl', 'fear_.pkl', 'love_.pkl', 'surprise_.pkl']"
     ]
    }
   ],
   "source": [
    "\"check the current number of posts\"\n",
    "\n",
    "base_dir = Path(\"non_redundant\")\n",
    "less = []\n",
    "for ele in list(os.walk(base_dir))[0][2]:\n",
    "    with open(base_dir/ele, \"rb\") as f:\n",
    "        posts = pickle.load(f)\n",
    "    print(\"%s    %d\" % (ele, len(posts)))\n",
    "    if len(posts) < 5000:\n",
    "        less.append(ele)\n",
    "\n",
    "print(\"\\nfetched files: \", less, end=\"\")"
   ]
  },
  {
   "cell_type": "code",
   "execution_count": 15,
   "metadata": {},
   "outputs": [
    {
     "name": "stdout",
     "output_type": "stream",
     "text": [
      "folder exists\n"
     ]
    }
   ],
   "source": [
    "\"create new folder\"\n",
    "new_dir = Path(\"fix_0805\")\n",
    "if not new_dir.is_dir():\n",
    "    new_dir.mkdir()\n",
    "\n",
    "else:\n",
    "    print(\"folder exists\")"
   ]
  },
  {
   "cell_type": "code",
   "execution_count": 19,
   "metadata": {},
   "outputs": [
    {
     "data": {
      "text/plain": [
       "['anger', 'fear', 'love', 'surprise']"
      ]
     },
     "execution_count": 19,
     "metadata": {},
     "output_type": "execute_result"
    }
   ],
   "source": [
    "\"parse the file name to emotions\"\n",
    "emotion_to_fetch = [ele[:ele.index(\"_\")] for ele in less]\n",
    "emotion_to_fetch"
   ]
  },
  {
   "cell_type": "markdown",
   "metadata": {},
   "source": [
    "## Fetch the darn thing in less (list)"
   ]
  },
  {
   "cell_type": "code",
   "execution_count": 22,
   "metadata": {},
   "outputs": [],
   "source": [
    "\"create web driver\"\n",
    "def create_driver():\n",
    "    from selenium import webdriver\n",
    "    from time import sleep\n",
    "    from webdriver_manager.chrome import ChromeDriverManager\n",
    "    from selenium.webdriver.chrome.options import Options\n",
    "    from selenium.webdriver.common.keys import Keys\n",
    "    from selenium.webdriver.common.by import By\n",
    "    from selenium.webdriver.support.ui import WebDriverWait\n",
    "    from selenium.webdriver.support import expected_conditions as EC\n",
    "    from selenium.webdriver.common.action_chains import ActionChains\n",
    "\n",
    "    #先把通知都關掉，不然後面會點不到按鈕\n",
    "    optionla = Options();\n",
    "    optionla.add_argument(\"disable-notifications\");\n",
    "    driver = webdriver.Chrome(ChromeDriverManager().install(), options=optionla)\n",
    "    return driver"
   ]
  },
  {
   "cell_type": "code",
   "execution_count": 43,
   "metadata": {},
   "outputs": [],
   "source": [
    "\"run the correct way!\"\n",
    "# putting everything together\n",
    "def runit(filename, date_list, emoji):\n",
    "    # if filename exists, quit the whole thing\n",
    "    if filename.is_file():\n",
    "        print(f\"{filename} exists, didn't do a thing\")\n",
    "        return\n",
    "    \n",
    "    content = []\n",
    "    # loop thru date, fetch corresponding search result\n",
    "    # , save everything into content (list), write it, return it\n",
    "    for date in date_list:\n",
    "        # visit the search page # emoji date \n",
    "        driver.get(\"https://www.plurk.com/search?q=\"+emoji+\"&date=\" + date)\n",
    "        sleep(1)\n",
    "\n",
    "        # scroll to bottom # 300 is enough\n",
    "        for i in range(600):\n",
    "            driver.execute_script(\"window.scrollTo(0,Math.max(document.documentElement.scrollHeight,\" + \"document.body.scrollHeight,document.documentElement.clientHeight));\")\n",
    "            sleep(1)\n",
    "\n",
    "        posts = driver.find_elements('xpath','//*[@class=\"content\"]')\n",
    "        content += [ele.text for ele in posts]\n",
    "\n",
    "    with open(filename, \"wb\") as f:\n",
    "        pickle.dump(content, f)\n",
    "\n",
    "    return content"
   ]
  },
  {
   "cell_type": "code",
   "execution_count": 16,
   "metadata": {},
   "outputs": [
    {
     "data": {
      "text/plain": [
       "['anger_.pkl', 'fear_.pkl', 'love_.pkl', 'surprise_.pkl']"
      ]
     },
     "execution_count": 16,
     "metadata": {},
     "output_type": "execute_result"
    }
   ],
   "source": [
    "less"
   ]
  },
  {
   "cell_type": "code",
   "execution_count": 30,
   "metadata": {},
   "outputs": [
    {
     "name": "stdout",
     "output_type": "stream",
     "text": [
      "\n"
     ]
    },
    {
     "name": "stderr",
     "output_type": "stream",
     "text": [
      "c:\\Users\\Kelvin\\anaconda3\\envs\\AI_sheng\\lib\\site-packages\\ipykernel_launcher.py:16: DeprecationWarning: executable_path has been deprecated, please pass in a Service object\n",
      "  \n"
     ]
    }
   ],
   "source": [
    "driver = create_driver()"
   ]
  },
  {
   "cell_type": "code",
   "execution_count": 27,
   "metadata": {},
   "outputs": [
    {
     "data": {
      "text/plain": [
       "[('anger', '😡'), ('fear', '😨'), ('love', '😍'), ('surprise', '😮')]"
      ]
     },
     "execution_count": 27,
     "metadata": {},
     "output_type": "execute_result"
    }
   ],
   "source": [
    "[(ele, emoji_list[ele]) for ele in emotion_to_fetch]"
   ]
  },
  {
   "cell_type": "code",
   "execution_count": 28,
   "metadata": {},
   "outputs": [],
   "source": [
    "fetched_emos = {}"
   ]
  },
  {
   "cell_type": "code",
   "execution_count": 41,
   "metadata": {},
   "outputs": [],
   "source": [
    "from time import sleep"
   ]
  },
  {
   "cell_type": "code",
   "execution_count": 44,
   "metadata": {},
   "outputs": [
    {
     "name": "stdout",
     "output_type": "stream",
     "text": [
      "Wall time: 51min 52s\n"
     ]
    }
   ],
   "source": [
    "%%time\n",
    "for key in emotion_to_fetch:\n",
    "    fetched_emos[key] = runit(Path(new_dir/f\"{key}.pkl\"),['2022-08'], emoji_list[key])\n"
   ]
  },
  {
   "cell_type": "code",
   "execution_count": 48,
   "metadata": {},
   "outputs": [
    {
     "data": {
      "text/plain": [
       "[(['[雜]\\n沒事做的值班日，我剛剛才發現電話沒插線（同事：😡 ',\n",
       "   '走到YouBike車站才發現手機沒帶，回去拿就不想出門了…\\n天氣熱還要戴口罩真是要命，但現在不戴口罩才真是不要命 😓😵😡😠👿',\n",
       "   '[問題] 小林的最後一球跟2013台日哪個比較痛\\n\\n笑死\\n絕對是2013經典賽\\n還有2008中台戰\\n😡😡😡😡'],\n",
       "  '😡'),\n",
       " (['想說為什麼我無法獲得場刊，事前通販怎麼不見了\\n結果是我自己錯過了，還兩次，我怎麼不去吃大便😨😨😨',\n",
       "   '世界まる見え!戦慄の瞬間SP!\\n\\n台灣那個風箏捲女孩事件真的很可怕😨\\n現在重看畫面也心有餘悸啊⋯ ',\n",
       "   '@Moleaf - 現實的花痴好可怕😨 還好我認識圈內夢女們 自愚自樂的樣子可愛多了\\n人類社會重複的事重複發生\\n不管什麼圈子👀'],\n",
       "  '😨'),\n",
       " (['既然沒有漢吉那就收約翰吧\\n約翰真的超可愛的😍💕',\n",
       "   '日結大神為了約3個漂亮的小姐姐😍😍，要發奮圖強去幹日結了👍，今天賺了154塊錢，在賺點錢才有實力請小姐姐...',\n",
       "   '顏值天花板\\n賞心悅目😍\\n\\n（你是我的榮耀 ep. 05)'],\n",
       "  '😍'),\n",
       " (['白貓日\\n通靈王合作只有抽到安娜\\n我沒石頭了😮\\u200d💨\\n ', 'gmail的表情符號變了!😮', '妖魔鬼怪😮\\u200d💨'],\n",
       "  '😮')]"
      ]
     },
     "execution_count": 48,
     "metadata": {},
     "output_type": "execute_result"
    }
   ],
   "source": [
    "\"check here\"\n",
    "\" don't forget to reload from files\"\n",
    "[(fetched_emos[key][-3:], emoji_list[key]) for key in emotion_to_fetch]"
   ]
  },
  {
   "cell_type": "code",
   "execution_count": 49,
   "metadata": {},
   "outputs": [
    {
     "name": "stdout",
     "output_type": "stream",
     "text": [
      "anger.pkl 😡 1736 ['[雜]\\n沒事做的值班日，我剛剛才發現電話沒插線（同事：😡 ', '走到YouBike車站才發現手機沒帶，回去拿就不想出門了…\\n天氣熱還要戴口罩真是要命，但現在不戴口罩才真是不要命 😓😵😡😠👿', '[問題] 小林的最後一球跟2013台日哪個比較痛\\n\\n笑死\\n絕對是2013經典賽\\n還有2008中台戰\\n😡😡😡😡']\n",
      "fear.pkl 😨 832 ['想說為什麼我無法獲得場刊，事前通販怎麼不見了\\n結果是我自己錯過了，還兩次，我怎麼不去吃大便😨😨😨', '世界まる見え!戦慄の瞬間SP!\\n\\n台灣那個風箏捲女孩事件真的很可怕😨\\n現在重看畫面也心有餘悸啊⋯ ', '@Moleaf - 現實的花痴好可怕😨 還好我認識圈內夢女們 自愚自樂的樣子可愛多了\\n人類社會重複的事重複發生\\n不管什麼圈子👀']\n",
      "love.pkl 😍 6467 ['既然沒有漢吉那就收約翰吧\\n約翰真的超可愛的😍💕', '日結大神為了約3個漂亮的小姐姐😍😍，要發奮圖強去幹日結了👍，今天賺了154塊錢，在賺點錢才有實力請小姐姐...', '顏值天花板\\n賞心悅目😍\\n\\n（你是我的榮耀 ep. 05)']\n",
      "surprise.pkl 😮 1406 ['白貓日\\n通靈王合作只有抽到安娜\\n我沒石頭了😮\\u200d💨\\n ', 'gmail的表情符號變了!😮', '妖魔鬼怪😮\\u200d💨']\n"
     ]
    }
   ],
   "source": [
    "\"read from new_dir to check!\"\n",
    "for ele in list(os.walk(new_dir))[0][2]:\n",
    "    with open(new_dir/ele, \"rb\") as f:\n",
    "        tmp = pickle.load(f)\n",
    "    print(ele, emoji_list[ele[:ele.index(\".\")]], len(tmp), tmp[-3:])"
   ]
  },
  {
   "cell_type": "code",
   "execution_count": null,
   "metadata": {},
   "outputs": [],
   "source": []
  }
 ],
 "metadata": {
  "kernelspec": {
   "display_name": "Python 3.7.9 ('AI_sheng')",
   "language": "python",
   "name": "python3"
  },
  "language_info": {
   "codemirror_mode": {
    "name": "ipython",
    "version": 3
   },
   "file_extension": ".py",
   "mimetype": "text/x-python",
   "name": "python",
   "nbconvert_exporter": "python",
   "pygments_lexer": "ipython3",
   "version": "3.7.9"
  },
  "orig_nbformat": 4,
  "vscode": {
   "interpreter": {
    "hash": "9db77c7d38baf4b93e998a2213b9026a3d1545f748ab5419893b25caa4e3cb58"
   }
  }
 },
 "nbformat": 4,
 "nbformat_minor": 2
}
