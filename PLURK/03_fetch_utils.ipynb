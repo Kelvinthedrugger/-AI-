{
 "cells": [
  {
   "cell_type": "code",
   "execution_count": null,
   "metadata": {},
   "outputs": [],
   "source": [
    "#default_exp utils"
   ]
  },
  {
   "cell_type": "code",
   "execution_count": null,
   "metadata": {},
   "outputs": [],
   "source": [
    "#export\n",
    "from plurk.all import *"
   ]
  },
  {
   "cell_type": "code",
   "execution_count": null,
   "metadata": {},
   "outputs": [],
   "source": [
    "from acc import *\n",
    "acc_info"
   ]
  },
  {
   "cell_type": "code",
   "execution_count": null,
   "metadata": {},
   "outputs": [],
   "source": [
    "#export fetch_emoji\n",
    "\"just a test to see if it works\"\n",
    "def func1(): pass"
   ]
  },
  {
   "cell_type": "code",
   "execution_count": null,
   "metadata": {},
   "outputs": [],
   "source": [
    "#export fetch_emoji\n",
    "from functools import lru_cache\n",
    "@lru_cache(maxsize=1)\n",
    "def get_plurk():\n",
    "    from acc import acc_info\n",
    "    from plurk_oauth import PlurkAPI\n",
    "    plurk = PlurkAPI(acc_info[\"CONSUMER_KEY\"], acc_info[\"CONSUMER_SECRET\"])\n",
    "    plurk.authorize(acc_info[\"API_KEY\"], acc_info[\"API_SECRET\"])\n",
    "    return plurk"
   ]
  },
  {
   "cell_type": "code",
   "execution_count": null,
   "metadata": {},
   "outputs": [],
   "source": [
    "plurk = get_plurk()\n",
    "\"this varies since it's fetchec just in time\"\n",
    "tmp = plurk.callAPI(\"/APP/PlurkSearch/search\", options={\"query\":'😂', \"offset\":30})\n",
    "tmp[\"plurks\"][28][\"content_raw\"]"
   ]
  },
  {
   "cell_type": "markdown",
   "metadata": {},
   "source": [
    "## Hack around here\n",
    "\n",
    "### First problem: fetch old posts!!! (the 30 one is not enough...)"
   ]
  },
  {
   "cell_type": "code",
   "execution_count": null,
   "metadata": {},
   "outputs": [],
   "source": [
    "# looks like the offset can't be set over 30\n",
    "tmp_t = tmp[\"plurks\"]; len(tmp_t)"
   ]
  },
  {
   "cell_type": "code",
   "execution_count": null,
   "metadata": {},
   "outputs": [],
   "source": [
    "a = plurk.callAPI(\"/APP/Timeline/getPlurks\")\n",
    "a"
   ]
  },
  {
   "cell_type": "markdown",
   "metadata": {},
   "source": [
    "### Emoticons\n",
    "#### I didn't find this helpful TBH\n",
    "    emoticons[\"karma\"][25] denotes that the user has to have karma over 25 to use these emoticons. emoticons[\"recruited\"][10] means that the user has to have user.recruited >= 10 to use these emoticons. It's important to check for these things on the client as well, since the emoticon levels are checked in the models.\n",
    "\n",
    "    emoticons[\"custom\"] contains user's customized emoticions if this API is called using three-legged OAuth with user's access token.\n",
    "\n",
    "#### Ref: [link](\"https://www.plurk.com/API/2\")"
   ]
  },
  {
   "cell_type": "code",
   "execution_count": null,
   "metadata": {},
   "outputs": [],
   "source": [
    "b = plurk.callAPI(\"/APP/Emoticons/get\")\n",
    "for key in b:\n",
    "    print(key)"
   ]
  },
  {
   "cell_type": "code",
   "execution_count": 24,
   "metadata": {},
   "outputs": [
    {
     "data": {
      "text/plain": [
       "[['(bigeyes)',\n",
       "  'https://s.plurk.com/emoticons/platinum/7eb08028816df6e992e6.gif'],\n",
       " ['(funkydance)',\n",
       "  'https://s.plurk.com/emoticons/platinum/4dac81814b658885396e.gif'],\n",
       " ['(idiot)',\n",
       "  'https://s.plurk.com/emoticons/platinum/e377eeaca7bb2bbe04ed.gif']]"
      ]
     },
     "execution_count": 24,
     "metadata": {},
     "output_type": "execute_result"
    }
   ],
   "source": [
    "b[\"recruited\"]['10'][:3]"
   ]
  },
  {
   "cell_type": "code",
   "execution_count": 30,
   "metadata": {},
   "outputs": [
    {
     "name": "stdout",
     "output_type": "stream",
     "text": [
      "{'owner_id': 16675741, 'user_id': 16675741, 'plurk_id': 1508109502, 'posted': 'Sat, 30 Jul 2022 19:53:44 GMT', 'plurk_type': 0, 'is_unread': 0, 'limited_to': None, 'excluded': None, 'coins': 0, 'last_edited': None, 'qualifier': ':', 'content': 'This is for testing nod', 'content_raw': 'This is for testing nod', 'lang': 'tr_ch', 'response_count': 1, 'responses_seen': 0, 'no_comments': 0, 'porn': False, 'publish_to_followers': True, 'with_poll': False, 'has_gift': False, 'replurked': False, 'replurker_id': None, 'replurkers': [], 'replurkers_count': 0, 'replurkable': True, 'favorers': [], 'favorite_count': 0, 'anonymous': False, 'responded': 1, 'favorite': False, 'bookmark': False, 'mentioned': 0, 'qualifier_translated': ''}\n"
     ]
    }
   ],
   "source": [
    "for key in a[\"plurks\"]: print(key)"
   ]
  },
  {
   "cell_type": "code",
   "execution_count": 33,
   "metadata": {},
   "outputs": [
    {
     "data": {
      "text/plain": [
       "{'CONSUMER_KEY': 'jq5mU9ufmj6N',\n",
       " 'CONSUMER_SECRET': 'mNbClA7I1hbtsTM3uzCZMYcdQV1FtNMc',\n",
       " 'API_KEY': 'ltos2Uq9HQ9y',\n",
       " 'API_SECRET': 'HWVeZMuK3xOhSXXCZ2J7y28UFgiWG0XR',\n",
       " 'ver_code': 914488,\n",
       " 'user_id': 16675741}"
      ]
     },
     "execution_count": 33,
     "metadata": {},
     "output_type": "execute_result"
    }
   ],
   "source": [
    "acc_info"
   ]
  },
  {
   "cell_type": "code",
   "execution_count": 35,
   "metadata": {},
   "outputs": [
    {
     "data": {
      "text/plain": [
       "{'responses': [{'id': 79356922,\n",
       "   'user_id': 3196945,\n",
       "   'plurk_id': 16675741,\n",
       "   'content_raw': 'a-HA! (devil)',\n",
       "   'qualifier': 'says',\n",
       "   'posted': 'Mon, 08 Dec 2008 02:44:16 GMT',\n",
       "   'lang': 'en',\n",
       "   'content': 'a-HA! <img src=\"http://static.plurk.com/static/emoticons/gold/devil.gif\" class=\"emoticon\" alt=\"(devil)\" height=\"18\" />',\n",
       "   'last_edited': None,\n",
       "   'coins': None,\n",
       "   'editability': 0},\n",
       "  {'id': 79358555,\n",
       "   'user_id': 3196945,\n",
       "   'plurk_id': 16675741,\n",
       "   'content_raw': 'ayyaaaaaan! jan ka magaling mother @jarvik! HAHAHAHA',\n",
       "   'qualifier': 'says',\n",
       "   'posted': 'Mon, 08 Dec 2008 02:46:41 GMT',\n",
       "   'lang': 'en',\n",
       "   'content': 'ayyaaaaaan! jan ka magaling mother <a href=\"http://www.plurk.com/jarvik\" class=\"ex_link\">jarvik</a>! HAHAHAHA',\n",
       "   'last_edited': None,\n",
       "   'coins': None,\n",
       "   'editability': 0},\n",
       "  {'id': 79362243,\n",
       "   'user_id': 3196945,\n",
       "   'plurk_id': 16675741,\n",
       "   'content_raw': 'kung ano-ano nnaman iniicp o :)',\n",
       "   'qualifier': 'says',\n",
       "   'posted': 'Mon, 08 Dec 2008 02:52:26 GMT',\n",
       "   'lang': 'en',\n",
       "   'content': 'kung ano-ano nnaman iniicp o <img src=\"http://static.plurk.com/static/emoticons/basic/smile.gif\" class=\"emoticon\" alt=\":-)\" height=\"18\" />',\n",
       "   'last_edited': None,\n",
       "   'coins': None,\n",
       "   'editability': 0},\n",
       "  {'id': 79363769,\n",
       "   'user_id': 3196945,\n",
       "   'plurk_id': 16675741,\n",
       "   'content_raw': 'last night',\n",
       "   'qualifier': 'thinks',\n",
       "   'posted': 'Mon, 08 Dec 2008 02:54:42 GMT',\n",
       "   'lang': 'en',\n",
       "   'content': 'last night',\n",
       "   'last_edited': None,\n",
       "   'coins': None,\n",
       "   'editability': 0},\n",
       "  {'id': 79364005,\n",
       "   'user_id': 3196945,\n",
       "   'plurk_id': 16675741,\n",
       "   'content_raw': \"last night's KFC was SO bitin :)\",\n",
       "   'qualifier': 'thinks',\n",
       "   'posted': 'Mon, 08 Dec 2008 02:55:03 GMT',\n",
       "   'lang': 'en',\n",
       "   'content': 'last night\\'s KFC was SO bitin <img src=\"http://static.plurk.com/static/emoticons/basic/smile.gif\" class=\"emoticon\" alt=\":-)\" height=\"18\" />',\n",
       "   'last_edited': None,\n",
       "   'coins': None,\n",
       "   'editability': 0},\n",
       "  {'id': 79366166,\n",
       "   'user_id': 3196945,\n",
       "   'plurk_id': 16675741,\n",
       "   'content_raw': 'kase eh! Assuming eh hndi nman Assumptionista! :D Paulinian k dba?  (rofl)',\n",
       "   'qualifier': 'says',\n",
       "   'posted': 'Mon, 08 Dec 2008 02:58:05 GMT',\n",
       "   'lang': 'en',\n",
       "   'content': 'kase eh! Assuming eh hndi nman Assumptionista! <img src=\"http://static.plurk.com/static/emoticons/basic/grin.gif\" class=\"emoticon\" alt=\":-D\" height=\"18\" /> Paulinian k dba?  <img src=\"http://static.plurk.com/static/emoticons/gold/lol.gif\" class=\"emoticon\" alt=\"(rofl)\" height=\"18\" />',\n",
       "   'last_edited': None,\n",
       "   'coins': None,\n",
       "   'editability': 0},\n",
       "  {'id': 79367138,\n",
       "   'user_id': 3196945,\n",
       "   'plurk_id': 16675741,\n",
       "   'content_raw': 'hahahahaha',\n",
       "   'qualifier': 'says',\n",
       "   'posted': 'Mon, 08 Dec 2008 02:59:29 GMT',\n",
       "   'lang': 'en',\n",
       "   'content': 'hahahahaha',\n",
       "   'last_edited': None,\n",
       "   'coins': None,\n",
       "   'editability': 0},\n",
       "  {'id': 79368875,\n",
       "   'user_id': 3196945,\n",
       "   'plurk_id': 16675741,\n",
       "   'content_raw': 'ay ewan. not listening haha',\n",
       "   'qualifier': 'says',\n",
       "   'posted': 'Mon, 08 Dec 2008 03:02:06 GMT',\n",
       "   'lang': 'en',\n",
       "   'content': 'ay ewan. not listening haha',\n",
       "   'last_edited': None,\n",
       "   'coins': None,\n",
       "   'editability': 0},\n",
       "  {'id': 79370263,\n",
       "   'user_id': 3196945,\n",
       "   'plurk_id': 16675741,\n",
       "   'content_raw': '(gym)cge sayaw!!',\n",
       "   'qualifier': 'says',\n",
       "   'posted': 'Mon, 08 Dec 2008 03:04:08 GMT',\n",
       "   'lang': 'en',\n",
       "   'content': '<img src=\"http://static.plurk.com/static/emoticons/gold/gym.gif\" class=\"emoticon\" alt=\"(gym)\" height=\"18\" />cge sayaw!!',\n",
       "   'last_edited': None,\n",
       "   'coins': None,\n",
       "   'editability': 0}],\n",
       " 'responses_seen': 20,\n",
       " 'response_count': 20,\n",
       " 'friends': {'3196945': {'id': 3196945,\n",
       "   'has_profile_image': 1,\n",
       "   'timeline_privacy': 0,\n",
       "   'nick_name': 'annacg',\n",
       "   'display_name': 'Lai',\n",
       "   'date_of_birth': 'Thu, 01 Jan 1970 00:01:00 GMT',\n",
       "   'avatar': 10,\n",
       "   'gender': 0,\n",
       "   'karma': 0.0,\n",
       "   'premium': False,\n",
       "   'verified_account': False,\n",
       "   'dateformat': 0,\n",
       "   'default_lang': 'en',\n",
       "   'friend_list_privacy': 'public',\n",
       "   'name_color': None,\n",
       "   'full_name': 'Lai',\n",
       "   'location': 'Quezon City, Philippines',\n",
       "   'timezone': None,\n",
       "   'phone_verified': None,\n",
       "   'bday_privacy': 0,\n",
       "   'pinned_plurk_id': None,\n",
       "   'background_id': 0,\n",
       "   'show_ads': True,\n",
       "   'show_location': 1}}}"
      ]
     },
     "execution_count": 35,
     "metadata": {},
     "output_type": "execute_result"
    }
   ],
   "source": [
    "plurk.callAPI(\"/APP/Responses/get\",options={\"plurk_id\":acc_info[\"user_id\"]})"
   ]
  },
  {
   "cell_type": "code",
   "execution_count": null,
   "metadata": {},
   "outputs": [],
   "source": []
  }
 ],
 "metadata": {
  "kernelspec": {
   "display_name": "Python 3.7.9 ('AI_sheng')",
   "language": "python",
   "name": "python3"
  },
  "language_info": {
   "codemirror_mode": {
    "name": "ipython",
    "version": 3
   },
   "file_extension": ".py",
   "mimetype": "text/x-python",
   "name": "python",
   "nbconvert_exporter": "python",
   "pygments_lexer": "ipython3",
   "version": "3.7.9"
  },
  "orig_nbformat": 4,
  "vscode": {
   "interpreter": {
    "hash": "9db77c7d38baf4b93e998a2213b9026a3d1545f748ab5419893b25caa4e3cb58"
   }
  }
 },
 "nbformat": 4,
 "nbformat_minor": 2
}
