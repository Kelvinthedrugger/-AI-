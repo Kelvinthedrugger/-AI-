{
 "cells": [
  {
   "cell_type": "code",
   "execution_count": 1,
   "metadata": {},
   "outputs": [
    {
     "data": {
      "text/plain": [
       "{'CONSUMER_KEY': 'jq5mU9ufmj6N',\n",
       " 'CONSUMER_SECRET': 'mNbClA7I1hbtsTM3uzCZMYcdQV1FtNMc',\n",
       " 'API_KEY': 'ltos2Uq9HQ9y',\n",
       " 'API_SECRET': 'HWVeZMuK3xOhSXXCZ2J7y28UFgiWG0XR',\n",
       " 'ver_code': 914488,\n",
       " 'user_id': 16675741}"
      ]
     },
     "execution_count": 1,
     "metadata": {},
     "output_type": "execute_result"
    }
   ],
   "source": [
    "from acc import *\n",
    "from plurk_oauth import PlurkAPI\n",
    "\n",
    "acc_info"
   ]
  },
  {
   "cell_type": "code",
   "execution_count": 2,
   "metadata": {},
   "outputs": [],
   "source": [
    "plurk = PlurkAPI(acc_info[\"CONSUMER_KEY\"], acc_info[\"CONSUMER_SECRET\"])"
   ]
  },
  {
   "cell_type": "code",
   "execution_count": 3,
   "metadata": {},
   "outputs": [],
   "source": [
    "plurk.authorize(acc_info[\"API_KEY\"], acc_info[\"API_SECRET\"])"
   ]
  },
  {
   "cell_type": "code",
   "execution_count": 4,
   "metadata": {},
   "outputs": [
    {
     "name": "stdout",
     "output_type": "stream",
     "text": [
      "<class 'dict'>\n",
      "has_read_permission\n",
      "user_info\n",
      "friends_count\n",
      "fans_count\n",
      "privacy\n",
      "plurks\n",
      "plurks_users\n",
      "alerts_count\n",
      "unread_count\n"
     ]
    }
   ],
   "source": [
    "my_p = plurk.callAPI('/APP/Profile/getOwnProfile')\n",
    "print(type(my_p))\n",
    "for key in my_p:\n",
    "    print(key)"
   ]
  },
  {
   "cell_type": "code",
   "execution_count": 5,
   "metadata": {},
   "outputs": [
    {
     "data": {
      "text/plain": [
       "{'id': 16675741,\n",
       " 'has_profile_image': 0,\n",
       " 'timeline_privacy': 0,\n",
       " 'nick_name': 'hardhardhard123',\n",
       " 'display_name': 'hardhardhard123',\n",
       " 'date_of_birth': 'Fri, 10 Sep 1999 00:01:00 GMT',\n",
       " 'avatar': None,\n",
       " 'gender': 2,\n",
       " 'karma': 0.0,\n",
       " 'premium': False,\n",
       " 'verified_account': False,\n",
       " 'dateformat': 0,\n",
       " 'default_lang': 'tr_ch',\n",
       " 'friend_list_privacy': 'public',\n",
       " 'name_color': None,\n",
       " 'full_name': 'hardhardhard123',\n",
       " 'location': 'Tainan City, Taiwan',\n",
       " 'timezone': None,\n",
       " 'phone_verified': None,\n",
       " 'bday_privacy': 1,\n",
       " 'plurks_count': 1,\n",
       " 'response_count': 1,\n",
       " 'pinned_plurk_id': None,\n",
       " 'background_id': 0,\n",
       " 'show_ads': True,\n",
       " 'show_location': 1,\n",
       " 'profile_views': 0,\n",
       " 'avatar_small': 'https://www.plurk.com/static/default_small.gif',\n",
       " 'avatar_medium': 'https://www.plurk.com/static/default_medium.gif',\n",
       " 'avatar_big': 'https://www.plurk.com/static/default_big.gif',\n",
       " 'about': '',\n",
       " 'about_renderred': '',\n",
       " 'page_title': '',\n",
       " 'recruited': 0,\n",
       " 'relationship': 'not_saying',\n",
       " 'friends_count': 0,\n",
       " 'fans_count': 0,\n",
       " 'join_date': 'Wed, 29 Jun 2022 13:40:39 GMT',\n",
       " 'privacy': 'world',\n",
       " 'accept_private_plurk_from': 'all',\n",
       " 'post_anonymous_plurk': False,\n",
       " 'badges': [],\n",
       " 'link_facebook': False,\n",
       " 'setup_facebook_sync': False,\n",
       " 'setup_twitter_sync': False,\n",
       " 'setup_weibo_sync': False,\n",
       " 'filter': {'porn': 2, 'anonymous': 0, 'keywords': None},\n",
       " 'anniversary': {'years': None, 'days': None},\n",
       " 'phone_number': None,\n",
       " 'creature': 1,\n",
       " 'creature_url': 'https://s.plurk.com/creatures/big/72e28d113423eccdc548.png',\n",
       " 'creature_special': 1,\n",
       " 'creature_special_url': None,\n",
       " 'email': '890225kelvin@gmail.com',\n",
       " 'email_confirmed': True,\n",
       " 'uid': 16675741}"
      ]
     },
     "execution_count": 5,
     "metadata": {},
     "output_type": "execute_result"
    }
   ],
   "source": [
    "my_p[\"user_info\"]"
   ]
  },
  {
   "cell_type": "code",
   "execution_count": 8,
   "metadata": {},
   "outputs": [
    {
     "data": {
      "text/plain": [
       "[{'owner_id': 16675741,\n",
       "  'user_id': 16675741,\n",
       "  'plurk_id': 1508109502,\n",
       "  'posted': 'Sat, 30 Jul 2022 19:53:44 GMT',\n",
       "  'plurk_type': 0,\n",
       "  'is_unread': 0,\n",
       "  'limited_to': None,\n",
       "  'excluded': None,\n",
       "  'coins': 0,\n",
       "  'last_edited': None,\n",
       "  'qualifier': ':',\n",
       "  'content': 'This is for testing nod',\n",
       "  'content_raw': 'This is for testing nod',\n",
       "  'lang': 'tr_ch',\n",
       "  'response_count': 1,\n",
       "  'responses_seen': 0,\n",
       "  'no_comments': 0,\n",
       "  'porn': False,\n",
       "  'publish_to_followers': True,\n",
       "  'with_poll': False,\n",
       "  'has_gift': False,\n",
       "  'replurked': False,\n",
       "  'replurker_id': None,\n",
       "  'replurkers': [],\n",
       "  'replurkers_count': 0,\n",
       "  'replurkable': True,\n",
       "  'favorers': [],\n",
       "  'favorite_count': 0,\n",
       "  'anonymous': False,\n",
       "  'responded': 1,\n",
       "  'favorite': False,\n",
       "  'bookmark': False,\n",
       "  'mentioned': 0,\n",
       "  'qualifier_translated': ''}]"
      ]
     },
     "execution_count": 8,
     "metadata": {},
     "output_type": "execute_result"
    }
   ],
   "source": [
    "my_p[\"plurks\"]"
   ]
  },
  {
   "cell_type": "code",
   "execution_count": 6,
   "metadata": {},
   "outputs": [
    {
     "name": "stdout",
     "output_type": "stream",
     "text": [
      "{'plurk_users': {'3196945': {'id': 3196945, 'has_profile_image': 1, 'timeline_privacy': 0, 'nick_name': 'annacg', 'display_name': 'Lai', 'date_of_birth': 'Thu, 01 Jan 1970 00:01:00 GMT', 'avatar': 10, 'gender': 0, 'karma': 0.0, 'premium': False, 'verified_account': False, 'dateformat': 0, 'default_lang': 'en', 'friend_list_privacy': 'public', 'name_color': None, 'full_name': 'Lai', 'location': 'Quezon City, Philippines', 'timezone': None, 'phone_verified': None, 'bday_privacy': 0, 'pinned_plurk_id': None, 'background_id': 0, 'show_ads': True, 'show_location': 1}}, 'plurk': {'owner_id': 3196945, 'user_id': 3196945, 'plurk_id': 16675741, 'posted': 'Mon, 08 Dec 2008 02:39:17 GMT', 'plurk_type': 0, 'is_unread': 0, 'limited_to': None, 'excluded': None, 'coins': 0, 'last_edited': None, 'qualifier': 'thinks', 'content': 'last night was SO bitin <img src=\"http://static.plurk.com/static/emoticons/basic/smile.gif\" class=\"emoticon\" alt=\":-)\" height=\"18\" />', 'content_raw': 'last night was SO bitin :)', 'lang': 'en', 'response_count': 20, 'responses_seen': 0, 'no_comments': 0, 'porn': False, 'publish_to_followers': True, 'with_poll': False, 'has_gift': False, 'replurked': False, 'replurker_id': None, 'replurkers': [], 'replurkers_count': 0, 'replurkable': True, 'favorers': [], 'favorite_count': 0, 'anonymous': False, 'responded': 0, 'favorite': False, 'bookmark': False, 'mentioned': 0}, 'user': {'id': 3196945, 'has_profile_image': 1, 'timeline_privacy': 0, 'nick_name': 'annacg', 'display_name': 'Lai', 'date_of_birth': 'Thu, 01 Jan 1970 00:01:00 GMT', 'avatar': 10, 'gender': 0, 'karma': 0.0, 'premium': False, 'verified_account': False, 'dateformat': 0, 'default_lang': 'en', 'friend_list_privacy': 'public', 'name_color': None, 'full_name': 'Lai', 'location': 'Quezon City, Philippines', 'timezone': None, 'phone_verified': None, 'bday_privacy': 0, 'pinned_plurk_id': None, 'background_id': 0, 'show_ads': True, 'show_location': 1}}\n"
     ]
    }
   ],
   "source": [
    "\"\"\"\n",
    "get id from press <f12> on the web\n",
    "we might still need the xpath sort of trick in the future, but not now\n",
    "\"\"\"\n",
    "print(plurk.callAPI('/APP/Timeline/getPlurk',options={\"plurk_id\": 16675741}))"
   ]
  },
  {
   "cell_type": "code",
   "execution_count": 7,
   "metadata": {},
   "outputs": [
    {
     "name": "stdout",
     "output_type": "stream",
     "text": [
      "{'plurk_users': {'3196945': {'id': 3196945, 'has_profile_image': 1, 'timeline_privacy': 0, 'nick_name': 'annacg', 'display_name': 'Lai', 'date_of_birth': 'Thu, 01 Jan 1970 00:01:00 GMT', 'avatar': 10, 'gender': 0, 'karma': 0.0, 'premium': False, 'verified_account': False, 'dateformat': 0, 'default_lang': 'en', 'friend_list_privacy': 'public', 'name_color': None, 'full_name': 'Lai', 'location': 'Quezon City, Philippines', 'timezone': None, 'phone_verified': None, 'bday_privacy': 0, 'pinned_plurk_id': None, 'background_id': 0, 'show_ads': True, 'show_location': 1}}, 'plurk': {'owner_id': 3196945, 'user_id': 3196945, 'plurk_id': 16675741, 'posted': 'Mon, 08 Dec 2008 02:39:17 GMT', 'plurk_type': 0, 'is_unread': 0, 'limited_to': None, 'excluded': None, 'coins': 0, 'last_edited': None, 'qualifier': 'thinks', 'content': 'last night was SO bitin <img src=\"http://static.plurk.com/static/emoticons/basic/smile.gif\" class=\"emoticon\" alt=\":-)\" height=\"18\" />', 'content_raw': 'last night was SO bitin :)', 'lang': 'en', 'response_count': 20, 'responses_seen': 0, 'no_comments': 0, 'porn': False, 'publish_to_followers': True, 'with_poll': False, 'has_gift': False, 'replurked': False, 'replurker_id': None, 'replurkers': [], 'replurkers_count': 0, 'replurkable': True, 'favorers': [], 'favorite_count': 0, 'anonymous': False, 'responded': 0, 'favorite': False, 'bookmark': False, 'mentioned': 0}, 'user': {'id': 3196945, 'has_profile_image': 1, 'timeline_privacy': 0, 'nick_name': 'annacg', 'display_name': 'Lai', 'date_of_birth': 'Thu, 01 Jan 1970 00:01:00 GMT', 'avatar': 10, 'gender': 0, 'karma': 0.0, 'premium': False, 'verified_account': False, 'dateformat': 0, 'default_lang': 'en', 'friend_list_privacy': 'public', 'name_color': None, 'full_name': 'Lai', 'location': 'Quezon City, Philippines', 'timezone': None, 'phone_verified': None, 'bday_privacy': 0, 'pinned_plurk_id': None, 'background_id': 0, 'show_ads': True, 'show_location': 1}}\n"
     ]
    }
   ],
   "source": [
    "print(plurk.callAPI('/APP/Timeline/getPlurk',options={\"plurk_id\": acc_info[\"user_id\"]}))"
   ]
  },
  {
   "cell_type": "markdown",
   "metadata": {},
   "source": [
    "### Someone else, which is super weird (we'll see it later)"
   ]
  },
  {
   "cell_type": "code",
   "execution_count": 14,
   "metadata": {},
   "outputs": [
    {
     "data": {
      "text/plain": [
       "dict"
      ]
     },
     "execution_count": 14,
     "metadata": {},
     "output_type": "execute_result"
    }
   ],
   "source": [
    "a = plurk.callAPI('/APP/Timeline/getPlurk',options={\"plurk_id\": acc_info[\"user_id\"]})\n",
    "type(a)"
   ]
  },
  {
   "cell_type": "code",
   "execution_count": 15,
   "metadata": {},
   "outputs": [
    {
     "name": "stdout",
     "output_type": "stream",
     "text": [
      "plurk_users\n",
      "plurk\n",
      "user\n"
     ]
    }
   ],
   "source": [
    "for key in a: print(key)"
   ]
  },
  {
   "cell_type": "code",
   "execution_count": 16,
   "metadata": {},
   "outputs": [
    {
     "data": {
      "text/plain": [
       "{'id': 3196945,\n",
       " 'has_profile_image': 1,\n",
       " 'timeline_privacy': 0,\n",
       " 'nick_name': 'annacg',\n",
       " 'display_name': 'Lai',\n",
       " 'date_of_birth': 'Thu, 01 Jan 1970 00:01:00 GMT',\n",
       " 'avatar': 10,\n",
       " 'gender': 0,\n",
       " 'karma': 0.0,\n",
       " 'premium': False,\n",
       " 'verified_account': False,\n",
       " 'dateformat': 0,\n",
       " 'default_lang': 'en',\n",
       " 'friend_list_privacy': 'public',\n",
       " 'name_color': None,\n",
       " 'full_name': 'Lai',\n",
       " 'location': 'Quezon City, Philippines',\n",
       " 'timezone': None,\n",
       " 'phone_verified': None,\n",
       " 'bday_privacy': 0,\n",
       " 'pinned_plurk_id': None,\n",
       " 'background_id': 0,\n",
       " 'show_ads': True,\n",
       " 'show_location': 1}"
      ]
     },
     "execution_count": 16,
     "metadata": {},
     "output_type": "execute_result"
    }
   ],
   "source": [
    "a[\"user\"]"
   ]
  },
  {
   "cell_type": "code",
   "execution_count": 21,
   "metadata": {},
   "outputs": [
    {
     "data": {
      "text/plain": [
       "{'3196945': {'id': 3196945,\n",
       "  'has_profile_image': 1,\n",
       "  'timeline_privacy': 0,\n",
       "  'nick_name': 'annacg',\n",
       "  'display_name': 'Lai',\n",
       "  'date_of_birth': 'Thu, 01 Jan 1970 00:01:00 GMT',\n",
       "  'avatar': 10,\n",
       "  'gender': 0,\n",
       "  'karma': 0.0,\n",
       "  'premium': False,\n",
       "  'verified_account': False,\n",
       "  'dateformat': 0,\n",
       "  'default_lang': 'en',\n",
       "  'friend_list_privacy': 'public',\n",
       "  'name_color': None,\n",
       "  'full_name': 'Lai',\n",
       "  'location': 'Quezon City, Philippines',\n",
       "  'timezone': None,\n",
       "  'phone_verified': None,\n",
       "  'bday_privacy': 0,\n",
       "  'pinned_plurk_id': None,\n",
       "  'background_id': 0,\n",
       "  'show_ads': True,\n",
       "  'show_location': 1}}"
      ]
     },
     "execution_count": 21,
     "metadata": {},
     "output_type": "execute_result"
    }
   ],
   "source": [
    "a[\"plurk_users\"]"
   ]
  },
  {
   "cell_type": "code",
   "execution_count": 22,
   "metadata": {},
   "outputs": [
    {
     "data": {
      "text/plain": [
       "{'owner_id': 3196945,\n",
       " 'user_id': 3196945,\n",
       " 'plurk_id': 16675741,\n",
       " 'posted': 'Mon, 08 Dec 2008 02:39:17 GMT',\n",
       " 'plurk_type': 0,\n",
       " 'is_unread': 0,\n",
       " 'limited_to': None,\n",
       " 'excluded': None,\n",
       " 'coins': 0,\n",
       " 'last_edited': None,\n",
       " 'qualifier': 'thinks',\n",
       " 'content': 'last night was SO bitin <img src=\"http://static.plurk.com/static/emoticons/basic/smile.gif\" class=\"emoticon\" alt=\":-)\" height=\"18\" />',\n",
       " 'content_raw': 'last night was SO bitin :)',\n",
       " 'lang': 'en',\n",
       " 'response_count': 20,\n",
       " 'responses_seen': 0,\n",
       " 'no_comments': 0,\n",
       " 'porn': False,\n",
       " 'publish_to_followers': True,\n",
       " 'with_poll': False,\n",
       " 'has_gift': False,\n",
       " 'replurked': False,\n",
       " 'replurker_id': None,\n",
       " 'replurkers': [],\n",
       " 'replurkers_count': 0,\n",
       " 'replurkable': True,\n",
       " 'favorers': [],\n",
       " 'favorite_count': 0,\n",
       " 'anonymous': False,\n",
       " 'responded': 0,\n",
       " 'favorite': False,\n",
       " 'bookmark': False,\n",
       " 'mentioned': 0}"
      ]
     },
     "execution_count": 22,
     "metadata": {},
     "output_type": "execute_result"
    }
   ],
   "source": [
    "a[\"plurk\"]"
   ]
  },
  {
   "cell_type": "markdown",
   "metadata": {},
   "source": [
    "### Get timeline posts"
   ]
  },
  {
   "cell_type": "code",
   "execution_count": 9,
   "metadata": {},
   "outputs": [
    {
     "name": "stdout",
     "output_type": "stream",
     "text": [
      "plurks\n",
      "plurk_users\n"
     ]
    }
   ],
   "source": [
    "pks = plurk.callAPI('/APP/Timeline/getPlurks')\n",
    "for key in pks:\n",
    "    print(key)"
   ]
  },
  {
   "cell_type": "markdown",
   "metadata": {},
   "source": [
    "### The post"
   ]
  },
  {
   "cell_type": "code",
   "execution_count": 10,
   "metadata": {},
   "outputs": [
    {
     "data": {
      "text/plain": [
       "[{'owner_id': 16675741,\n",
       "  'user_id': 16675741,\n",
       "  'plurk_id': 1508109502,\n",
       "  'posted': 'Sat, 30 Jul 2022 19:53:44 GMT',\n",
       "  'plurk_type': 0,\n",
       "  'is_unread': 0,\n",
       "  'limited_to': None,\n",
       "  'excluded': None,\n",
       "  'coins': 0,\n",
       "  'last_edited': None,\n",
       "  'qualifier': ':',\n",
       "  'content': 'This is for testing nod',\n",
       "  'content_raw': 'This is for testing nod',\n",
       "  'lang': 'tr_ch',\n",
       "  'response_count': 1,\n",
       "  'responses_seen': 0,\n",
       "  'no_comments': 0,\n",
       "  'porn': False,\n",
       "  'publish_to_followers': True,\n",
       "  'with_poll': False,\n",
       "  'has_gift': False,\n",
       "  'replurked': False,\n",
       "  'replurker_id': None,\n",
       "  'replurkers': [],\n",
       "  'replurkers_count': 0,\n",
       "  'replurkable': True,\n",
       "  'favorers': [],\n",
       "  'favorite_count': 0,\n",
       "  'anonymous': False,\n",
       "  'responded': 1,\n",
       "  'favorite': False,\n",
       "  'bookmark': False,\n",
       "  'mentioned': 0,\n",
       "  'qualifier_translated': ''}]"
      ]
     },
     "execution_count": 10,
     "metadata": {},
     "output_type": "execute_result"
    }
   ],
   "source": [
    "pks[\"plurks\"]"
   ]
  },
  {
   "cell_type": "code",
   "execution_count": 31,
   "metadata": {},
   "outputs": [
    {
     "name": "stdout",
     "output_type": "stream",
     "text": [
      "{'owner_id': 16675741, 'user_id': 16675741, 'plurk_id': 1508109502, 'posted': 'Sat, 30 Jul 2022 19:53:44 GMT', 'plurk_type': 0, 'is_unread': 0, 'limited_to': None, 'excluded': None, 'coins': 0, 'last_edited': None, 'qualifier': ':', 'content': 'This is for testing nod', 'content_raw': 'This is for testing nod', 'lang': 'tr_ch', 'response_count': 1, 'responses_seen': 0, 'no_comments': 0, 'porn': False, 'publish_to_followers': True, 'with_poll': False, 'has_gift': False, 'replurked': False, 'replurker_id': None, 'replurkers': [], 'replurkers_count': 0, 'replurkable': True, 'favorers': [], 'favorite_count': 0, 'anonymous': False, 'responded': 1, 'favorite': False, 'bookmark': False, 'mentioned': 0, 'qualifier_translated': ''}\n"
     ]
    }
   ],
   "source": [
    "for key in pks[\"plurks\"]: print(key)"
   ]
  },
  {
   "cell_type": "code",
   "execution_count": 32,
   "metadata": {},
   "outputs": [
    {
     "data": {
      "text/plain": [
       "list"
      ]
     },
     "execution_count": 32,
     "metadata": {},
     "output_type": "execute_result"
    }
   ],
   "source": [
    "type(pks[\"plurks\"])"
   ]
  },
  {
   "cell_type": "code",
   "execution_count": 33,
   "metadata": {},
   "outputs": [
    {
     "data": {
      "text/plain": [
       "'This is for testing nod'"
      ]
     },
     "execution_count": 33,
     "metadata": {},
     "output_type": "execute_result"
    }
   ],
   "source": [
    "pks[\"plurks\"][0][\"content\"]"
   ]
  },
  {
   "cell_type": "markdown",
   "metadata": {},
   "source": [
    "### Here's the info of that someone ..."
   ]
  },
  {
   "cell_type": "code",
   "execution_count": 12,
   "metadata": {},
   "outputs": [
    {
     "data": {
      "text/plain": [
       "{'16675741': {'id': 16675741,\n",
       "  'has_profile_image': 0,\n",
       "  'timeline_privacy': 0,\n",
       "  'nick_name': 'hardhardhard123',\n",
       "  'display_name': 'hardhardhard123',\n",
       "  'date_of_birth': 'Sat, 10 Sep 1904 00:01:01 GMT',\n",
       "  'avatar': None,\n",
       "  'gender': 2,\n",
       "  'karma': 0.0,\n",
       "  'premium': False,\n",
       "  'verified_account': False,\n",
       "  'dateformat': 0,\n",
       "  'default_lang': 'tr_ch',\n",
       "  'friend_list_privacy': 'public',\n",
       "  'name_color': None,\n",
       "  'full_name': 'hardhardhard123',\n",
       "  'location': 'Tainan City, Taiwan',\n",
       "  'timezone': None,\n",
       "  'phone_verified': None,\n",
       "  'bday_privacy': 1,\n",
       "  'pinned_plurk_id': None,\n",
       "  'background_id': 0,\n",
       "  'show_ads': True,\n",
       "  'show_location': 1}}"
      ]
     },
     "execution_count": 12,
     "metadata": {},
     "output_type": "execute_result"
    }
   ],
   "source": [
    "pks[\"plurk_users\"]"
   ]
  },
  {
   "cell_type": "code",
   "execution_count": 24,
   "metadata": {},
   "outputs": [
    {
     "name": "stdout",
     "output_type": "stream",
     "text": [
      "are_friends\n",
      "is_fan\n",
      "is_following\n",
      "is_following_replurk\n",
      "friend_status\n",
      "blocked_by_me\n",
      "alias\n",
      "has_read_permission\n",
      "plurks\n",
      "user_info\n",
      "friends_count\n",
      "fans_count\n",
      "privacy\n"
     ]
    }
   ],
   "source": [
    "\"\"\"Someone else, which is scary !!!\"\"\"\n",
    "t = plurk.callAPI('/APP/Profile/getPublicProfile', options={\"user_id\": 3196945})\n",
    "\n",
    "for key in t: print(key)"
   ]
  },
  {
   "cell_type": "code",
   "execution_count": 25,
   "metadata": {},
   "outputs": [
    {
     "data": {
      "text/plain": [
       "{'id': 3196945,\n",
       " 'has_profile_image': 1,\n",
       " 'timeline_privacy': 0,\n",
       " 'nick_name': 'annacg',\n",
       " 'display_name': 'Lai',\n",
       " 'date_of_birth': None,\n",
       " 'avatar': 10,\n",
       " 'gender': 0,\n",
       " 'karma': 0.0,\n",
       " 'premium': False,\n",
       " 'verified_account': False,\n",
       " 'dateformat': 0,\n",
       " 'default_lang': 'en',\n",
       " 'friend_list_privacy': 'public',\n",
       " 'name_color': None,\n",
       " 'full_name': 'Lai',\n",
       " 'location': 'Quezon City, Philippines',\n",
       " 'timezone': None,\n",
       " 'phone_verified': None,\n",
       " 'bday_privacy': 0,\n",
       " 'plurks_count': 780,\n",
       " 'response_count': 1697,\n",
       " 'pinned_plurk_id': None,\n",
       " 'background_id': 0,\n",
       " 'show_ads': True,\n",
       " 'show_location': 1,\n",
       " 'profile_views': 1175,\n",
       " 'avatar_small': 'https://avatars.plurk.com/3196945-small10.gif',\n",
       " 'avatar_medium': 'https://avatars.plurk.com/3196945-medium10.gif',\n",
       " 'avatar_big': 'https://avatars.plurk.com/3196945-big10.jpg',\n",
       " 'about': '',\n",
       " 'about_renderred': 'loves anything and everything purple, music, food, dance and loads more. and oh, i could be your favorite bitch <img src=\"http://statics.plurk.com/99ef3957ef779718546752b749bdeabd.gif\" class=\"emoticon\" alt=\":-)\" height=\"18\" />',\n",
       " 'page_title': 'POP!',\n",
       " 'recruited': 1,\n",
       " 'relationship': 'complicated',\n",
       " 'friends_count': 40,\n",
       " 'fans_count': 59,\n",
       " 'join_date': 'Mon, 13 Oct 2008 02:16:44 GMT',\n",
       " 'privacy': 'world',\n",
       " 'accept_private_plurk_from': 'all',\n",
       " 'post_anonymous_plurk': False,\n",
       " 'badges': ['1000_views',\n",
       "  '100_plurks',\n",
       "  '500_comments',\n",
       "  'upload_profile_image',\n",
       "  '50_fans'],\n",
       " 'uid': 3196945}"
      ]
     },
     "execution_count": 25,
     "metadata": {},
     "output_type": "execute_result"
    }
   ],
   "source": [
    "t[\"user_info\"]"
   ]
  },
  {
   "cell_type": "code",
   "execution_count": null,
   "metadata": {},
   "outputs": [],
   "source": []
  }
 ],
 "metadata": {
  "kernelspec": {
   "display_name": "Python 3.7.9 64-bit",
   "language": "python",
   "name": "python3"
  },
  "language_info": {
   "codemirror_mode": {
    "name": "ipython",
    "version": 3
   },
   "file_extension": ".py",
   "mimetype": "text/x-python",
   "name": "python",
   "nbconvert_exporter": "python",
   "pygments_lexer": "ipython3",
   "version": "3.7.9"
  },
  "orig_nbformat": 4,
  "vscode": {
   "interpreter": {
    "hash": "c56cc201f676f664f151ba484ed4943d7f34dbf6a5c25e8d66425f202492a767"
   }
  }
 },
 "nbformat": 4,
 "nbformat_minor": 2
}
