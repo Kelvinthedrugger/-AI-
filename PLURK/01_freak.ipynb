{
 "cells": [
  {
   "cell_type": "code",
   "execution_count": 1,
   "metadata": {},
   "outputs": [
    {
     "data": {
      "text/plain": [
       "{'CONSUMER_KEY': 'jq5mU9ufmj6N',\n",
       " 'CONSUMER_SECRET': 'mNbClA7I1hbtsTM3uzCZMYcdQV1FtNMc',\n",
       " 'API_KEY': 'ltos2Uq9HQ9y',\n",
       " 'API_SECRET': 'HWVeZMuK3xOhSXXCZ2J7y28UFgiWG0XR',\n",
       " 'ver_code': '914488'}"
      ]
     },
     "execution_count": 1,
     "metadata": {},
     "output_type": "execute_result"
    }
   ],
   "source": [
    "from acc import *\n",
    "from plurk_oauth import PlurkAPI\n",
    "\n",
    "acc_info"
   ]
  },
  {
   "cell_type": "code",
   "execution_count": 2,
   "metadata": {},
   "outputs": [],
   "source": [
    "plurk = PlurkAPI(acc_info[\"CONSUMER_KEY\"], acc_info[\"CONSUMER_SECRET\"])"
   ]
  },
  {
   "cell_type": "code",
   "execution_count": 3,
   "metadata": {},
   "outputs": [],
   "source": [
    "plurk.authorize(acc_info[\"API_KEY\"], acc_info[\"API_SECRET\"])"
   ]
  },
  {
   "cell_type": "code",
   "execution_count": 7,
   "metadata": {},
   "outputs": [
    {
     "name": "stdout",
     "output_type": "stream",
     "text": [
      "<class 'dict'>\n",
      "has_read_permission\n",
      "user_info\n",
      "friends_count\n",
      "fans_count\n",
      "privacy\n",
      "plurks\n",
      "plurks_users\n",
      "alerts_count\n",
      "unread_count\n"
     ]
    }
   ],
   "source": [
    "my_p = plurk.callAPI('/APP/Profile/getOwnProfile')\n",
    "print(type(my_p))\n",
    "for key in my_p:\n",
    "    print(key)"
   ]
  },
  {
   "cell_type": "code",
   "execution_count": 6,
   "metadata": {},
   "outputs": [
    {
     "name": "stdout",
     "output_type": "stream",
     "text": [
      "{'plurk_users': {'3196945': {'id': 3196945, 'has_profile_image': 1, 'timeline_privacy': 0, 'nick_name': 'annacg', 'display_name': 'Lai', 'date_of_birth': 'Thu, 01 Jan 1970 00:01:00 GMT', 'avatar': 10, 'gender': 0, 'karma': 0.0, 'premium': False, 'verified_account': False, 'dateformat': 0, 'default_lang': 'en', 'friend_list_privacy': 'public', 'name_color': None, 'full_name': 'Lai', 'location': 'Quezon City, Philippines', 'timezone': None, 'phone_verified': None, 'bday_privacy': 0, 'pinned_plurk_id': None, 'background_id': 0, 'show_ads': True, 'show_location': 1}}, 'plurk': {'owner_id': 3196945, 'user_id': 3196945, 'plurk_id': 16675741, 'posted': 'Mon, 08 Dec 2008 02:39:17 GMT', 'plurk_type': 0, 'is_unread': 0, 'limited_to': None, 'excluded': None, 'coins': 0, 'last_edited': None, 'qualifier': 'thinks', 'content': 'last night was SO bitin <img src=\"http://static.plurk.com/static/emoticons/basic/smile.gif\" class=\"emoticon\" alt=\":-)\" height=\"18\" />', 'content_raw': 'last night was SO bitin :)', 'lang': 'en', 'response_count': 20, 'responses_seen': 0, 'no_comments': 0, 'porn': False, 'publish_to_followers': True, 'with_poll': False, 'has_gift': False, 'replurked': False, 'replurker_id': None, 'replurkers': [], 'replurkers_count': 0, 'replurkable': True, 'favorers': [], 'favorite_count': 0, 'anonymous': False, 'responded': 0, 'favorite': False, 'bookmark': False, 'mentioned': 0}, 'user': {'id': 3196945, 'has_profile_image': 1, 'timeline_privacy': 0, 'nick_name': 'annacg', 'display_name': 'Lai', 'date_of_birth': 'Thu, 01 Jan 1970 00:01:00 GMT', 'avatar': 10, 'gender': 0, 'karma': 0.0, 'premium': False, 'verified_account': False, 'dateformat': 0, 'default_lang': 'en', 'friend_list_privacy': 'public', 'name_color': None, 'full_name': 'Lai', 'location': 'Quezon City, Philippines', 'timezone': None, 'phone_verified': None, 'bday_privacy': 0, 'pinned_plurk_id': None, 'background_id': 0, 'show_ads': True, 'show_location': 1}}\n"
     ]
    }
   ],
   "source": [
    "\"\"\"\n",
    "get id from press <f12> on the web\n",
    "we might still need the xpath sort of trick in the future, but not now\n",
    "\"\"\"\n",
    "print(plurk.callAPI('/APP/Timeline/getPlurk',options={\"plurk_id\": 16675741}))"
   ]
  },
  {
   "cell_type": "code",
   "execution_count": null,
   "metadata": {},
   "outputs": [],
   "source": []
  }
 ],
 "metadata": {
  "kernelspec": {
   "display_name": "Python 3.7.9 64-bit",
   "language": "python",
   "name": "python3"
  },
  "language_info": {
   "codemirror_mode": {
    "name": "ipython",
    "version": 3
   },
   "file_extension": ".py",
   "mimetype": "text/x-python",
   "name": "python",
   "nbconvert_exporter": "python",
   "pygments_lexer": "ipython3",
   "version": "3.7.9"
  },
  "orig_nbformat": 4,
  "vscode": {
   "interpreter": {
    "hash": "c56cc201f676f664f151ba484ed4943d7f34dbf6a5c25e8d66425f202492a767"
   }
  }
 },
 "nbformat": 4,
 "nbformat_minor": 2
}
