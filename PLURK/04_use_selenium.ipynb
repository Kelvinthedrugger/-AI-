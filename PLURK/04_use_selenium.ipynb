{
 "cells": [
  {
   "cell_type": "code",
   "execution_count": null,
   "metadata": {},
   "outputs": [],
   "source": []
  },
  {
   "cell_type": "markdown",
   "metadata": {},
   "source": [
    "## Selenium\n",
    "    I'm tired you dog ...."
   ]
  },
  {
   "cell_type": "code",
   "execution_count": 2,
   "metadata": {},
   "outputs": [],
   "source": [
    "from functools import lru_cache\n",
    "# maxsize=1: 只能暫存一組帳號紀錄\n",
    "@lru_cache(maxsize=1)\n",
    "def get_info(reset=False):\n",
    "    # if user doesn't want to re-enter info\n",
    "    # and one has enter login before this program is exited\n",
    "    # if user wants to re-enter his/hers info:\n",
    "    #   clear the previous entered record\n",
    "    if reset == True:\n",
    "        print(\"clear previous entered info\")\n",
    "        get_info.cache_clear()\n",
    "    # if the user has entered account info\n",
    "    if get_info.cache_info().hits > 0:\n",
    "        print(\"hits: %d; entered, return\" % get_info.cache_info().hits)\n",
    "        return\n",
    "    # else, enter the info\n",
    "    return input(\"account: \"), input(\"password: \")\n",
    "\n",
    "\n",
    "# Attention: if you don't store the returned variable\n",
    "# , it'll automatically logout after exiting this function\n",
    "def login(reset=False, close_option=True, url=\"\", *args, **kwargs):\n",
    "    usr, pwd = get_info(reset=reset)\n",
    "    from time import sleep\n",
    "    from selenium import webdriver\n",
    "    from webdriver_manager.chrome import ChromeDriverManager\n",
    "    from selenium.webdriver.chrome.options import Options\n",
    "    option_ = Options()\n",
    "    if close_option == True:\n",
    "        option_.add_argument(\"disable-notifications\")\n",
    "    driver = webdriver.Chrome(ChromeDriverManager().install(), options=option_, *args, **kwargs)\n",
    "    driver.get(url)\n",
    "    print (\"Opened browser\")\n",
    "    sleep(0.5)\n",
    "\n",
    "    username_box = driver.find_element('id','email')\n",
    "    username_box.send_keys(usr)\n",
    "    print (\"Email Id entered\")\n",
    "    sleep(0.5)\n",
    "\n",
    "    password_box = driver.find_element('id','pass')\n",
    "    password_box.send_keys(pwd)\n",
    "    print (\"Password entered\")\n",
    "\n",
    "    login_box = driver.find_element('name','login')\n",
    "    login_box.click()\n",
    "    print (\"Login Done\")\n",
    "    sleep(0.5)\n",
    "    return driver\n"
   ]
  },
  {
   "cell_type": "code",
   "execution_count": 5,
   "metadata": {},
   "outputs": [
    {
     "name": "stdout",
     "output_type": "stream",
     "text": [
      "\n"
     ]
    },
    {
     "name": "stderr",
     "output_type": "stream",
     "text": [
      "<ipython-input-5-8f7337127b27>:18: DeprecationWarning: executable_path has been deprecated, please pass in a Service object\n",
      "  driver = webdriver.Chrome(ChromeDriverManager().install(), options=optionla)\n"
     ]
    }
   ],
   "source": [
    "from selenium import webdriver\n",
    "from time import sleep\n",
    "from webdriver_manager.chrome import ChromeDriverManager\n",
    "from selenium.webdriver.chrome.options import Options\n",
    "from selenium.webdriver.common.keys import Keys\n",
    "from selenium.webdriver.common.by import By\n",
    "from selenium.webdriver.support.ui import WebDriverWait\n",
    "from selenium.webdriver.support import expected_conditions as EC\n",
    "from selenium.webdriver.common.action_chains import ActionChains\n",
    "\n",
    "#先把通知都關掉，不然後面會點不到按鈕\n",
    "optionla = Options();\n",
    "optionla.add_argument(\"disable-notifications\");\n",
    "\n",
    "#輸入帳密\n",
    "usr, pwd = get_info()\n",
    "\n",
    "driver = webdriver.Chrome(ChromeDriverManager().install(), options=optionla)\n",
    "driver.get(\"https://www.plurk.com/login?r=\")\n"
   ]
  },
  {
   "cell_type": "code",
   "execution_count": 6,
   "metadata": {},
   "outputs": [],
   "source": [
    "key1 = driver.find_element(\"id\", \"input_nick_name\")\n",
    "key1.send_keys(usr)"
   ]
  },
  {
   "cell_type": "code",
   "execution_count": 7,
   "metadata": {},
   "outputs": [],
   "source": [
    "sleep(0.5)\n",
    "key2 = driver.find_element(\"id\", \"input_password\")\n",
    "key2.send_keys(pwd)"
   ]
  },
  {
   "cell_type": "code",
   "execution_count": 8,
   "metadata": {},
   "outputs": [
    {
     "name": "stdout",
     "output_type": "stream",
     "text": [
      "Login done!\n"
     ]
    }
   ],
   "source": [
    "sleep(0.5)\n",
    "driver.find_element(\"id\",\"login_submit\").click()\n",
    "print(\"Login done!\")"
   ]
  },
  {
   "cell_type": "code",
   "execution_count": 9,
   "metadata": {},
   "outputs": [],
   "source": [
    "driver.get(\"https://www.plurk.com/search?q=%F0%9F%98%82&date=2021-08\")"
   ]
  },
  {
   "cell_type": "code",
   "execution_count": null,
   "metadata": {},
   "outputs": [],
   "source": [
    "//*[@id=\"vert_timeline\"]/div[1]/div[4]/div/text()"
   ]
  },
  {
   "cell_type": "code",
   "execution_count": 13,
   "metadata": {},
   "outputs": [],
   "source": [
    "\"Works!\"\n",
    "posts = driver.find_elements('xpath','//*[@class=\"content\"]')"
   ]
  },
  {
   "cell_type": "code",
   "execution_count": 17,
   "metadata": {},
   "outputs": [
    {
     "data": {
      "text/plain": [
       "'少女漫画の実写化でヒーロー役を演じてほしい俳優ランキング！ 3位「横浜流星」、2位「佐藤健」、1位は？（...\\n為什麼不放第一名的照片😂😂 '"
      ]
     },
     "execution_count": 17,
     "metadata": {},
     "output_type": "execute_result"
    }
   ],
   "source": [
    "posts[0].text"
   ]
  },
  {
   "cell_type": "code",
   "execution_count": 19,
   "metadata": {},
   "outputs": [
    {
     "name": "stdout",
     "output_type": "stream",
     "text": [
      "post #0\n",
      "少女漫画の実写化でヒーロー役を演じてほしい俳優ランキング！ 3位「横浜流星」、2位「佐藤健」、1位は？（...\n",
      "為什麼不放第一名的照片😂😂 \n",
      "\n",
      "post #1\n",
      "我原本也有這樣想耶😂\n",
      "宗介昏倒了\n",
      "還會更新IG嗎😂\n",
      "\n",
      "post #2\n",
      "救生圈第四集\n",
      "沉重的主題簡直是夫妻必看聖經\n",
      "\n",
      "然後\n",
      "\n",
      "我看到了SixTONES粉絲在暴動😂\n",
      "\n",
      "post #3\n",
      "When you are a comedian 😂😂😂 and a GOLD MEDALIST 🏅🏅🏅\n",
      "\n",
      "超假掰\n",
      "\n",
      "post #4\n",
      "廢噗/\n",
      "這次的圖好好看 大家的穿著都好棒 影浦好會穿搭\n",
      "\n",
      "休斯和陽太郎真的也很可愛\n",
      "不過為何只有休斯衣服沒有新的款啊😂\n",
      "這不就是跟softmap同套嗎XD\n",
      "有啦 圍巾有換一條啦\n",
      "\n",
      "post #5\n",
      "🦐爆現在就是要改歷史就對了\n",
      "\n",
      "難得我有打影評的說😂\n",
      "\n",
      "#烈火英雄 #張哲瀚\n",
      "\n",
      "post #6\n",
      "最近重看國小的留言簿，看到那時候跟我互相喜歡但是沒有在一起的男生，他只留下姓名、生日和電話在那張紙上，對我的初見印象塗塗改改最後什麼也沒留下，但隱約可以看見寫著「氣質」（大概也只有他這樣看我😂\n",
      "一直以來對感情都很退縮，有時候覺得是不是去嘗試看看也很好\n",
      "\n",
      "post #7\n",
      "Cardigan - abani - Multifandom [Archive of Our Own]\n",
      "\n",
      "#紳士追殺令 #玩命鈔劫\n",
      "#CharlieHunnam #GuyRitchie #JasonStatham\n",
      "\n",
      "The Gentlemen: Charlie Hunnam and Hugh Grant Intervi...\n",
      "打個創作文，靈感來自這支訪談，查理提到The Gentlemen拍攝前蓋瑞奇親自帶他出去買衣服。\n",
      "\n",
      "看完Wrath Of Man裡面傑森史塔森的針織毛衣之後，才有了這一篇。\n",
      "\n",
      "（留言有雷）\n",
      "（沒有電影雷，是這篇fic的雷😂）\n",
      "\n",
      "post #8\n",
      "Cardigan - abani - Multifandom [Archive of Our Own]\n",
      "\n",
      "#創作肺紋 #紳士追殺令 #玩命鈔劫\n",
      "#CharlieHunnam #GuyRitchie #JasonStatham\n",
      "\n",
      "雖然這個fandom應該已經沒人理了但😂😂\n",
      "在家看完Wrath Of Man第二次後有了這個想法，需要寫出來以免它一直阻礙我讀書考專科😂 所以妄想出了這一小篇。\n",
      "\n",
      "The Gentlemen: Charlie Hunnam and Hugh Grant Intervi...\n",
      "靈感來自這支訪談，大概3:57的時候查理提到蓋瑞奇帶他出去買衣服的趣事。\n",
      "\n",
      "#查理蓋 和 #傑森蓋 都提到一點點，普遍級。\n",
      "\n",
      "（留言有這篇fic的雷）\n",
      "\n",
      "post #9\n",
      "實況旅人\n",
      "\n",
      "也太真實😂被誤會成小偷結果狂被檢舉wwwww\n",
      "\n",
      "post #10\n",
      "躺到下午才起床，再去拿已經到貨好幾天的雜誌，放假四天但兩天都在搬家，明天應該繼續耍廢😂\n",
      "\n",
      "post #11\n",
      "葬壽司😂😂\n",
      "\n",
      "post #12\n",
      "好耐冇返過実家訓😂 居住環境係一個問題😢\n",
      "空間又係另一個問題\n",
      "雖然返到屋企有隻小強出黎同我say hi\n",
      "But still feel like home\n",
      "#我仲住係到個時成功令咁多年黎都冇小強🤡\n",
      "\n",
      "post #13\n",
      "好無聊啊啊啊\n",
      "萬能的噗友們有沒有推薦什麼小說😢\n",
      "剛看完小蘑菇好空虛好短😂\n",
      "\n",
      "post #14\n",
      "【貓姊妹】一不小心又會變成久久發一次噗……這次分享的是被阿嬤說是：「姐愛我可以嗎？」🤔😂\n",
      "\n",
      "post #15\n",
      "[雜]\n",
      "こんにちは、新人VTuberです。\n",
      "\n",
      "啊哈哈哈哈哈哈哈😂😂😂 \n",
      "\n",
      "post #16\n",
      "也跟這裡的朋友報備一下好了\n",
      "雖然應該不會什麼人看😂\n",
      "\n",
      "最近我被一個男同事精神騷擾\n",
      "起初他說他喜歡我\n",
      "但後來一直私下傳一些污衊其他同事的訊息\n",
      "\n",
      "前天早上他打電話給我說晚上有人要加害我要我別去上班\n",
      "問題是我跟他所說的同事平常一點交集也沒有\n",
      "前天晚上我們一群人準備下班\n",
      "那位男同事騎了腳踏車來找我 還一直亂咆哮似乎真的認為附近有誰要害我\n",
      "之前在電話裡問他為什麼這樣想\n",
      "他說「他的神是預知之神，祂告訴我有人要害你」 當下我真的傻眼 他媽的又一個信教信到變成精神病的\n",
      "\n",
      "post #17\n",
      "那個🤔🤔有沒有人可以告訴我什麼是ㄈㄈ😂😂😂\n",
      "我朋友跟我講話的每一句結尾都會加一個ㄈ😂😂\n",
      "\n",
      "post #18\n",
      "[ヘタリア] 今集突然又咁短😂\n",
      "美俄大戰一觸即發(?!)\n",
      "[391話]ヘタリア World☆Stars - 日丸屋秀和 | 少年ジャンプ＋\n",
      "\n",
      "post #19\n",
      "ไม่น่าเชื่อ!!! ว่า “เต” จะทำกับ “คริส” ได้ลง | กระหา...\n",
      "每次看Tay都很好笑，自帶綜藝氣質😂\n",
      "\n",
      "post #20\n",
      "今天騎車通勤的旅人有覺得今天車子特別多特別塞嗎？\n",
      "明天要在早點出門😂\n",
      "\n",
      "post #21\n",
      "太一不是大頭照就算了還拿蛋糕😂😂😂\n",
      "\n",
      "A very happy birthday (September 2) to Taichi Kokubun of tokioinc_2021!\n",
      "Johnny & Associates on Twitter\n",
      "\n",
      "post #22\n",
      "Every Composer's Most Famous Piece (Part 1)\n",
      "新片\n",
      "老闆好帥\n",
      "全部都有聽過，但沒幾首叫得出名字\n",
      "到了這個年紀，聽到熟悉的音樂就會認真思考今天到底要不要丟垃圾😂\n",
      "\n",
      "post #23\n",
      "上博客來買了這本打算刺激一把，然而我錯了😂\n",
      "恐怖指數一顆星……還算多了……\n",
      "比起說是靈異小說，其實就是本言情小說吧，只不過服務的對象是男的。\n",
      "要我起個比較貼合的書名的話，應該是《霸道女道士愛上我》\n",
      "\n",
      "post #24\n",
      "[學習當馬路三寶DAY20]\n",
      "可能因為昨天上路表現太差，今天就一整個反差XD 所有檢查動作都有講出來，順序也都對，上路的時候有保持安全距離、沒超速、變換車道沒壓線，就是順順的開完啦~連教練都說我今天表現很好，不過主要原因是今天幾乎沒有突發狀況啊(雖然有突然殺出來的機車🤣)，希望考照那天可以像今天一樣順順的，路上的車子行行好啊😣\n",
      "場考的部分今天可能因為大家輪流開去外面，所以場上剩沒幾台車，就完全不用排隊的練了好幾圈😊 繫上安全帶之後變得不太好探頭出去看距離，主要影響的就是S型車道，就真的要稍微停一下，扯一下安全帶再探頭出去🤣 算了扣分8就扣8分，如果因為沒看結果壓管就是直接出局，這樣太慘😂\n",
      "下課後去監理站看了一下集合的位置，發現旁邊剛好在考機車路考，覺得真有趣🤭\n",
      "#把握明天最後一次的練習 #相信自己\n",
      "\n",
      "post #25\n",
      "還好有找到...當初以為彈藥消耗可能很大，特別買了兩包環保材質的6mm BB彈結果至從拆包裝分裝百餘顆出來使用到現今分裝的要打完時臨時才想起要找原包裝，但一時又找不到回憶了2天，終於今日再靠著2月份的這張照片的線索在家裏找到這還沒打完的兩包BB彈😂差點又買了\n",
      "\n",
      "post #26\n",
      "今天去辦學習駕照+體檢，發現我又長高了？我會不會長到165公分啊😂\n",
      "\n",
      "post #27\n",
      "#非商業委託\n",
      "八月份完成的委託圖，畫了很多頭頭很開心~~\n",
      "大家的夢角都好可愛🤔️，第一張覺得女孩子很可愛，第二張畫好多頭頭蠻療癒的！第三張四個手部動作跟不同表情畫起來還很有趣的！😂謝謝委託人嗎😀\n",
      "\n",
      "post #28\n",
      "Night Doctor EP.5 murmur\n",
      "一開始看到網路有人討論他們不用敬語很不習慣，本來覺得還好，但經驗差很多，講話沒有前後輩之分真的挺怪的😂\n",
      "\n",
      "post #29\n",
      "週日要打AZ，如果死了沒關係，最害怕的是要死不死。\n",
      "有看到這篇文章的朋友記得好好愛護我😂😂\n",
      "\n",
      "post #30\n",
      "\n",
      "\n",
      "post #31\n",
      "\n",
      "\n"
     ]
    }
   ],
   "source": [
    "for i, ele in enumerate(posts): print(f\"post #{i}\");print(ele.text,end=\"\\n\\n\")"
   ]
  },
  {
   "cell_type": "code",
   "execution_count": 20,
   "metadata": {},
   "outputs": [],
   "source": [
    "\"Scroll down, and then fetch the posts of that page\"\n",
    "driver.execute_script(\"window.scrollTo(0,document.body.scrollHeight)\")\n",
    "sleep(1)"
   ]
  },
  {
   "cell_type": "code",
   "execution_count": 21,
   "metadata": {},
   "outputs": [],
   "source": [
    "for _ in range(10):\n",
    "    driver.execute_script(\"window.scrollTo(0,document.body.scrollHeight)\")\n",
    "    sleep(1)\n"
   ]
  },
  {
   "cell_type": "code",
   "execution_count": 22,
   "metadata": {},
   "outputs": [],
   "source": [
    "for _ in range(20):\n",
    "    driver.execute_script(\"window.scrollTo(0,document.body.scrollHeight)\")\n",
    "    sleep(1)\n"
   ]
  },
  {
   "cell_type": "code",
   "execution_count": 23,
   "metadata": {},
   "outputs": [],
   "source": [
    "\"300 scrolls is probably not enough\"\n",
    "for _ in range(300):\n",
    "    driver.execute_script(\"window.scrollTo(0,document.body.scrollHeight)\")\n",
    "    sleep(1)\n"
   ]
  },
  {
   "cell_type": "code",
   "execution_count": 25,
   "metadata": {},
   "outputs": [],
   "source": [
    "driver.execute_script(\"window.scrollTo(0,Math.max(document.documentElement.scrollHeight,\" + \"document.body.scrollHeight,document.documentElement.clientHeight));\")"
   ]
  },
  {
   "cell_type": "code",
   "execution_count": 30,
   "metadata": {},
   "outputs": [],
   "source": [
    "\"try to ust Ctrl+F to hit the bottom quickly\"\n",
    "ActionChains(driver).send_keys(\"Ctrl F\").perform()"
   ]
  },
  {
   "cell_type": "code",
   "execution_count": 31,
   "metadata": {},
   "outputs": [
    {
     "data": {
      "text/plain": [
       "2192"
      ]
     },
     "execution_count": 31,
     "metadata": {},
     "output_type": "execute_result"
    }
   ],
   "source": [
    "posts_longer = driver.find_elements('xpath','//*[@class=\"content\"]')\n",
    "len(posts_longer)"
   ]
  },
  {
   "cell_type": "code",
   "execution_count": 38,
   "metadata": {},
   "outputs": [],
   "source": [
    "#from plurk.fetch_emoji import write_fetch_result\n",
    "#write_fetch_result?\n",
    "\"something wrong\"\n",
    "def write_fetch_result_for_selenium(filename,content, dirname=\"tmp_smile_first/\"):\n",
    "    from pathlib import Path\n",
    "    \"save the file\"\n",
    "    \"check if the folder exist first\"\n",
    "    if not os.path.isdir(Path(dirname)):\n",
    "        os.system(\"mkdir %s\" % dirname)\n",
    "    else:\n",
    "        print(\"folder exists\")\n",
    "    \"write content into the file\"\n",
    "    if not os.path.isfile(Path(dirname+filename)):\n",
    "        with open(Path(dirname+filename), \"w\") as f:\n",
    "            cnt = 0\n",
    "            for ele in content:\n",
    "                f.write(\"\\n\\nfile #%d\\n\"%(cnt))\n",
    "                f.write(ele.text)\n",
    "                cnt += 1\n",
    "            f.close()\n",
    "    else:\n",
    "        print(\"is file, skipped\")\n"
   ]
  },
  {
   "cell_type": "code",
   "execution_count": 41,
   "metadata": {},
   "outputs": [
    {
     "data": {
      "text/plain": [
       "str"
      ]
     },
     "execution_count": 41,
     "metadata": {},
     "output_type": "execute_result"
    }
   ],
   "source": [
    "type(posts_longer[0].text)"
   ]
  },
  {
   "cell_type": "code",
   "execution_count": 42,
   "metadata": {},
   "outputs": [
    {
     "data": {
      "text/plain": [
       "'c:\\\\Users\\\\Kelvin\\\\Desktop\\\\ai_sheng\\\\OUR_REPO\\\\PLURK'"
      ]
     },
     "execution_count": 42,
     "metadata": {},
     "output_type": "execute_result"
    }
   ],
   "source": [
    "import os\n",
    "os.getcwd()"
   ]
  },
  {
   "cell_type": "code",
   "execution_count": 45,
   "metadata": {},
   "outputs": [],
   "source": [
    "from pathlib import Path\n",
    "\"save the file\"\n",
    "\"check if the folder exist first\"\n",
    "dirname = \"from_selenium/\"\n",
    "if not os.path.isdir(Path(dirname)):\n",
    "    os.system(\"mkdir %s\" % dirname)\n",
    "else:\n",
    "    print(\"folder exists\")\n"
   ]
  },
  {
   "cell_type": "code",
   "execution_count": 53,
   "metadata": {},
   "outputs": [
    {
     "data": {
      "text/plain": [
       "'c:\\\\Users\\\\Kelvin\\\\Desktop\\\\ai_sheng\\\\OUR_REPO\\\\PLURK\\\\from_selenium'"
      ]
     },
     "execution_count": 53,
     "metadata": {},
     "output_type": "execute_result"
    }
   ],
   "source": [
    "os.getcwd()+chr(92)+dirname[:-1]"
   ]
  },
  {
   "cell_type": "code",
   "execution_count": 55,
   "metadata": {},
   "outputs": [],
   "source": [
    "os.mkdir(Path(dirname))"
   ]
  },
  {
   "cell_type": "code",
   "execution_count": 56,
   "metadata": {},
   "outputs": [
    {
     "data": {
      "text/plain": [
       "True"
      ]
     },
     "execution_count": 56,
     "metadata": {},
     "output_type": "execute_result"
    }
   ],
   "source": [
    "os.path.isdir(Path(os.getcwd()+chr(92)+dirname[:-1]))"
   ]
  },
  {
   "cell_type": "code",
   "execution_count": 59,
   "metadata": {},
   "outputs": [],
   "source": [
    "\"Worked! modularize it now\"\n",
    "\"write content into the file\"\n",
    "filename = \"from_sel.txt\"\n",
    "content = posts_longer\n",
    "if not os.path.isfile(Path(dirname+filename)):\n",
    "    with open(Path(dirname+filename), \"w\") as f:\n",
    "        cnt = 0\n",
    "        for ele in content:\n",
    "            f.write(\"\\n\\nfile #%d\\n\"%(cnt))\n",
    "            f.write(ele.text)\n",
    "            cnt += 1\n",
    "        f.close()\n",
    "else:\n",
    "    print(\"is file, skipped\")"
   ]
  },
  {
   "cell_type": "code",
   "execution_count": null,
   "metadata": {},
   "outputs": [],
   "source": []
  }
 ],
 "metadata": {
  "kernelspec": {
   "display_name": "Python 3.8.8 ('base')",
   "language": "python",
   "name": "python3"
  },
  "language_info": {
   "codemirror_mode": {
    "name": "ipython",
    "version": 3
   },
   "file_extension": ".py",
   "mimetype": "text/x-python",
   "name": "python",
   "nbconvert_exporter": "python",
   "pygments_lexer": "ipython3",
   "version": "3.8.8"
  },
  "orig_nbformat": 4,
  "vscode": {
   "interpreter": {
    "hash": "e2e6ef08d5c68e8f2b193a159a8a1d001cdef218fb863802a3579938b197420f"
   }
  }
 },
 "nbformat": 4,
 "nbformat_minor": 2
}
