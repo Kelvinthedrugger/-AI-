{
 "cells": [
  {
   "cell_type": "code",
   "execution_count": 32,
   "metadata": {},
   "outputs": [],
   "source": [
    "#default_exp blah"
   ]
  },
  {
   "cell_type": "markdown",
   "metadata": {},
   "source": [
    "## Selenium\n",
    "    I'm tired you dog ...."
   ]
  },
  {
   "cell_type": "code",
   "execution_count": 33,
   "metadata": {},
   "outputs": [],
   "source": [
    "from functools import lru_cache\n",
    "# maxsize=1: 只能暫存一組帳號紀錄\n",
    "@lru_cache(maxsize=1)\n",
    "def get_info(reset=False):\n",
    "    # if user doesn't want to re-enter info\n",
    "    # and one has enter login before this program is exited\n",
    "    # if user wants to re-enter his/hers info:\n",
    "    #   clear the previous entered record\n",
    "    if reset == True:\n",
    "        print(\"clear previous entered info\")\n",
    "        get_info.cache_clear()\n",
    "    # if the user has entered account info\n",
    "    if get_info.cache_info().hits > 0:\n",
    "        print(\"hits: %d; entered, return\" % get_info.cache_info().hits)\n",
    "        return\n",
    "    # else, enter the info\n",
    "    return input(\"account: \"), input(\"password: \")"
   ]
  },
  {
   "cell_type": "markdown",
   "metadata": {},
   "source": [
    "## We don't even have to login!!!"
   ]
  },
  {
   "cell_type": "code",
   "execution_count": 4,
   "metadata": {},
   "outputs": [
    {
     "name": "stdout",
     "output_type": "stream",
     "text": [
      "\n"
     ]
    },
    {
     "name": "stderr",
     "output_type": "stream",
     "text": [
      "c:\\Users\\Kelvin\\anaconda3\\envs\\AI_sheng\\lib\\site-packages\\ipykernel_launcher.py:14: DeprecationWarning: executable_path has been deprecated, please pass in a Service object\n",
      "  \n"
     ]
    }
   ],
   "source": [
    "from selenium import webdriver\n",
    "from time import sleep\n",
    "from webdriver_manager.chrome import ChromeDriverManager\n",
    "from selenium.webdriver.chrome.options import Options\n",
    "from selenium.webdriver.common.keys import Keys\n",
    "from selenium.webdriver.common.by import By\n",
    "from selenium.webdriver.support.ui import WebDriverWait\n",
    "from selenium.webdriver.support import expected_conditions as EC\n",
    "from selenium.webdriver.common.action_chains import ActionChains\n",
    "\n",
    "#先把通知都關掉，不然後面會點不到按鈕\n",
    "optionla = Options();\n",
    "optionla.add_argument(\"disable-notifications\");\n",
    "driver = webdriver.Chrome(ChromeDriverManager().install(), options=optionla)"
   ]
  },
  {
   "cell_type": "code",
   "execution_count": 34,
   "metadata": {},
   "outputs": [
    {
     "name": "stdout",
     "output_type": "stream",
     "text": [
      "\n"
     ]
    },
    {
     "name": "stderr",
     "output_type": "stream",
     "text": [
      "c:\\Users\\Kelvin\\anaconda3\\envs\\AI_sheng\\lib\\site-packages\\ipykernel_launcher.py:18: DeprecationWarning: executable_path has been deprecated, please pass in a Service object\n"
     ]
    },
    {
     "name": "stdout",
     "output_type": "stream",
     "text": [
      "Login done!\n"
     ]
    }
   ],
   "source": [
    "\"\"\"\n",
    "driver.get(\"https://www.plurk.com/login?r=\")\n",
    "#輸入帳密\n",
    "usr, pwd = get_info()\n",
    "\n",
    "key1 = driver.find_element(\"id\", \"input_nick_name\")\n",
    "key1.send_keys(usr)\n",
    "sleep(0.5)\n",
    "key2 = driver.find_element(\"id\", \"input_password\")\n",
    "key2.send_keys(pwd)\n",
    "sleep(0.5)\n",
    "driver.find_element(\"id\",\"login_submit\").click()\n",
    "print(\"Login done!\")\n",
    "\"\"\""
   ]
  },
  {
   "cell_type": "markdown",
   "metadata": {},
   "source": [
    "### visit the result of search page directly\n",
    "#### pass list of dates and emojis when scaling "
   ]
  },
  {
   "cell_type": "code",
   "execution_count": 35,
   "metadata": {},
   "outputs": [],
   "source": [
    "driver.get(\"https://www.plurk.com/search?q=%F0%9F%98%82&date=2021-08\")\n",
    "sleep(1)"
   ]
  },
  {
   "cell_type": "code",
   "execution_count": 36,
   "metadata": {},
   "outputs": [],
   "source": [
    "\"Works!\"\n",
    "posts = driver.find_elements('xpath','//*[@class=\"content\"]')"
   ]
  },
  {
   "cell_type": "code",
   "execution_count": 37,
   "metadata": {},
   "outputs": [
    {
     "data": {
      "text/plain": [
       "'少女漫画の実写化でヒーロー役を演じてほしい俳優ランキング！ 3位「横浜流星」、2位「佐藤健」、1位は？（...\\n為什麼不放第一名的照片😂😂 '"
      ]
     },
     "execution_count": 37,
     "metadata": {},
     "output_type": "execute_result"
    }
   ],
   "source": [
    "posts[0].text"
   ]
  },
  {
   "cell_type": "code",
   "execution_count": 38,
   "metadata": {},
   "outputs": [
    {
     "name": "stdout",
     "output_type": "stream",
     "text": [
      "post #0\n",
      "少女漫画の実写化でヒーロー役を演じてほしい俳優ランキング！ 3位「横浜流星」、2位「佐藤健」、1位は？（...\n",
      "為什麼不放第一名的照片😂😂 \n",
      "\n",
      "post #1\n",
      "我原本也有這樣想耶😂\n",
      "宗介昏倒了\n",
      "還會更新IG嗎😂\n",
      "\n",
      "post #2\n",
      "救生圈第四集\n",
      "沉重的主題簡直是夫妻必看聖經\n",
      "\n",
      "然後\n",
      "\n",
      "我看到了SixTONES粉絲在暴動😂\n",
      "\n",
      "post #3\n",
      "When you are a comedian 😂😂😂 and a GOLD MEDALIST 🏅🏅🏅\n",
      "\n",
      "超假掰\n",
      "\n",
      "post #4\n",
      "廢噗/\n",
      "這次的圖好好看 大家的穿著都好棒 影浦好會穿搭\n",
      "\n",
      "休斯和陽太郎真的也很可愛\n",
      "不過為何只有休斯衣服沒有新的款啊😂\n",
      "這不就是跟softmap同套嗎XD\n",
      "有啦 圍巾有換一條啦\n",
      "\n",
      "post #5\n",
      "🦐爆現在就是要改歷史就對了\n",
      "\n",
      "難得我有打影評的說😂\n",
      "\n",
      "#烈火英雄 #張哲瀚\n",
      "\n",
      "post #6\n",
      "最近重看國小的留言簿，看到那時候跟我互相喜歡但是沒有在一起的男生，他只留下姓名、生日和電話在那張紙上，對我的初見印象塗塗改改最後什麼也沒留下，但隱約可以看見寫著「氣質」（大概也只有他這樣看我😂\n",
      "一直以來對感情都很退縮，有時候覺得是不是去嘗試看看也很好\n",
      "\n",
      "post #7\n",
      "Cardigan - abani - Multifandom [Archive of Our Own]\n",
      "\n",
      "#紳士追殺令 #玩命鈔劫\n",
      "#CharlieHunnam #GuyRitchie #JasonStatham\n",
      "\n",
      "The Gentlemen: Charlie Hunnam and Hugh Grant Intervi...\n",
      "打個創作文，靈感來自這支訪談，查理提到The Gentlemen拍攝前蓋瑞奇親自帶他出去買衣服。\n",
      "\n",
      "看完Wrath Of Man裡面傑森史塔森的針織毛衣之後，才有了這一篇。\n",
      "\n",
      "（留言有雷）\n",
      "（沒有電影雷，是這篇fic的雷😂）\n",
      "\n",
      "post #8\n",
      "Cardigan - abani - Multifandom [Archive of Our Own]\n",
      "\n",
      "#創作肺紋 #紳士追殺令 #玩命鈔劫\n",
      "#CharlieHunnam #GuyRitchie #JasonStatham\n",
      "\n",
      "雖然這個fandom應該已經沒人理了但😂😂\n",
      "在家看完Wrath Of Man第二次後有了這個想法，需要寫出來以免它一直阻礙我讀書考專科😂 所以妄想出了這一小篇。\n",
      "\n",
      "The Gentlemen: Charlie Hunnam and Hugh Grant Intervi...\n",
      "靈感來自這支訪談，大概3:57的時候查理提到蓋瑞奇帶他出去買衣服的趣事。\n",
      "\n",
      "#查理蓋 和 #傑森蓋 都提到一點點，普遍級。\n",
      "\n",
      "（留言有這篇fic的雷）\n",
      "\n",
      "post #9\n",
      "實況旅人\n",
      "\n",
      "也太真實😂被誤會成小偷結果狂被檢舉wwwww\n",
      "\n",
      "post #10\n",
      "躺到下午才起床，再去拿已經到貨好幾天的雜誌，放假四天但兩天都在搬家，明天應該繼續耍廢😂\n",
      "\n",
      "post #11\n",
      "葬壽司😂😂\n",
      "\n",
      "post #12\n",
      "好耐冇返過実家訓😂 居住環境係一個問題😢\n",
      "空間又係另一個問題\n",
      "雖然返到屋企有隻小強出黎同我say hi\n",
      "But still feel like home\n",
      "#我仲住係到個時成功令咁多年黎都冇小強🤡\n",
      "\n",
      "post #13\n",
      "好無聊啊啊啊\n",
      "萬能的噗友們有沒有推薦什麼小說😢\n",
      "剛看完小蘑菇好空虛好短😂\n",
      "\n",
      "post #14\n",
      "【貓姊妹】一不小心又會變成久久發一次噗……這次分享的是被阿嬤說是：「姐愛我可以嗎？」🤔😂\n",
      "\n",
      "post #15\n",
      "[雜]\n",
      "こんにちは、新人VTuberです。\n",
      "\n",
      "啊哈哈哈哈哈哈哈😂😂😂 \n",
      "\n",
      "post #16\n",
      "也跟這裡的朋友報備一下好了\n",
      "雖然應該不會什麼人看😂\n",
      "\n",
      "最近我被一個男同事精神騷擾\n",
      "起初他說他喜歡我\n",
      "但後來一直私下傳一些污衊其他同事的訊息\n",
      "\n",
      "前天早上他打電話給我說晚上有人要加害我要我別去上班\n",
      "問題是我跟他所說的同事平常一點交集也沒有\n",
      "前天晚上我們一群人準備下班\n",
      "那位男同事騎了腳踏車來找我 還一直亂咆哮似乎真的認為附近有誰要害我\n",
      "之前在電話裡問他為什麼這樣想\n",
      "他說「他的神是預知之神，祂告訴我有人要害你」 當下我真的傻眼 他媽的又一個信教信到變成精神病的\n",
      "\n",
      "post #17\n",
      "那個🤔🤔有沒有人可以告訴我什麼是ㄈㄈ😂😂😂\n",
      "我朋友跟我講話的每一句結尾都會加一個ㄈ😂😂\n",
      "\n",
      "post #18\n",
      "[ヘタリア] 今集突然又咁短😂\n",
      "美俄大戰一觸即發(?!)\n",
      "[391話]ヘタリア World☆Stars - 日丸屋秀和 | 少年ジャンプ＋\n",
      "\n",
      "post #19\n",
      "ไม่น่าเชื่อ!!! ว่า “เต” จะทำกับ “คริส” ได้ลง | กระหา...\n",
      "每次看Tay都很好笑，自帶綜藝氣質😂\n",
      "\n",
      "post #20\n",
      "今天騎車通勤的旅人有覺得今天車子特別多特別塞嗎？\n",
      "明天要在早點出門😂\n",
      "\n",
      "post #21\n",
      "太一不是大頭照就算了還拿蛋糕😂😂😂\n",
      "\n",
      "A very happy birthday (September 2) to Taichi Kokubun of tokioinc_2021!\n",
      "Johnny & Associates on Twitter\n",
      "\n",
      "post #22\n",
      "Every Composer's Most Famous Piece (Part 1)\n",
      "新片\n",
      "老闆好帥\n",
      "全部都有聽過，但沒幾首叫得出名字\n",
      "到了這個年紀，聽到熟悉的音樂就會認真思考今天到底要不要丟垃圾😂\n",
      "\n",
      "post #23\n",
      "上博客來買了這本打算刺激一把，然而我錯了😂\n",
      "恐怖指數一顆星……還算多了……\n",
      "比起說是靈異小說，其實就是本言情小說吧，只不過服務的對象是男的。\n",
      "要我起個比較貼合的書名的話，應該是《霸道女道士愛上我》\n",
      "\n",
      "post #24\n",
      "[學習當馬路三寶DAY20]\n",
      "可能因為昨天上路表現太差，今天就一整個反差XD 所有檢查動作都有講出來，順序也都對，上路的時候有保持安全距離、沒超速、變換車道沒壓線，就是順順的開完啦~連教練都說我今天表現很好，不過主要原因是今天幾乎沒有突發狀況啊(雖然有突然殺出來的機車🤣)，希望考照那天可以像今天一樣順順的，路上的車子行行好啊😣\n",
      "場考的部分今天可能因為大家輪流開去外面，所以場上剩沒幾台車，就完全不用排隊的練了好幾圈😊 繫上安全帶之後變得不太好探頭出去看距離，主要影響的就是S型車道，就真的要稍微停一下，扯一下安全帶再探頭出去🤣 算了扣分8就扣8分，如果因為沒看結果壓管就是直接出局，這樣太慘😂\n",
      "下課後去監理站看了一下集合的位置，發現旁邊剛好在考機車路考，覺得真有趣🤭\n",
      "#把握明天最後一次的練習 #相信自己\n",
      "\n",
      "post #25\n",
      "還好有找到...當初以為彈藥消耗可能很大，特別買了兩包環保材質的6mm BB彈結果至從拆包裝分裝百餘顆出來使用到現今分裝的要打完時臨時才想起要找原包裝，但一時又找不到回憶了2天，終於今日再靠著2月份的這張照片的線索在家裏找到這還沒打完的兩包BB彈😂差點又買了\n",
      "\n",
      "post #26\n",
      "今天去辦學習駕照+體檢，發現我又長高了？我會不會長到165公分啊😂\n",
      "\n",
      "post #27\n",
      "#非商業委託\n",
      "八月份完成的委託圖，畫了很多頭頭很開心~~\n",
      "大家的夢角都好可愛🤔️，第一張覺得女孩子很可愛，第二張畫好多頭頭蠻療癒的！第三張四個手部動作跟不同表情畫起來還很有趣的！😂謝謝委託人嗎😀\n",
      "\n",
      "post #28\n",
      "Night Doctor EP.5 murmur\n",
      "一開始看到網路有人討論他們不用敬語很不習慣，本來覺得還好，但經驗差很多，講話沒有前後輩之分真的挺怪的😂\n",
      "\n",
      "post #29\n",
      "週日要打AZ，如果死了沒關係，最害怕的是要死不死。\n",
      "有看到這篇文章的朋友記得好好愛護我😂😂\n",
      "\n"
     ]
    }
   ],
   "source": [
    "for i, ele in enumerate(posts): print(f\"post #{i}\");print(ele.text,end=\"\\n\\n\")"
   ]
  },
  {
   "cell_type": "code",
   "execution_count": 39,
   "metadata": {},
   "outputs": [
    {
     "data": {
      "text/plain": [
       "['少女漫画の実写化でヒーロー役を演じてほしい俳優ランキング！ 3位「横浜流星」、2位「佐藤健」、1位は？（...\\n為什麼不放第一名的照片😂😂 ',\n",
       " '我原本也有這樣想耶😂\\n宗介昏倒了\\n還會更新IG嗎😂',\n",
       " '救生圈第四集\\n沉重的主題簡直是夫妻必看聖經\\n\\n然後\\n\\n我看到了SixTONES粉絲在暴動😂']"
      ]
     },
     "execution_count": 39,
     "metadata": {},
     "output_type": "execute_result"
    }
   ],
   "source": [
    "[ele.text for ele in posts[:3]]"
   ]
  },
  {
   "cell_type": "code",
   "execution_count": 40,
   "metadata": {},
   "outputs": [],
   "source": [
    "#export\n",
    "import os\n",
    "from pathlib import Path\n",
    "base_dir = Path(\"from_pickle\")\n",
    "if not os.path.isdir(base_dir):\n",
    "    os.mkdir(base_dir)"
   ]
  },
  {
   "cell_type": "markdown",
   "metadata": {},
   "source": [
    "### Write file via pickle\n",
    "#### which will save the state of the variable !!"
   ]
  },
  {
   "cell_type": "code",
   "execution_count": 41,
   "metadata": {},
   "outputs": [],
   "source": [
    "#export\n",
    "import pickle"
   ]
  },
  {
   "cell_type": "code",
   "execution_count": 42,
   "metadata": {},
   "outputs": [],
   "source": [
    "filename = Path(base_dir/\"test_1.pkl\")"
   ]
  },
  {
   "cell_type": "markdown",
   "metadata": {},
   "source": [
    "### We only save the text part of each element in posts\n",
    "### since we don't need any other state for machine learning"
   ]
  },
  {
   "cell_type": "code",
   "execution_count": 43,
   "metadata": {},
   "outputs": [
    {
     "data": {
      "text/plain": [
       "True"
      ]
     },
     "execution_count": 43,
     "metadata": {},
     "output_type": "execute_result"
    }
   ],
   "source": [
    "filename.is_file()"
   ]
  },
  {
   "cell_type": "code",
   "execution_count": 44,
   "metadata": {},
   "outputs": [
    {
     "name": "stdout",
     "output_type": "stream",
     "text": [
      "from_pickle\\test_1.pkl exists, didn't do a thing\n"
     ]
    }
   ],
   "source": [
    "#export\n",
    "if not filename.is_file():\n",
    "    with open(filename, \"wb\") as f:\n",
    "        pickle.dump([ele.text for ele in posts], f)\n",
    "else:\n",
    "    print(f\"{filename} exists, didn't do a thing\")"
   ]
  },
  {
   "cell_type": "code",
   "execution_count": 45,
   "metadata": {},
   "outputs": [
    {
     "data": {
      "text/plain": [
       "(['少女漫画の実写化でヒーロー役を演じてほしい俳優ランキング！ 3位「横浜流星」、2位「佐藤健」、1位は？（...\\n為什麼不放第一名的照片😂😂 ',\n",
       "  '我原本也有這樣想耶😂\\n宗介昏倒了\\n還會更新IG嗎😂',\n",
       "  '救生圈第四集\\n沉重的主題簡直是夫妻必看聖經\\n\\n然後\\n\\n我看到了SixTONES粉絲在暴動😂'],\n",
       " 32)"
      ]
     },
     "execution_count": 45,
     "metadata": {},
     "output_type": "execute_result"
    }
   ],
   "source": [
    "#export\n",
    "\"read the file\"\n",
    "with open(Path(base_dir/\"test_1.pkl\"), \"rb\") as f:\n",
    "    reload_posts = pickle.load(f)\n",
    "\n",
    "reload_posts[:3], len(reload_posts)"
   ]
  },
  {
   "cell_type": "code",
   "execution_count": 46,
   "metadata": {},
   "outputs": [
    {
     "name": "stdout",
     "output_type": "stream",
     "text": [
      "post #0\n",
      "少女漫画の実写化でヒーロー役を演じてほしい俳優ランキング！ 3位「横浜流星」、2位「佐藤健」、1位は？（...\n",
      "為什麼不放第一名的照片😂😂 \n",
      "\n",
      "post #1\n",
      "我原本也有這樣想耶😂\n",
      "宗介昏倒了\n",
      "還會更新IG嗎😂\n",
      "\n",
      "post #2\n",
      "救生圈第四集\n",
      "沉重的主題簡直是夫妻必看聖經\n",
      "\n",
      "然後\n",
      "\n",
      "我看到了SixTONES粉絲在暴動😂\n",
      "\n",
      "post #3\n",
      "When you are a comedian 😂😂😂 and a GOLD MEDALIST 🏅🏅🏅\n",
      "\n",
      "超假掰\n",
      "\n",
      "post #4\n",
      "廢噗/\n",
      "這次的圖好好看 大家的穿著都好棒 影浦好會穿搭\n",
      "\n",
      "休斯和陽太郎真的也很可愛\n",
      "不過為何只有休斯衣服沒有新的款啊😂\n",
      "這不就是跟softmap同套嗎XD\n",
      "有啦 圍巾有換一條啦\n",
      "\n",
      "post #5\n",
      "🦐爆現在就是要改歷史就對了\n",
      "\n",
      "難得我有打影評的說😂\n",
      "\n",
      "#烈火英雄 #張哲瀚\n",
      "\n",
      "post #6\n",
      "最近重看國小的留言簿，看到那時候跟我互相喜歡但是沒有在一起的男生，他只留下姓名、生日和電話在那張紙上，對我的初見印象塗塗改改最後什麼也沒留下，但隱約可以看見寫著「氣質」（大概也只有他這樣看我😂\n",
      "一直以來對感情都很退縮，有時候覺得是不是去嘗試看看也很好\n",
      "\n",
      "post #7\n",
      "Cardigan - abani - Multifandom [Archive of Our Own]\n",
      "\n",
      "#紳士追殺令 #玩命鈔劫\n",
      "#CharlieHunnam #GuyRitchie #JasonStatham\n",
      "\n",
      "The Gentlemen: Charlie Hunnam and Hugh Grant Intervi...\n",
      "打個創作文，靈感來自這支訪談，查理提到The Gentlemen拍攝前蓋瑞奇親自帶他出去買衣服。\n",
      "\n",
      "看完Wrath Of Man裡面傑森史塔森的針織毛衣之後，才有了這一篇。\n",
      "\n",
      "（留言有雷）\n",
      "（沒有電影雷，是這篇fic的雷😂）\n",
      "\n",
      "post #8\n",
      "Cardigan - abani - Multifandom [Archive of Our Own]\n",
      "\n",
      "#創作肺紋 #紳士追殺令 #玩命鈔劫\n",
      "#CharlieHunnam #GuyRitchie #JasonStatham\n",
      "\n",
      "雖然這個fandom應該已經沒人理了但😂😂\n",
      "在家看完Wrath Of Man第二次後有了這個想法，需要寫出來以免它一直阻礙我讀書考專科😂 所以妄想出了這一小篇。\n",
      "\n",
      "The Gentlemen: Charlie Hunnam and Hugh Grant Intervi...\n",
      "靈感來自這支訪談，大概3:57的時候查理提到蓋瑞奇帶他出去買衣服的趣事。\n",
      "\n",
      "#查理蓋 和 #傑森蓋 都提到一點點，普遍級。\n",
      "\n",
      "（留言有這篇fic的雷）\n",
      "\n",
      "post #9\n",
      "實況旅人\n",
      "\n",
      "也太真實😂被誤會成小偷結果狂被檢舉wwwww\n",
      "\n",
      "post #10\n",
      "躺到下午才起床，再去拿已經到貨好幾天的雜誌，放假四天但兩天都在搬家，明天應該繼續耍廢😂\n",
      "\n",
      "post #11\n",
      "葬壽司😂😂\n",
      "\n",
      "post #12\n",
      "好耐冇返過実家訓😂 居住環境係一個問題😢\n",
      "空間又係另一個問題\n",
      "雖然返到屋企有隻小強出黎同我say hi\n",
      "But still feel like home\n",
      "#我仲住係到個時成功令咁多年黎都冇小強🤡\n",
      "\n",
      "post #13\n",
      "好無聊啊啊啊\n",
      "萬能的噗友們有沒有推薦什麼小說😢\n",
      "剛看完小蘑菇好空虛好短😂\n",
      "\n",
      "post #14\n",
      "【貓姊妹】一不小心又會變成久久發一次噗……這次分享的是被阿嬤說是：「姐愛我可以嗎？」🤔😂\n",
      "\n",
      "post #15\n",
      "[雜]\n",
      "こんにちは、新人VTuberです。\n",
      "\n",
      "啊哈哈哈哈哈哈哈😂😂😂 \n",
      "\n",
      "post #16\n",
      "也跟這裡的朋友報備一下好了\n",
      "雖然應該不會什麼人看😂\n",
      "\n",
      "最近我被一個男同事精神騷擾\n",
      "起初他說他喜歡我\n",
      "但後來一直私下傳一些污衊其他同事的訊息\n",
      "\n",
      "前天早上他打電話給我說晚上有人要加害我要我別去上班\n",
      "問題是我跟他所說的同事平常一點交集也沒有\n",
      "前天晚上我們一群人準備下班\n",
      "那位男同事騎了腳踏車來找我 還一直亂咆哮似乎真的認為附近有誰要害我\n",
      "之前在電話裡問他為什麼這樣想\n",
      "他說「他的神是預知之神，祂告訴我有人要害你」 當下我真的傻眼 他媽的又一個信教信到變成精神病的\n",
      "\n",
      "post #17\n",
      "那個🤔🤔有沒有人可以告訴我什麼是ㄈㄈ😂😂😂\n",
      "我朋友跟我講話的每一句結尾都會加一個ㄈ😂😂\n",
      "\n",
      "post #18\n",
      "[ヘタリア] 今集突然又咁短😂\n",
      "美俄大戰一觸即發(?!)\n",
      "[391話]ヘタリア World☆Stars - 日丸屋秀和 | 少年ジャンプ＋\n",
      "\n",
      "post #19\n",
      "ไม่น่าเชื่อ!!! ว่า “เต” จะทำกับ “คริส” ได้ลง | กระหา...\n",
      "每次看Tay都很好笑，自帶綜藝氣質😂\n",
      "\n",
      "post #20\n",
      "今天騎車通勤的旅人有覺得今天車子特別多特別塞嗎？\n",
      "明天要在早點出門😂\n",
      "\n",
      "post #21\n",
      "太一不是大頭照就算了還拿蛋糕😂😂😂\n",
      "\n",
      "A very happy birthday (September 2) to Taichi Kokubun of tokioinc_2021!\n",
      "Johnny & Associates on Twitter\n",
      "\n",
      "post #22\n",
      "Every Composer's Most Famous Piece (Part 1)\n",
      "新片\n",
      "老闆好帥\n",
      "全部都有聽過，但沒幾首叫得出名字\n",
      "到了這個年紀，聽到熟悉的音樂就會認真思考今天到底要不要丟垃圾😂\n",
      "\n",
      "post #23\n",
      "上博客來買了這本打算刺激一把，然而我錯了😂\n",
      "恐怖指數一顆星……還算多了……\n",
      "比起說是靈異小說，其實就是本言情小說吧，只不過服務的對象是男的。\n",
      "要我起個比較貼合的書名的話，應該是《霸道女道士愛上我》\n",
      "\n",
      "post #24\n",
      "[學習當馬路三寶DAY20]\n",
      "可能因為昨天上路表現太差，今天就一整個反差XD 所有檢查動作都有講出來，順序也都對，上路的時候有保持安全距離、沒超速、變換車道沒壓線，就是順順的開完啦~連教練都說我今天表現很好，不過主要原因是今天幾乎沒有突發狀況啊(雖然有突然殺出來的機車🤣)，希望考照那天可以像今天一樣順順的，路上的車子行行好啊😣\n",
      "場考的部分今天可能因為大家輪流開去外面，所以場上剩沒幾台車，就完全不用排隊的練了好幾圈😊 繫上安全帶之後變得不太好探頭出去看距離，主要影響的就是S型車道，就真的要稍微停一下，扯一下安全帶再探頭出去🤣 算了扣分8就扣8分，如果因為沒看結果壓管就是直接出局，這樣太慘😂\n",
      "下課後去監理站看了一下集合的位置，發現旁邊剛好在考機車路考，覺得真有趣🤭\n",
      "#把握明天最後一次的練習 #相信自己\n",
      "\n",
      "post #25\n",
      "還好有找到...當初以為彈藥消耗可能很大，特別買了兩包環保材質的6mm BB彈結果至從拆包裝分裝百餘顆出來使用到現今分裝的要打完時臨時才想起要找原包裝，但一時又找不到回憶了2天，終於今日再靠著2月份的這張照片的線索在家裏找到這還沒打完的兩包BB彈😂差點又買了\n",
      "\n",
      "post #26\n",
      "今天去辦學習駕照+體檢，發現我又長高了？我會不會長到165公分啊😂\n",
      "\n",
      "post #27\n",
      "#非商業委託\n",
      "八月份完成的委託圖，畫了很多頭頭很開心~~\n",
      "大家的夢角都好可愛🤔️，第一張覺得女孩子很可愛，第二張畫好多頭頭蠻療癒的！第三張四個手部動作跟不同表情畫起來還很有趣的！😂謝謝委託人嗎😀\n",
      "\n",
      "post #28\n",
      "Night Doctor EP.5 murmur\n",
      "一開始看到網路有人討論他們不用敬語很不習慣，本來覺得還好，但經驗差很多，講話沒有前後輩之分真的挺怪的😂\n",
      "\n",
      "post #29\n",
      "週日要打AZ，如果死了沒關係，最害怕的是要死不死。\n",
      "有看到這篇文章的朋友記得好好愛護我😂😂\n",
      "\n",
      "post #30\n",
      "\n",
      "\n",
      "post #31\n",
      "\n",
      "\n"
     ]
    }
   ],
   "source": [
    "for i, ele in enumerate(reload_posts): print(f\"post #{i}\");print(ele,end=\"\\n\\n\")"
   ]
  },
  {
   "cell_type": "code",
   "execution_count": 47,
   "metadata": {},
   "outputs": [
    {
     "ename": "KeyboardInterrupt",
     "evalue": "",
     "output_type": "error",
     "traceback": [
      "\u001b[1;31m---------------------------------------------------------------------------\u001b[0m",
      "\u001b[1;31mKeyboardInterrupt\u001b[0m                         Traceback (most recent call last)",
      "\u001b[1;32m~\\AppData\\Local\\Temp\\ipykernel_7112\\3190747075.py\u001b[0m in \u001b[0;36m<module>\u001b[1;34m\u001b[0m\n\u001b[0;32m      2\u001b[0m \u001b[1;32mfor\u001b[0m \u001b[0mi\u001b[0m \u001b[1;32min\u001b[0m \u001b[0mrange\u001b[0m\u001b[1;33m(\u001b[0m\u001b[1;36m300\u001b[0m\u001b[1;33m)\u001b[0m\u001b[1;33m:\u001b[0m\u001b[1;33m\u001b[0m\u001b[1;33m\u001b[0m\u001b[0m\n\u001b[0;32m      3\u001b[0m     \u001b[0mdriver\u001b[0m\u001b[1;33m.\u001b[0m\u001b[0mexecute_script\u001b[0m\u001b[1;33m(\u001b[0m\u001b[1;34m\"window.scrollTo(0,Math.max(document.documentElement.scrollHeight,\"\u001b[0m \u001b[1;33m+\u001b[0m \u001b[1;34m\"document.body.scrollHeight,document.documentElement.clientHeight));\"\u001b[0m\u001b[1;33m)\u001b[0m\u001b[1;33m\u001b[0m\u001b[1;33m\u001b[0m\u001b[0m\n\u001b[1;32m----> 4\u001b[1;33m     \u001b[0msleep\u001b[0m\u001b[1;33m(\u001b[0m\u001b[1;36m1\u001b[0m\u001b[1;33m)\u001b[0m\u001b[1;33m\u001b[0m\u001b[1;33m\u001b[0m\u001b[0m\n\u001b[0m",
      "\u001b[1;31mKeyboardInterrupt\u001b[0m: "
     ]
    }
   ],
   "source": [
    "#export\n",
    "for i in range(300):\n",
    "    driver.execute_script(\"window.scrollTo(0,Math.max(document.documentElement.scrollHeight,\" + \"document.body.scrollHeight,document.documentElement.clientHeight));\")\n",
    "    sleep(1)"
   ]
  },
  {
   "cell_type": "code",
   "execution_count": null,
   "metadata": {},
   "outputs": [
    {
     "data": {
      "text/plain": [
       "'try to ust Ctrl+F to hit the bottom quickly, not working now'"
      ]
     },
     "execution_count": 19,
     "metadata": {},
     "output_type": "execute_result"
    }
   ],
   "source": [
    "\"try to ust Ctrl+F to hit the bottom quickly, not working now\"\n",
    "#ActionChains(driver).send_keys(\"Ctrl F\").perform()"
   ]
  },
  {
   "cell_type": "code",
   "execution_count": null,
   "metadata": {},
   "outputs": [
    {
     "data": {
      "text/plain": [
       "2830"
      ]
     },
     "execution_count": 20,
     "metadata": {},
     "output_type": "execute_result"
    }
   ],
   "source": [
    "#export\n",
    "posts_longer = driver.find_elements('xpath','//*[@class=\"content\"]')"
   ]
  },
  {
   "cell_type": "code",
   "execution_count": null,
   "metadata": {},
   "outputs": [
    {
     "data": {
      "text/plain": [
       "2830"
      ]
     },
     "execution_count": 23,
     "metadata": {},
     "output_type": "execute_result"
    }
   ],
   "source": [
    "len(posts_longer)"
   ]
  },
  {
   "cell_type": "code",
   "execution_count": null,
   "metadata": {},
   "outputs": [
    {
     "data": {
      "text/plain": [
       "False"
      ]
     },
     "execution_count": 29,
     "metadata": {},
     "output_type": "execute_result"
    }
   ],
   "source": [
    "filename_1 = Path(base_dir/\"smile.pkl\")\n",
    "filename_1.is_file()"
   ]
  },
  {
   "cell_type": "code",
   "execution_count": null,
   "metadata": {},
   "outputs": [
    {
     "name": "stdout",
     "output_type": "stream",
     "text": [
      "Wall time: 51.4 s\n"
     ]
    },
    {
     "data": {
      "text/plain": [
       "(['少女漫画の実写化でヒーロー役を演じてほしい俳優ランキング！ 3位「横浜流星」、2位「佐藤健」、1位は？（...\\n為什麼不放第一名的照片😂😂 ',\n",
       "  '我原本也有這樣想耶😂\\n宗介昏倒了\\n還會更新IG嗎😂',\n",
       "  '救生圈第四集\\n沉重的主題簡直是夫妻必看聖經\\n\\n然後\\n\\n我看到了SixTONES粉絲在暴動😂'],\n",
       " 2830)"
      ]
     },
     "execution_count": 31,
     "metadata": {},
     "output_type": "execute_result"
    }
   ],
   "source": [
    "if not filename_1.is_file():\n",
    "    with open(filename_1, \"wb\") as f:\n",
    "        %time pickle.dump([ele.text for ele in posts_longer], f)\n",
    "else:\n",
    "    print(f\"{filename_1} exists, didn't do a thing\")\n",
    "\n",
    "# load it\n",
    "with open(filename_1, \"rb\") as f:\n",
    "    reload_posts_1 = pickle.load(f)\n",
    "\n",
    "reload_posts_1[:3], len(reload_posts_1)"
   ]
  },
  {
   "cell_type": "code",
   "execution_count": null,
   "metadata": {},
   "outputs": [
    {
     "data": {
      "text/plain": [
       "100.80000000000001"
      ]
     },
     "execution_count": 21,
     "metadata": {},
     "output_type": "execute_result"
    }
   ],
   "source": [
    "12*84/60 * 6"
   ]
  },
  {
   "cell_type": "code",
   "execution_count": null,
   "metadata": {},
   "outputs": [
    {
     "data": {
      "text/plain": [
       "203760"
      ]
     },
     "execution_count": 24,
     "metadata": {},
     "output_type": "execute_result"
    }
   ],
   "source": [
    "2830*12*6"
   ]
  },
  {
   "cell_type": "code",
   "execution_count": null,
   "metadata": {},
   "outputs": [],
   "source": [
    "assert 1 == 0"
   ]
  },
  {
   "cell_type": "code",
   "execution_count": 39,
   "metadata": {},
   "outputs": [
    {
     "name": "stdout",
     "output_type": "stream",
     "text": [
      "\n"
     ]
    },
    {
     "name": "stderr",
     "output_type": "stream",
     "text": [
      "c:\\Users\\Kelvin\\anaconda3\\envs\\AI_sheng\\lib\\site-packages\\ipykernel_launcher.py:14: DeprecationWarning: executable_path has been deprecated, please pass in a Service object\n",
      "  \n"
     ]
    }
   ],
   "source": [
    "from selenium import webdriver\n",
    "from time import sleep\n",
    "from webdriver_manager.chrome import ChromeDriverManager\n",
    "from selenium.webdriver.chrome.options import Options\n",
    "from selenium.webdriver.common.keys import Keys\n",
    "from selenium.webdriver.common.by import By\n",
    "from selenium.webdriver.support.ui import WebDriverWait\n",
    "from selenium.webdriver.support import expected_conditions as EC\n",
    "from selenium.webdriver.common.action_chains import ActionChains\n",
    "\n",
    "#先把通知都關掉，不然後面會點不到按鈕\n",
    "optionla = Options();\n",
    "optionla.add_argument(\"disable-notifications\");\n",
    "driver = webdriver.Chrome(ChromeDriverManager().install(), options=optionla)"
   ]
  },
  {
   "cell_type": "code",
   "execution_count": 40,
   "metadata": {},
   "outputs": [],
   "source": [
    "label2int = {\n",
    "    \"sadness\": 0, # done, not fetched\n",
    "    \"joy\": 1, # done, smile.pkl\n",
    "    \"love\": 2,#done\n",
    "    \"anger\": 3,# done\n",
    "    \"fear\": 4,#done\n",
    "    \"surprise\": 5\n",
    "}"
   ]
  },
  {
   "cell_type": "markdown",
   "metadata": {},
   "source": [
    "## emoji log\n",
    "### run date: 3:39 a.m., 8/5\n",
    "smile.pkl: 2021-9 ~ 2022-8 not done\n",
    "the rest: not done\n",
    "start with cry: all\n",
    "\n",
    "# I forgot to set data_list starting from August, FK!"
   ]
  },
  {
   "cell_type": "code",
   "execution_count": 41,
   "metadata": {},
   "outputs": [
    {
     "data": {
      "text/plain": [
       "{'joy': '😂',\n",
       " 'sadness': '😭',\n",
       " 'love': '😍',\n",
       " 'anger': '😡',\n",
       " 'fear': '😨',\n",
       " 'surprise': '😮'}"
      ]
     },
     "execution_count": 41,
     "metadata": {},
     "output_type": "execute_result"
    }
   ],
   "source": [
    "emoji_list = {}\n",
    "emoji_list[\"joy\"] = '😂'\n",
    "emoji_list[\"sadness\"]='😭' # cry\n",
    "emoji_list['love']='😍'\n",
    "emoji_list['anger']='😡'\n",
    "emoji_list['fear']='😨'\n",
    "emoji_list['surprise']='😮'\n",
    "emoji_list"
   ]
  },
  {
   "cell_type": "code",
   "execution_count": 42,
   "metadata": {},
   "outputs": [
    {
     "data": {
      "text/plain": [
       "(['2021-8',\n",
       "  '2021-9',\n",
       "  '2021-10',\n",
       "  '2021-11',\n",
       "  '2021-12',\n",
       "  '2022-1',\n",
       "  '2022-2',\n",
       "  '2022-3',\n",
       "  '2022-4',\n",
       "  '2022-5',\n",
       "  '2022-6',\n",
       "  '2022-7',\n",
       "  '2022-8'],\n",
       " 13)"
      ]
     },
     "execution_count": 42,
     "metadata": {},
     "output_type": "execute_result"
    }
   ],
   "source": [
    "date_list = []\n",
    "for i in range(8,13):\n",
    "    date_list.append(\"2021-%d\" % i)\n",
    "for i in range(1,9):\n",
    "    date_list.append(\"2022-%d\" % i)\n",
    "date_list, len(date_list) "
   ]
  },
  {
   "cell_type": "code",
   "execution_count": 43,
   "metadata": {},
   "outputs": [],
   "source": [
    "import os\n",
    "from pathlib import Path\n",
    "import pickle\n",
    "\n",
    "base_dir = Path(\"from_pickle\")\n",
    "if not os.path.isdir(base_dir):\n",
    "    os.mkdir(base_dir)"
   ]
  },
  {
   "cell_type": "code",
   "execution_count": 44,
   "metadata": {},
   "outputs": [],
   "source": [
    "\"run the correct way!\"\n",
    "# putting everything together\n",
    "def runit(filename, date_list, emoji):\n",
    "    # if filename exists, quit the whole thing\n",
    "    if filename.is_file():\n",
    "        print(f\"{filename} exists, didn't do a thing\")\n",
    "        return\n",
    "    \n",
    "    content = []\n",
    "    # loop thru date, fetch corresponding search result\n",
    "    # , save everything into content (list), write it, return it\n",
    "    for date in date_list:\n",
    "        # visit the search page # emoji date \n",
    "        driver.get(\"https://www.plurk.com/search?q=\"+emoji+\"&date=\" + date)\n",
    "        sleep(1)\n",
    "\n",
    "        # scroll to bottom # 300x posts\n",
    "        for i in range(300):\n",
    "            driver.execute_script(\"window.scrollTo(0,Math.max(document.documentElement.scrollHeight,\" + \"document.body.scrollHeight,document.documentElement.clientHeight));\")\n",
    "            sleep(1)\n",
    "\n",
    "        posts = driver.find_elements('xpath','//*[@class=\"content\"]')\n",
    "        content += [ele.text for ele in posts]\n",
    "\n",
    "    with open(filename, \"wb\") as f:\n",
    "        pickle.dump(content, f)\n",
    "\n",
    "    return content"
   ]
  },
  {
   "cell_type": "code",
   "execution_count": 45,
   "metadata": {},
   "outputs": [],
   "source": [
    "content_arr = {}"
   ]
  },
  {
   "cell_type": "code",
   "execution_count": 46,
   "metadata": {},
   "outputs": [
    {
     "data": {
      "text/plain": [
       "{'joy': '😂',\n",
       " 'sadness': '😭',\n",
       " 'love': '😍',\n",
       " 'anger': '😡',\n",
       " 'fear': '😨',\n",
       " 'surprise': '😮'}"
      ]
     },
     "execution_count": 46,
     "metadata": {},
     "output_type": "execute_result"
    }
   ],
   "source": [
    "emoji_list"
   ]
  },
  {
   "cell_type": "code",
   "execution_count": 47,
   "metadata": {},
   "outputs": [],
   "source": [
    "#for key in emoji_list:\n",
    "key = \"joy\"\n",
    "content_arr[key] = runit(Path(base_dir/f\"{key}.pkl\"),date_list, emoji_list[key])\n"
   ]
  },
  {
   "cell_type": "code",
   "execution_count": 48,
   "metadata": {},
   "outputs": [
    {
     "data": {
      "text/plain": [
       "7508"
      ]
     },
     "execution_count": 48,
     "metadata": {},
     "output_type": "execute_result"
    }
   ],
   "source": [
    "len(content_arr[key])"
   ]
  },
  {
   "cell_type": "code",
   "execution_count": 49,
   "metadata": {},
   "outputs": [
    {
     "data": {
      "text/plain": [
       "['少女漫画の実写化でヒーロー役を演じてほしい俳優ランキング！ 3位「横浜流星」、2位「佐藤健」、1位は？（...\\n為什麼不放第一名的照片😂😂 ',\n",
       " '我原本也有這樣想耶😂\\n宗介昏倒了\\n還會更新IG嗎😂',\n",
       " '救生圈第四集\\n沉重的主題簡直是夫妻必看聖經\\n\\n然後\\n\\n我看到了SixTONES粉絲在暴動😂']"
      ]
     },
     "execution_count": 49,
     "metadata": {},
     "output_type": "execute_result"
    }
   ],
   "source": [
    "content_arr[key][:3]"
   ]
  },
  {
   "cell_type": "code",
   "execution_count": 50,
   "metadata": {},
   "outputs": [
    {
     "data": {
      "text/plain": [
       "(7508,\n",
       " ['少女漫画の実写化でヒーロー役を演じてほしい俳優ランキング！ 3位「横浜流星」、2位「佐藤健」、1位は？（...\\n為什麼不放第一名的照片😂😂 ',\n",
       "  '我原本也有這樣想耶😂\\n宗介昏倒了\\n還會更新IG嗎😂',\n",
       "  '救生圈第四集\\n沉重的主題簡直是夫妻必看聖經\\n\\n然後\\n\\n我看到了SixTONES粉絲在暴動😂'])"
      ]
     },
     "execution_count": 50,
     "metadata": {},
     "output_type": "execute_result"
    }
   ],
   "source": [
    "with open(\"from_pickle\\\\joy.pkl\", \"rb\") as f:\n",
    "    tmp = pickle.load(f)\n",
    "\n",
    "len(tmp), tmp[:3]"
   ]
  },
  {
   "cell_type": "code",
   "execution_count": 52,
   "metadata": {},
   "outputs": [
    {
     "data": {
      "text/plain": [
       "7507"
      ]
     },
     "execution_count": 52,
     "metadata": {},
     "output_type": "execute_result"
    }
   ],
   "source": [
    "len(tmp[:-1])"
   ]
  },
  {
   "cell_type": "code",
   "execution_count": 53,
   "metadata": {},
   "outputs": [
    {
     "data": {
      "text/plain": [
       "7413"
      ]
     },
     "execution_count": 53,
     "metadata": {},
     "output_type": "execute_result"
    }
   ],
   "source": [
    "len(set(content_arr[key]))"
   ]
  },
  {
   "cell_type": "markdown",
   "metadata": {},
   "source": [
    "## It's the non redundand one!"
   ]
  },
  {
   "cell_type": "code",
   "execution_count": 54,
   "metadata": {},
   "outputs": [
    {
     "data": {
      "text/plain": [
       "7508"
      ]
     },
     "execution_count": 54,
     "metadata": {},
     "output_type": "execute_result"
    }
   ],
   "source": [
    "with open(Path(base_dir/\"joy_.pkl\"), \"wb\") as f:\n",
    "    pickle.dump(content_arr[key], f)\n",
    "\n",
    "\n",
    "with open(Path(base_dir/\"joy_.pkl\"), \"rb\") as f:\n",
    "    t = pickle.load(f)\n",
    "\n",
    "len(t)"
   ]
  },
  {
   "cell_type": "code",
   "execution_count": 55,
   "metadata": {},
   "outputs": [
    {
     "data": {
      "text/plain": [
       "'今天是新工作的第5天，是個難度很高的工作，做的好的話薪水會很高，但是很難，而且東西很雜 ，希望我能挑戰成功 ，挑戰成功我在講是什麼工作\\n這次的工作跟之前的工作性質不一樣，突然覺得我很厲害，每份工作都跳很大😂\\n如果有人想猜歡迎在底下留言，我在打選項🤣'"
      ]
     },
     "execution_count": 55,
     "metadata": {},
     "output_type": "execute_result"
    }
   ],
   "source": [
    "t[-1]"
   ]
  },
  {
   "cell_type": "code",
   "execution_count": 56,
   "metadata": {},
   "outputs": [
    {
     "data": {
      "text/plain": [
       "'少女漫画の実写化でヒーロー役を演じてほしい俳優ランキング！ 3位「横浜流星」、2位「佐藤健」、1位は？（...\\n為什麼不放第一名的照片😂😂 '"
      ]
     },
     "execution_count": 56,
     "metadata": {},
     "output_type": "execute_result"
    }
   ],
   "source": [
    "t[0]"
   ]
  },
  {
   "cell_type": "code",
   "execution_count": null,
   "metadata": {},
   "outputs": [],
   "source": []
  }
 ],
 "metadata": {
  "kernelspec": {
   "display_name": "Python 3.7.9 ('AI_sheng')",
   "language": "python",
   "name": "python3"
  },
  "language_info": {
   "codemirror_mode": {
    "name": "ipython",
    "version": 3
   },
   "file_extension": ".py",
   "mimetype": "text/x-python",
   "name": "python",
   "nbconvert_exporter": "python",
   "pygments_lexer": "ipython3",
   "version": "3.7.9"
  },
  "orig_nbformat": 4,
  "vscode": {
   "interpreter": {
    "hash": "9db77c7d38baf4b93e998a2213b9026a3d1545f748ab5419893b25caa4e3cb58"
   }
  }
 },
 "nbformat": 4,
 "nbformat_minor": 2
}
