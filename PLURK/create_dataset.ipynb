{
 "cells": [
  {
   "cell_type": "markdown",
   "metadata": {},
   "source": [
    "## Create dataset\n",
    "### aka, merge all the emoji files into one file: dataset.pkl"
   ]
  },
  {
   "cell_type": "code",
   "execution_count": 1,
   "metadata": {},
   "outputs": [],
   "source": [
    "import os, pickle\n",
    "from pathlib import Path as P"
   ]
  },
  {
   "cell_type": "code",
   "execution_count": 2,
   "metadata": {},
   "outputs": [
    {
     "name": "stdout",
     "output_type": "stream",
     "text": [
      "{'joy': '😂', 'sadness': '😭', 'love': '😍', 'anger': '😡', 'fear': '😨', 'surprise': '😮'} \n",
      "start date: 2022-08\n"
     ]
    }
   ],
   "source": [
    "from info_list import *"
   ]
  },
  {
   "cell_type": "code",
   "execution_count": 5,
   "metadata": {},
   "outputs": [
    {
     "name": "stdout",
     "output_type": "stream",
     "text": [
      "non_redundant\n",
      "anger_.pkl 😡 1049\n",
      "fear_.pkl 😨 584\n",
      "joy_.pkl 😂 7508\n",
      "love_.pkl 😍 2631\n",
      "sadness_.pkl 😭 5561\n",
      "surprise_.pkl 😮 849\n",
      "\n",
      "fix_0805\n",
      "anger.pkl 😡 1736\n",
      "fear.pkl 😨 832\n",
      "love.pkl 😍 6467\n",
      "surprise.pkl 😮 1406\n",
      "\n"
     ]
    }
   ],
   "source": [
    "\"list out the files first\"\n",
    "old_dirs = [P(\"non_redundant\"), P(\"fix_0805\")]\n",
    "\n",
    "\"get length of posts\"\n",
    "for fold in old_dirs:\n",
    "    print(str(fold))\n",
    "    for ele in list(os.walk(fold))[0][2]:\n",
    "        idx = ele.index(\".\")\n",
    "        if \"_\" in ele:\n",
    "            idx = ele.index(\"_\")\n",
    "        with open(fold/ele, \"rb\") as f:\n",
    "            print(ele,emoji_list[ele[:idx]], len(pickle.load(f)))\n",
    "    print(\"\")"
   ]
  },
  {
   "cell_type": "code",
   "execution_count": 8,
   "metadata": {},
   "outputs": [
    {
     "data": {
      "text/plain": [
       "['伴侶：臭貓貓 我玩遊戲的時候一直煩我，罵他還一直蹭我😡\\n（還是伴侶）\\n伴侶：我早上幫他乾洗澡後他就不讓我摸摸了😭',\n",
       " '#耍笨\\n當我早起去ikea 吃新出的炸雞鬆餅早餐時，在排隊結帳時發現我沒有帶錢包😨',\n",
       " '是宿伏ＣＰ組合耶😍\\nBANPRESTO《咒術迴戰》Combination Battle2-宿儺＆伏黑惠 大爺迷上伏黑的瞬間立...',\n",
       " '其實我以為飯圈規則這半年來已經該說的都說了，也說破嘴了，但不管怎麼樣還是會有人誤解直播主的意思，然而在推下面道歉的永遠都不是那些出言傷人的人😮\\u200d💨']"
      ]
     },
     "execution_count": 8,
     "metadata": {},
     "output_type": "execute_result"
    }
   ],
   "source": [
    "\"create file list to merge\"\n",
    "file_list = []\n",
    "\n",
    "for ele in list(os.walk(old_dirs[1]))[0][2]:\n",
    "    with open(old_dirs[1]/ele, \"rb\") as f:\n",
    "        file_list.append(pickle.load(f))\n",
    "\n",
    "[ele[0] for ele in file_list]"
   ]
  },
  {
   "cell_type": "code",
   "execution_count": 9,
   "metadata": {},
   "outputs": [
    {
     "data": {
      "text/plain": [
       "[1736, 832, 6467, 1406]"
      ]
     },
     "execution_count": 9,
     "metadata": {},
     "output_type": "execute_result"
    }
   ],
   "source": [
    "# anger, fear, love, surprise\n",
    "[len(ele) for ele in file_list]"
   ]
  },
  {
   "cell_type": "code",
   "execution_count": 12,
   "metadata": {},
   "outputs": [
    {
     "data": {
      "text/plain": [
       "[7508, 5561]"
      ]
     },
     "execution_count": 12,
     "metadata": {},
     "output_type": "execute_result"
    }
   ],
   "source": [
    "\n",
    "tmpf = [\"joy_.pkl\", \"sadness_.pkl\"]\n",
    "\n",
    "for ele in tmpf:\n",
    "    with open(old_dirs[0]/ele, \"rb\") as f:\n",
    "        file_list.append(pickle.load(f))\n",
    "\n",
    "[len(ele) for ele in file_list[-2:]]"
   ]
  },
  {
   "cell_type": "code",
   "execution_count": 14,
   "metadata": {},
   "outputs": [],
   "source": [
    "assert len(file_list) == 6, \"something is off so that not all the files are read\""
   ]
  },
  {
   "cell_type": "code",
   "execution_count": 16,
   "metadata": {},
   "outputs": [
    {
     "data": {
      "text/plain": [
       "['anger', 'fear', 'love', 'surprise', 'joy', 'sadness']"
      ]
     },
     "execution_count": 16,
     "metadata": {},
     "output_type": "execute_result"
    }
   ],
   "source": [
    "label_list = \"anger, fear, love, surprise, joy, sadness\".split(\", \")\n",
    "label_list"
   ]
  },
  {
   "cell_type": "code",
   "execution_count": 17,
   "metadata": {},
   "outputs": [
    {
     "data": {
      "text/plain": [
       "{'joy': '😂',\n",
       " 'sadness': '😭',\n",
       " 'love': '😍',\n",
       " 'anger': '😡',\n",
       " 'fear': '😨',\n",
       " 'surprise': '😮'}"
      ]
     },
     "execution_count": 17,
     "metadata": {},
     "output_type": "execute_result"
    }
   ],
   "source": [
    "emoji_list"
   ]
  },
  {
   "cell_type": "code",
   "execution_count": 23,
   "metadata": {},
   "outputs": [
    {
     "data": {
      "text/plain": [
       "[('anger', '😡', '伴侶：臭貓貓 我玩遊戲的時候一直煩我，罵他還一直蹭我😡\\n（還是伴侶）\\n伴侶：我早上幫他乾洗澡後他就不讓我摸摸了😭'),\n",
       " ('fear', '😨', '#耍笨\\n當我早起去ikea 吃新出的炸雞鬆餅早餐時，在排隊結帳時發現我沒有帶錢包😨'),\n",
       " ('love',\n",
       "  '😍',\n",
       "  '是宿伏ＣＰ組合耶😍\\nBANPRESTO《咒術迴戰》Combination Battle2-宿儺＆伏黑惠 大爺迷上伏黑的瞬間立...'),\n",
       " ('surprise',\n",
       "  '😮',\n",
       "  '其實我以為飯圈規則這半年來已經該說的都說了，也說破嘴了，但不管怎麼樣還是會有人誤解直播主的意思，然而在推下面道歉的永遠都不是那些出言傷人的人😮\\u200d💨'),\n",
       " ('joy',\n",
       "  '😂',\n",
       "  '少女漫画の実写化でヒーロー役を演じてほしい俳優ランキング！ 3位「横浜流星」、2位「佐藤健」、1位は？（...\\n為什麼不放第一名的照片😂😂 '),\n",
       " ('sadness',\n",
       "  '😭',\n",
       "  'Cant believe people cry over this... yes, Lando didn’t win but he had an amazing drive all weekend. But also, I promise yall this aint deep. Hindi mananalo ng WDC si Lando this season dahil lang sa power rankings na to. Go cry over something else 😭')]"
      ]
     },
     "execution_count": 23,
     "metadata": {},
     "output_type": "execute_result"
    }
   ],
   "source": [
    "[(label, emoji_list[label], ele[0]) for (label,ele) in zip(label_list,file_list)]"
   ]
  },
  {
   "cell_type": "code",
   "execution_count": 24,
   "metadata": {},
   "outputs": [
    {
     "name": "stdout",
     "output_type": "stream",
     "text": [
      "Wall time: 133 ms\n"
     ]
    }
   ],
   "source": [
    "%%time\n",
    "\"write all the data into tuple: (post, label, emoji); and store in a list\"\n",
    "\n",
    "# store here\n",
    "total_data = []\n",
    "\n",
    "for label, ele in zip(label_list, file_list):\n",
    "    for post in ele:\n",
    "        total_data.append((post, label, emoji_list[label]))\n"
   ]
  },
  {
   "cell_type": "code",
   "execution_count": 27,
   "metadata": {},
   "outputs": [
    {
     "data": {
      "text/plain": [
       "(23510, 23510)"
      ]
     },
     "execution_count": 27,
     "metadata": {},
     "output_type": "execute_result"
    }
   ],
   "source": [
    "len(total_data), sum([1736, 832, 6467, 1406]) + sum([7508, 5561]) # the sum of lines in separate files"
   ]
  },
  {
   "cell_type": "code",
   "execution_count": 28,
   "metadata": {},
   "outputs": [
    {
     "data": {
      "text/plain": [
       "('伴侶：臭貓貓 我玩遊戲的時候一直煩我，罵他還一直蹭我😡\\n（還是伴侶）\\n伴侶：我早上幫他乾洗澡後他就不讓我摸摸了😭', 'anger', '😡')"
      ]
     },
     "execution_count": 28,
     "metadata": {},
     "output_type": "execute_result"
    }
   ],
   "source": [
    "total_data[0]"
   ]
  },
  {
   "cell_type": "code",
   "execution_count": 29,
   "metadata": {},
   "outputs": [],
   "source": [
    "\"finally, store all the darn thing into total_dataset/dataset.pkl\"\n",
    "\n",
    "target_dir = P(\"total_dataset\")\n",
    "\n",
    "if not target_dir.is_dir():\n",
    "    target_dir.mkdir()\n",
    "\n",
    "target_file = target_dir/\"dataset.pkl\"\n",
    "if not target_file.is_file():\n",
    "    with open(target_file, \"wb\") as f:\n",
    "        pickle.dump(total_data, f)\n",
    "else:\n",
    "    print(str(target_file), \"is file, skipped\")"
   ]
  },
  {
   "cell_type": "code",
   "execution_count": 30,
   "metadata": {},
   "outputs": [
    {
     "data": {
      "text/plain": [
       "(23510,\n",
       " ('伴侶：臭貓貓 我玩遊戲的時候一直煩我，罵他還一直蹭我😡\\n（還是伴侶）\\n伴侶：我早上幫他乾洗澡後他就不讓我摸摸了😭', 'anger', '😡'))"
      ]
     },
     "execution_count": 30,
     "metadata": {},
     "output_type": "execute_result"
    }
   ],
   "source": [
    "\"read it for testing\"\n",
    "\n",
    "with open(target_file, \"rb\") as f:\n",
    "    reload_f = pickle.load(f)\n",
    "\n",
    "len(reload_f), reload_f[0]"
   ]
  },
  {
   "cell_type": "code",
   "execution_count": null,
   "metadata": {},
   "outputs": [],
   "source": []
  }
 ],
 "metadata": {
  "kernelspec": {
   "display_name": "Python 3.8.8 ('base')",
   "language": "python",
   "name": "python3"
  },
  "language_info": {
   "codemirror_mode": {
    "name": "ipython",
    "version": 3
   },
   "file_extension": ".py",
   "mimetype": "text/x-python",
   "name": "python",
   "nbconvert_exporter": "python",
   "pygments_lexer": "ipython3",
   "version": "3.8.8"
  },
  "orig_nbformat": 4,
  "vscode": {
   "interpreter": {
    "hash": "e2e6ef08d5c68e8f2b193a159a8a1d001cdef218fb863802a3579938b197420f"
   }
  }
 },
 "nbformat": 4,
 "nbformat_minor": 2
}
