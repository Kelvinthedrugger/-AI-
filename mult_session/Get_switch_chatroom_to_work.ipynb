{
 "cells": [
  {
   "cell_type": "markdown",
   "metadata": {},
   "source": [
    "## We try to load designated conversation on Messenger (webpage) directly\n",
    "### aka, messages/t/chat_id"
   ]
  },
  {
   "cell_type": "code",
   "execution_count": 1,
   "metadata": {},
   "outputs": [
    {
     "name": "stdout",
     "output_type": "stream",
     "text": [
      "\n"
     ]
    },
    {
     "name": "stderr",
     "output_type": "stream",
     "text": [
      "c:\\Users\\Kelvin\\anaconda3\\envs\\AI_sheng\\lib\\site-packages\\ipykernel_launcher.py:24: DeprecationWarning: executable_path has been deprecated, please pass in a Service object\n"
     ]
    },
    {
     "name": "stdout",
     "output_type": "stream",
     "text": [
      "Opened facebook\n",
      "Email Id entered\n",
      "Password entered\n",
      "Done\n"
     ]
    }
   ],
   "source": [
    "\"EMO_AI version 0.0.6 敬請期待XD\"\n",
    "#from EMO_AI.messenger import *\n",
    "#driver = login(close_option=True)\n",
    "#先登入FB\n",
    "\n",
    "from selenium import webdriver\n",
    "from time import sleep\n",
    "from webdriver_manager.chrome import ChromeDriverManager\n",
    "from selenium.webdriver.chrome.options import Options\n",
    "from selenium.webdriver.common.keys import Keys\n",
    "from selenium.webdriver.common.by import By\n",
    "from selenium.webdriver.support.ui import WebDriverWait\n",
    "from selenium.webdriver.support import expected_conditions as EC\n",
    "from selenium.webdriver.common.action_chains import ActionChains\n",
    "\n",
    "#先把通知都關掉，不然後面會點不到按鈕\n",
    "optionla = Options();\n",
    "optionla.add_argument(\"disable-notifications\");\n",
    "\n",
    "#輸入帳密\n",
    "usr=input('帳號')\n",
    "pwd=input('密碼')\n",
    "\n",
    "driver = webdriver.Chrome(ChromeDriverManager().install(), options=optionla)\n",
    "driver.get('https://www.facebook.com/')\n",
    "print (\"Opened facebook\")\n",
    "sleep(1)\n",
    "\n",
    "username_box = driver.find_element('id','email')\n",
    "username_box.send_keys(usr)\n",
    "print (\"Email Id entered\")\n",
    "sleep(1)\n",
    "\n",
    "password_box = driver.find_element('id','pass')\n",
    "password_box.send_keys(pwd)\n",
    "print (\"Password entered\")\n",
    "\n",
    "login_box = driver.find_element('name','login')\n",
    "login_box.click()\n",
    "\n",
    "print (\"Done\")"
   ]
  },
  {
   "cell_type": "code",
   "execution_count": 2,
   "metadata": {},
   "outputs": [],
   "source": [
    "# import pkg\n",
    "#from selenium import webdriver\n",
    "#from time import sleep\n",
    "#from webdriver_manager.chrome import ChromeDriverManager\n",
    "#from selenium.webdriver.chrome.options import Options\n",
    "#from selenium.webdriver.common.keys import Keys"
   ]
  },
  {
   "cell_type": "code",
   "execution_count": 20,
   "metadata": {},
   "outputs": [],
   "source": [
    "# visit messenger chat room page\n",
    "# it will automatically redirect the page to\n",
    "# the toppest conversation (aka, last conversation)\n",
    "\"它會自動移動到上一次進行的對話,所以不用打ID\"\n",
    "driver.get(\"https://www.facebook.com/messages/t/\")"
   ]
  },
  {
   "cell_type": "code",
   "execution_count": 4,
   "metadata": {},
   "outputs": [
    {
     "data": {
      "text/plain": [
       "'https://www.facebook.com/messages/t/100001277722583/'"
      ]
     },
     "execution_count": 4,
     "metadata": {},
     "output_type": "execute_result"
    }
   ],
   "source": [
    "\"print出現在所在的ID\"\n",
    "driver.current_url"
   ]
  },
  {
   "cell_type": "code",
   "execution_count": 5,
   "metadata": {},
   "outputs": [
    {
     "data": {
      "text/plain": [
       "\"\\n#we don't actually have to import this, it's just strings\\nvars(By)\\nmappingproxy(\\n{'__module__': 'selenium.webdriver.common.by',\\n'__doc__': '\\n    Set of supported locator strategies.\\n    ',\\n'ID': 'id',\\n'XPATH': 'xpath',\\n'LINK_TEXT': 'link text',\\n'PARTIAL_LINK_TEXT': 'partial link text',\\n'NAME': 'name',\\n'TAG_NAME': 'tag name',\\n'CLASS_NAME': 'class name',\\n'CSS_SELECTOR': 'css selector',\\n'__dict__': <attribute '__dict__' of 'By' objects>,\\n'__weakref__': <attribute '__weakref__' of 'By' objects>}\\n\""
      ]
     },
     "execution_count": 5,
     "metadata": {},
     "output_type": "execute_result"
    }
   ],
   "source": [
    "\"\"\"\n",
    "#we don't actually have to import this, it's just strings\n",
    "vars(By)\n",
    "mappingproxy(\n",
    "{'__module__': 'selenium.webdriver.common.by',\n",
    "'__doc__': '\\n    Set of supported locator strategies.\\n    ',\n",
    "'ID': 'id',\n",
    "'XPATH': 'xpath',\n",
    "'LINK_TEXT': 'link text',\n",
    "'PARTIAL_LINK_TEXT': 'partial link text',\n",
    "'NAME': 'name',\n",
    "'TAG_NAME': 'tag name',\n",
    "'CLASS_NAME': 'class name',\n",
    "'CSS_SELECTOR': 'css selector',\n",
    "'__dict__': <attribute '__dict__' of 'By' objects>,\n",
    "'__weakref__': <attribute '__weakref__' of 'By' objects>}\n",
    "\"\"\""
   ]
  },
  {
   "cell_type": "code",
   "execution_count": 6,
   "metadata": {},
   "outputs": [],
   "source": [
    "from time import sleep"
   ]
  },
  {
   "cell_type": "code",
   "execution_count": 21,
   "metadata": {},
   "outputs": [],
   "source": [
    "\"locate 'Search Messenger' and click it\"\n",
    "sleep(1)\n",
    "t1 = driver.find_element('css selector', '[aria-label=\"搜尋 Messenger\"]')\n",
    "t1.click()"
   ]
  },
  {
   "cell_type": "code",
   "execution_count": 22,
   "metadata": {},
   "outputs": [],
   "source": [
    "sleep(2)\n",
    "\"Enter name here, don't hit '\\n'!, which is equivalent to enter -> navigating using arrows won't work then\"\n",
    "t1.send_keys(\"Fu Yun\")\n",
    "sleep(2)\n",
    "t1.send_keys(Keys.ARROW_DOWN)\n",
    "sleep(2)\n",
    "t1.send_keys(Keys.ARROW_DOWN)\n",
    "sleep(2)\n",
    "t1.send_keys(\"\\n\")\n",
    "sleep(2)"
   ]
  },
  {
   "cell_type": "code",
   "execution_count": 23,
   "metadata": {},
   "outputs": [
    {
     "name": "stdout",
     "output_type": "stream",
     "text": [
      "你好 我在臉書的租屋版看到你的貼文 請問現在可以預約看房嗎？ div\n",
      "可以 div\n",
      "你要約什麼時間看房 div\n",
      "目前更新如下 div\n",
      "台南東區近成大和火車站勝利路套房出租(可寵)\n",
      "#有配合社會住宅 #東區套房 #可申請租金補助\n",
      "【位置】:台南市東區勝利路171巷     \n",
      "1.【租金】6500【特殊資格有打折】7月底前看房當天下訂金，月租6300元。\n",
      "2.【類型】 :公寓\n",
      "3.【格局】 :獨立套房\n",
      "4.【電費】台電\n",
      "5.【水費】 台水\n",
      "6.【寵物】可\n",
      "7.【設備】熱水器.冷氣.冰箱 電視 洗衣機\n",
      "廁所和房間都有對外窗，在3樓無電梯。\n",
      "8.可寵，需房東同意的寵物，租金會加500到1000元，需簽寵物條款。\n",
      "9.7/16已全屋清潔打掃過。\n",
      "\n",
      "育樂街旁 成大對面 火車站【3分】鬧區 學區 \n",
      "歡迎在台南就業或就學的朋友來看屋，即日起可看房。\n",
      "請洽兆基業務吳小姐，Line【0952744440】或私訊我。 div\n",
      "請問下禮拜什麼時間有空呢？ div\n",
      "今天可以喔 div\n",
      "平日晚上7點後也可以 div\n",
      "六日的話目前可配合你的時間 div\n",
      "好的我再回覆你 div\n",
      "謝謝 div\n"
     ]
    }
   ],
   "source": [
    "\"print loaded conversation in that chat room (aka, the chat with that person), about 30 lines\"\n",
    "for ele in driver.find_elements(\"xpath\", \"//div[@dir='auto']\"):\n",
    "    print(ele.text, ele.tag_name)"
   ]
  },
  {
   "cell_type": "code",
   "execution_count": null,
   "metadata": {},
   "outputs": [],
   "source": [
    "#for ele in dir(t1):\n",
    "#    if not ele.startswith(\"_\"):\n",
    "#        print(ele)"
   ]
  },
  {
   "cell_type": "code",
   "execution_count": 9,
   "metadata": {},
   "outputs": [
    {
     "data": {
      "text/plain": [
       "selenium.webdriver.remote.webelement.WebElement"
      ]
     },
     "execution_count": 9,
     "metadata": {},
     "output_type": "execute_result"
    }
   ],
   "source": [
    "type(t1)"
   ]
  },
  {
   "cell_type": "code",
   "execution_count": 10,
   "metadata": {},
   "outputs": [],
   "source": [
    "assert t1.tag_name == 'input'"
   ]
  },
  {
   "cell_type": "markdown",
   "metadata": {},
   "source": [
    "#### Let's click the damn thing"
   ]
  },
  {
   "cell_type": "code",
   "execution_count": 11,
   "metadata": {},
   "outputs": [],
   "source": [
    "from selenium.webdriver import ActionChains"
   ]
  },
  {
   "cell_type": "code",
   "execution_count": 12,
   "metadata": {},
   "outputs": [],
   "source": [
    "action_chains = ActionChains(driver)"
   ]
  },
  {
   "cell_type": "markdown",
   "metadata": {},
   "source": [
    "## This fucking works,\n",
    "### Actions:\n",
    "    hit \"Search Messenger\"\n",
    "    navigate downwards (按鍵盤下鍵)\n",
    "    navigate downwards (按鍵盤下鍵, 對你沒看錯, 再按一次)\n",
    "    按Enter\n",
    "    actions.perform() 執行\n"
   ]
  },
  {
   "cell_type": "code",
   "execution_count": 13,
   "metadata": {},
   "outputs": [],
   "source": [
    "from selenium.webdriver.common.keys import Keys"
   ]
  },
  {
   "cell_type": "code",
   "execution_count": 19,
   "metadata": {},
   "outputs": [],
   "source": [
    "\"This cell is to fast to run in a .py script, use WebElement + sleep(second) directly (above shown)\"\n",
    "action_chains.move_to_element(t1).click(t1)\n",
    "# this works, but the time interval is merely too short before it returns to nothing\n",
    "\"Enter name here, don't hit '\\n'!, which is equivalent to enter -> navigating using arrows won't work then\"\n",
    "action_chains.send_keys(\"Fu Yun\")\n",
    "action_chains.send_keys(Keys.ARROW_DOWN)\n",
    "action_chains.send_keys(Keys.ARROW_DOWN)\n",
    "action_chains.send_keys(Keys.ENTER)\n",
    "action_chains.perform()"
   ]
  },
  {
   "cell_type": "code",
   "execution_count": 15,
   "metadata": {},
   "outputs": [
    {
     "name": "stdout",
     "output_type": "stream",
     "text": [
      "因為她是小盆友 div\n",
      "牠差點跌倒 div\n",
      "https://youtu.be/1-224FkaZ6U div\n",
      "ㄇㄠ div\n",
      "貓 div\n",
      "ㄨˇ div\n",
      "怎麼了胖子 div\n",
      "你今天很好看嗎? div\n",
      "沒有 div\n",
      "誒鼻子 div\n",
      "你們解剖有要買圖譜嗎？ div\n",
      "有的話可以買喔 div\n",
      "好像有 div\n",
      "貓 div\n",
      "我剛剛問聖晏了 div\n",
      "他說解剖真的硬 div\n",
      "醫圖有解剖的app 可以下載 div\n",
      "3D 的 很有幫助 div\n",
      "然後上刀的鋸子很危險很重 div\n",
      "要很小心 div\n",
      "最後就是開刀前一天要把圖弄懂 div\n",
      "不然會蠻在狀況外的 div\n",
      "古道熱腸 div\n",
      "好恐怖了 div\n",
      "我怕怕 div\n"
     ]
    }
   ],
   "source": [
    "\"print loaded conversation in that chat room (aka, the chat with that person), about 30 lines\"\n",
    "\"uncomment below to run\"\n",
    "for ele in driver.find_elements(\"xpath\", \"//div[@dir='auto']\"):\n",
    "    print(ele.text, ele.tag_name)"
   ]
  },
  {
   "cell_type": "code",
   "execution_count": null,
   "metadata": {},
   "outputs": [],
   "source": []
  }
 ],
 "metadata": {
  "kernelspec": {
   "display_name": "Python 3.7.9 ('AI_sheng')",
   "language": "python",
   "name": "python3"
  },
  "language_info": {
   "codemirror_mode": {
    "name": "ipython",
    "version": 3
   },
   "file_extension": ".py",
   "mimetype": "text/x-python",
   "name": "python",
   "nbconvert_exporter": "python",
   "pygments_lexer": "ipython3",
   "version": "3.7.9"
  },
  "orig_nbformat": 4,
  "vscode": {
   "interpreter": {
    "hash": "9db77c7d38baf4b93e998a2213b9026a3d1545f748ab5419893b25caa4e3cb58"
   }
  }
 },
 "nbformat": 4,
 "nbformat_minor": 2
}
