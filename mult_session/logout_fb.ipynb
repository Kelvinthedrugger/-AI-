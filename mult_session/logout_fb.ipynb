{
 "cells": [
  {
   "cell_type": "code",
   "execution_count": 1,
   "metadata": {},
   "outputs": [],
   "source": [
    "from FB import *\n",
    "from time import sleep"
   ]
  },
  {
   "cell_type": "code",
   "execution_count": 2,
   "metadata": {},
   "outputs": [
    {
     "name": "stdout",
     "output_type": "stream",
     "text": [
      "\n"
     ]
    }
   ],
   "source": [
    "driver = get_driver(input(\"A\"), input(\"B\"))"
   ]
  },
  {
   "cell_type": "code",
   "execution_count": 3,
   "metadata": {},
   "outputs": [],
   "source": [
    "sleep(0.5)\n",
    "man = driver.find_element(\"xpath\", \"//*[@aria-label='帳號控制項和設定']//*[@aria-label='你的個人檔案']\")\n",
    "man.click()"
   ]
  },
  {
   "cell_type": "code",
   "execution_count": 4,
   "metadata": {},
   "outputs": [
    {
     "data": {
      "text/plain": [
       "[<selenium.webdriver.remote.webelement.WebElement (session=\"f2081a67868a14d11cd4faffad5b353e\", element=\"42f584a3-352e-481a-967e-5a63e7c61075\")>,\n",
       " <selenium.webdriver.remote.webelement.WebElement (session=\"f2081a67868a14d11cd4faffad5b353e\", element=\"91b2afc6-8522-4c2a-85c4-d3758ee89980\")>,\n",
       " <selenium.webdriver.remote.webelement.WebElement (session=\"f2081a67868a14d11cd4faffad5b353e\", element=\"13189c62-233e-4a80-8e5e-6f42605903f3\")>,\n",
       " <selenium.webdriver.remote.webelement.WebElement (session=\"f2081a67868a14d11cd4faffad5b353e\", element=\"acb53e36-e4ee-45e2-96da-1eea8c61263f\")>,\n",
       " <selenium.webdriver.remote.webelement.WebElement (session=\"f2081a67868a14d11cd4faffad5b353e\", element=\"8015a74c-a43e-4dc2-a044-c4660fa066d5\")>]"
      ]
     },
     "execution_count": 4,
     "metadata": {},
     "output_type": "execute_result"
    }
   ],
   "source": [
    "sleep(0.5)\n",
    "lgout = driver.find_elements(\"xpath\", \"//*[@role='listitem']//*[@dir='auto']\")\n",
    "lgout"
   ]
  },
  {
   "cell_type": "code",
   "execution_count": 5,
   "metadata": {},
   "outputs": [
    {
     "data": {
      "text/plain": [
       "['設定和隱私', '協助和支援', '顯示方式和無障礙環境', '提供意見回饋', '登出']"
      ]
     },
     "execution_count": 5,
     "metadata": {},
     "output_type": "execute_result"
    }
   ],
   "source": [
    "[ele.text for ele in lgout]"
   ]
  },
  {
   "cell_type": "code",
   "execution_count": 6,
   "metadata": {},
   "outputs": [],
   "source": [
    "lgout[-1].click()"
   ]
  },
  {
   "cell_type": "code",
   "execution_count": null,
   "metadata": {},
   "outputs": [],
   "source": []
  }
 ],
 "metadata": {
  "kernelspec": {
   "display_name": "Python 3.7.9 ('AI_sheng')",
   "language": "python",
   "name": "python3"
  },
  "language_info": {
   "codemirror_mode": {
    "name": "ipython",
    "version": 3
   },
   "file_extension": ".py",
   "mimetype": "text/x-python",
   "name": "python",
   "nbconvert_exporter": "python",
   "pygments_lexer": "ipython3",
   "version": "3.7.9"
  },
  "orig_nbformat": 4,
  "vscode": {
   "interpreter": {
    "hash": "9db77c7d38baf4b93e998a2213b9026a3d1545f748ab5419893b25caa4e3cb58"
   }
  }
 },
 "nbformat": 4,
 "nbformat_minor": 2
}
