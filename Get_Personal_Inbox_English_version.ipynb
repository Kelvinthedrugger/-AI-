{
 "cells": [
  {
   "cell_type": "markdown",
   "id": "06b95f8f",
   "metadata": {},
   "source": [
    "# 用Selenium硬上\n",
    "1. 總之我在FB找到一個可以下載自己私人檔案的頁面，然後就可以了\n",
    "2. 下面的步驟建議每做一步就去看一下頁面怎麼樣了，時間不要間隔太近，不然他有時候還沒跑完會報錯XD"
   ]
  },
  {
   "cell_type": "code",
   "execution_count": 2,
   "id": "5614eadb",
   "metadata": {},
   "outputs": [
    {
     "name": "stdout",
     "output_type": "stream",
     "text": [
      "\n"
     ]
    },
    {
     "name": "stderr",
     "output_type": "stream",
     "text": [
      "<ipython-input-2-c3dbb69aacb5>:21: DeprecationWarning: executable_path has been deprecated, please pass in a Service object\n",
      "  driver = webdriver.Chrome(ChromeDriverManager().install(), options=optionla)\n"
     ]
    },
    {
     "name": "stdout",
     "output_type": "stream",
     "text": [
      "Opened facebook\n",
      "Email Id entered\n",
      "Password entered\n",
      "Done\n"
     ]
    }
   ],
   "source": [
    "#先登入FB\n",
    "\n",
    "from selenium import webdriver\n",
    "from time import sleep\n",
    "from webdriver_manager.chrome import ChromeDriverManager\n",
    "from selenium.webdriver.chrome.options import Options\n",
    "from selenium.webdriver.common.keys import Keys\n",
    "from selenium.webdriver.common.by import By\n",
    "from selenium.webdriver.support.ui import WebDriverWait\n",
    "from selenium.webdriver.support import expected_conditions as EC\n",
    "from selenium.webdriver.common.action_chains import ActionChains\n",
    "\n",
    "#先把通知都關掉，不然後面會點不到按鈕\n",
    "optionla = Options();\n",
    "optionla.add_argument(\"disable-notifications\");\n",
    "\n",
    "#輸入帳密\n",
    "usr=input('帳號')\n",
    "pwd=input('密碼')\n",
    "\n",
    "driver = webdriver.Chrome(ChromeDriverManager().install(), options=optionla)\n",
    "driver.get('https://www.facebook.com/')\n",
    "print (\"Opened facebook\")\n",
    "sleep(1)\n",
    "\n",
    "username_box = driver.find_element('id','email')\n",
    "username_box.send_keys(usr)\n",
    "print (\"Email Id entered\")\n",
    "sleep(1)\n",
    "\n",
    "password_box = driver.find_element('id','pass')\n",
    "password_box.send_keys(pwd)\n",
    "print (\"Password entered\")\n",
    "\n",
    "login_box = driver.find_element('name','login')\n",
    "login_box.click()\n",
    "\n",
    "print (\"Done\")"
   ]
  },
  {
   "cell_type": "code",
   "execution_count": 3,
   "id": "6396e24a",
   "metadata": {},
   "outputs": [],
   "source": [
    "#接著進去那個頁面\n",
    "driver.get('https://www.facebook.com/dyi/?referrer=yfi_settings')"
   ]
  },
  {
   "cell_type": "markdown",
   "id": "754c7a24",
   "metadata": {},
   "source": [
    "#### 已經下載過的話 應該可以直接跳到'可供下載的檔案' 後面"
   ]
  },
  {
   "cell_type": "code",
   "execution_count": null,
   "id": "209cbe2d",
   "metadata": {},
   "outputs": [],
   "source": [
    "#選擇下載格式，我選JSON\n",
    "driver.find_element(By.CSS_SELECTOR,\"[aria-label='Format']\").click()\n",
    "sleep(1)\n",
    "driver.find_element(By.XPATH,\"//span[text()='JSON']\").click()"
   ]
  },
  {
   "cell_type": "code",
   "execution_count": null,
   "id": "78ddd0b9",
   "metadata": {},
   "outputs": [],
   "source": [
    "#選擇下載時間，我現在是預設一週，之後看要不要改成讓使用者自己設定\n",
    "driver.find_element(By.CSS_SELECTOR,\"[aria-label='Date range (required)']\").click()\n",
    "sleep(1)\n",
    "driver.find_element(By.XPATH,\"//span[text()='Last week']\").click()"
   ]
  },
  {
   "cell_type": "code",
   "execution_count": null,
   "id": "1bf3940a",
   "metadata": {},
   "outputs": [],
   "source": [
    "#把全選取消掉，然後把訊息那一項勾起來\n",
    "driver.find_element(By.XPATH,\"//span[text()='Deselect All']\").click()\n",
    "sleep(1)\n",
    "driver.find_element(By.XPATH,\"//span[text()='Messages']\").click()"
   ]
  },
  {
   "cell_type": "code",
   "execution_count": 4,
   "id": "d8926ce6",
   "metadata": {},
   "outputs": [],
   "source": [
    "#要求下載\n",
    "driver.find_element(By.CSS_SELECTOR,\"[aria-label='Request a download']\").click()"
   ]
  },
  {
   "cell_type": "markdown",
   "id": "132e15f0",
   "metadata": {},
   "source": [
    "#### 可供下載的檔案"
   ]
  },
  {
   "cell_type": "code",
   "execution_count": 5,
   "id": "dc30bf52",
   "metadata": {},
   "outputs": [],
   "source": [
    "#我在測的時候明明就沒有東西把那個按鈕擋住，但他用原本的Click就是會報錯，所以要用下面的寫法，快氣死\n",
    "fuckbtn = driver.find_element(By.XPATH,\"//span[text()='Available files']\")\n",
    "ActionChains(driver).move_to_element(fuckbtn).click(fuckbtn).perform()"
   ]
  },
  {
   "cell_type": "markdown",
   "id": "75798546",
   "metadata": {},
   "source": [
    "#### 我的不知道為什麼不用密碼??"
   ]
  },
  {
   "cell_type": "code",
   "execution_count": null,
   "id": "d4d60490",
   "metadata": {},
   "outputs": [],
   "source": [
    "##FB會重新要求輸入密碼\n",
    "#driver.find_element(By.CSS_SELECTOR,\"[type='password']\").send_keys(pwd)\n",
    "#sleep(1)\n",
    "#driver.find_element(By.CSS_SELECTOR,\"[type='password']\").send_keys(Keys.ENTER)"
   ]
  },
  {
   "cell_type": "code",
   "execution_count": null,
   "id": "763f6232",
   "metadata": {},
   "outputs": [],
   "source": [
    "##點選確認，他一樣不能用CLick，發瘋\n",
    "#cowbtn = driver.find_element(By.XPATH,\"//span[text()='確認']\")\n",
    "#ActionChains(driver).move_to_element(cowbtn).click(cowbtn).perform()"
   ]
  },
  {
   "cell_type": "code",
   "execution_count": 6,
   "id": "b8820dd3",
   "metadata": {},
   "outputs": [],
   "source": [
    "#最後一步了，終於可以下載\n",
    "#driver.find_element(By.CSS_SELECTOR,\"[aria-label='下載']\").click()\n",
    "driver.find_element(By.CSS_SELECTOR,\"[aria-label='Download']\").click()"
   ]
  },
  {
   "cell_type": "code",
   "execution_count": null,
   "id": "fcad993f",
   "metadata": {},
   "outputs": [],
   "source": []
  }
 ],
 "metadata": {
  "kernelspec": {
   "display_name": "Python 3.8.8 ('base')",
   "language": "python",
   "name": "python3"
  },
  "language_info": {
   "codemirror_mode": {
    "name": "ipython",
    "version": 3
   },
   "file_extension": ".py",
   "mimetype": "text/x-python",
   "name": "python",
   "nbconvert_exporter": "python",
   "pygments_lexer": "ipython3",
   "version": "3.8.8"
  },
  "vscode": {
   "interpreter": {
    "hash": "e2e6ef08d5c68e8f2b193a159a8a1d001cdef218fb863802a3579938b197420f"
   }
  }
 },
 "nbformat": 4,
 "nbformat_minor": 5
}
