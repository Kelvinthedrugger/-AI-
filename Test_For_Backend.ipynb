{
 "cells": [
  {
   "cell_type": "markdown",
   "id": "93c89eea",
   "metadata": {},
   "source": [
    "# 用Selenium直接Access帳戶資料"
   ]
  },
  {
   "cell_type": "code",
   "execution_count": null,
   "id": "17900098",
   "metadata": {},
   "outputs": [],
   "source": [
    "from selenium import webdriver\n",
    "from time import sleep\n",
    "from webdriver_manager.chrome import ChromeDriverManager\n",
    "from selenium.webdriver.chrome.options import Options\n",
    "from selenium.webdriver.common.keys import Keys\n",
    "\n",
    "usr=input('帳號')\n",
    "pwd=input('密碼')\n",
    "\n",
    "driver = webdriver.Chrome(ChromeDriverManager().install())\n",
    "driver.get('https://www.facebook.com/')\n",
    "print (\"Opened facebook\")\n",
    "sleep(1)\n",
    "\n",
    "username_box = driver.find_element('id','email')\n",
    "username_box.send_keys('usr')\n",
    "print (\"Email Id entered\")\n",
    "sleep(1)\n",
    "\n",
    "password_box = driver.find_element('id','pass')\n",
    "password_box.send_keys('pwd')\n",
    "print (\"Password entered\")\n",
    "\n",
    "login_box = driver.find_element('name','login')\n",
    "login_box.click()\n",
    "print (\"Login Done\")\n",
    "sleep(1)\n",
    "#input('Press anything to quit')\n",
    "#driver.quit()\n",
    "#print(\"Finished\")\n",
    "\n",
    "#這邊要輸入對話框的ID\n",
    "ChatID = '1234568'#實際點進一個對話框，看他的網址最後面那一串數字就是了\n",
    "driver.get(\"https://www.facebook.com/messages/t/\"+ChatID)\n",
    "\n",
    "#進去之後就要去Get他對話裡面的Text，我的做法是用F12進去找他對話的xpath，然後直接複製過來\n",
    "dialogTxt = driver.find_element(\"xpath\",'那個對話的xpath')\n",
    "print(dialogTxt)"
   ]
  },
  {
   "cell_type": "markdown",
   "id": "b9b7e60e",
   "metadata": {},
   "source": [
    "# 問題\n",
    "1. 我現在只做到登入然後可以偷資料下來，但他的那些參數(ex: 對話編號、Dialog的xpath)都是我手動去抓的，不知道有沒有自動抓法\n",
    "2. 網路上很多的作法都是Selenium改版前的，所以他很多功能都換了，也鎖了不少，能參考的文章不多(FB, Line API也是一樣)\n",
    "3. 如果真的寫出來的話，不知道手機板的Messenger軟體有沒有辦法用一樣的方法去Access"
   ]
  },
  {
   "cell_type": "code",
   "execution_count": null,
   "id": "a6469620",
   "metadata": {},
   "outputs": [],
   "source": []
  }
 ],
 "metadata": {
  "kernelspec": {
   "display_name": "Python 3",
   "language": "python",
   "name": "python3"
  },
  "language_info": {
   "codemirror_mode": {
    "name": "ipython",
    "version": 3
   },
   "file_extension": ".py",
   "mimetype": "text/x-python",
   "name": "python",
   "nbconvert_exporter": "python",
   "pygments_lexer": "ipython3",
   "version": "3.8.10"
  }
 },
 "nbformat": 4,
 "nbformat_minor": 5
}
