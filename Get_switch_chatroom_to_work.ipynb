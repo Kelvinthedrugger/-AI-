{
 "cells": [
  {
   "cell_type": "markdown",
   "metadata": {},
   "source": [
    "## We try to load designated conversation on Messenger (webpage) directly\n",
    "### aka, messages/t/chat_id"
   ]
  },
  {
   "cell_type": "code",
   "execution_count": 1,
   "metadata": {},
   "outputs": [
    {
     "name": "stdout",
     "output_type": "stream",
     "text": [
      "\n"
     ]
    },
    {
     "name": "stderr",
     "output_type": "stream",
     "text": [
      "<ipython-input-1-4eef973230a3>:23: DeprecationWarning: executable_path has been deprecated, please pass in a Service object\n",
      "  driver = webdriver.Chrome(ChromeDriverManager().install(), options=optionla)\n"
     ]
    },
    {
     "name": "stdout",
     "output_type": "stream",
     "text": [
      "Opened facebook\n",
      "Email Id entered\n",
      "Password entered\n",
      "Done\n"
     ]
    }
   ],
   "source": [
    "\"EMO_AI version 0.0.6 敬請期待XD\"\n",
    "#from EMO_AI.messenger import *\n",
    "#driver = login(close_option=True)\n",
    "#先登入FB\n",
    "\n",
    "from selenium import webdriver\n",
    "from time import sleep\n",
    "from webdriver_manager.chrome import ChromeDriverManager\n",
    "from selenium.webdriver.chrome.options import Options\n",
    "from selenium.webdriver.common.keys import Keys\n",
    "from selenium.webdriver.common.by import By\n",
    "from selenium.webdriver.support.ui import WebDriverWait\n",
    "from selenium.webdriver.support import expected_conditions as EC\n",
    "from selenium.webdriver.common.action_chains import ActionChains\n",
    "\n",
    "#先把通知都關掉，不然後面會點不到按鈕\n",
    "optionla = Options();\n",
    "optionla.add_argument(\"disable-notifications\");\n",
    "\n",
    "#輸入帳密\n",
    "usr=input('帳號')\n",
    "pwd=input('密碼')\n",
    "\n",
    "driver = webdriver.Chrome(ChromeDriverManager().install(), options=optionla)\n",
    "driver.get('https://www.facebook.com/')\n",
    "print (\"Opened facebook\")\n",
    "sleep(1)\n",
    "\n",
    "username_box = driver.find_element('id','email')\n",
    "username_box.send_keys(usr)\n",
    "print (\"Email Id entered\")\n",
    "sleep(1)\n",
    "\n",
    "password_box = driver.find_element('id','pass')\n",
    "password_box.send_keys(pwd)\n",
    "print (\"Password entered\")\n",
    "\n",
    "login_box = driver.find_element('name','login')\n",
    "login_box.click()\n",
    "\n",
    "print (\"Done\")"
   ]
  },
  {
   "cell_type": "code",
   "execution_count": null,
   "metadata": {},
   "outputs": [],
   "source": [
    "# import pkg\n",
    "#from selenium import webdriver\n",
    "#from time import sleep\n",
    "#from webdriver_manager.chrome import ChromeDriverManager\n",
    "#from selenium.webdriver.chrome.options import Options\n",
    "#from selenium.webdriver.common.keys import Keys"
   ]
  },
  {
   "cell_type": "code",
   "execution_count": 3,
   "metadata": {},
   "outputs": [],
   "source": [
    "# visit messenger chat room page\n",
    "# it will automatically redirect the page to\n",
    "# the toppest conversation (aka, last conversation)\n",
    "\"它會自動移動到上一次進行的對話,所以不用打ID\"\n",
    "driver.get(\"https://www.facebook.com/messages/t/\")"
   ]
  },
  {
   "cell_type": "code",
   "execution_count": 4,
   "metadata": {},
   "outputs": [
    {
     "data": {
      "text/plain": [
       "'https://www.facebook.com/messages/t/100000740565664/'"
      ]
     },
     "execution_count": 4,
     "metadata": {},
     "output_type": "execute_result"
    }
   ],
   "source": [
    "\"print出現在所在的ID\"\n",
    "driver.current_url"
   ]
  },
  {
   "cell_type": "code",
   "execution_count": 5,
   "metadata": {},
   "outputs": [
    {
     "data": {
      "text/plain": [
       "\"\\n#we don't actually have to import this, it's just strings\\nvars(By)\\nmappingproxy(\\n{'__module__': 'selenium.webdriver.common.by',\\n'__doc__': '\\n    Set of supported locator strategies.\\n    ',\\n'ID': 'id',\\n'XPATH': 'xpath',\\n'LINK_TEXT': 'link text',\\n'PARTIAL_LINK_TEXT': 'partial link text',\\n'NAME': 'name',\\n'TAG_NAME': 'tag name',\\n'CLASS_NAME': 'class name',\\n'CSS_SELECTOR': 'css selector',\\n'__dict__': <attribute '__dict__' of 'By' objects>,\\n'__weakref__': <attribute '__weakref__' of 'By' objects>}\\n\""
      ]
     },
     "execution_count": 5,
     "metadata": {},
     "output_type": "execute_result"
    }
   ],
   "source": [
    "\"\"\"\n",
    "#we don't actually have to import this, it's just strings\n",
    "vars(By)\n",
    "mappingproxy(\n",
    "{'__module__': 'selenium.webdriver.common.by',\n",
    "'__doc__': '\\n    Set of supported locator strategies.\\n    ',\n",
    "'ID': 'id',\n",
    "'XPATH': 'xpath',\n",
    "'LINK_TEXT': 'link text',\n",
    "'PARTIAL_LINK_TEXT': 'partial link text',\n",
    "'NAME': 'name',\n",
    "'TAG_NAME': 'tag name',\n",
    "'CLASS_NAME': 'class name',\n",
    "'CSS_SELECTOR': 'css selector',\n",
    "'__dict__': <attribute '__dict__' of 'By' objects>,\n",
    "'__weakref__': <attribute '__weakref__' of 'By' objects>}\n",
    "\"\"\""
   ]
  },
  {
   "cell_type": "code",
   "execution_count": 6,
   "metadata": {},
   "outputs": [],
   "source": [
    "from time import sleep"
   ]
  },
  {
   "cell_type": "code",
   "execution_count": 7,
   "metadata": {},
   "outputs": [],
   "source": [
    "\"locate 'Search Messenger' and click it\"\n",
    "sleep(1)\n",
    "t1 = driver.find_element('css selector', '[aria-label=\"Search Messenger\"]')\n",
    "t1.click()"
   ]
  },
  {
   "cell_type": "code",
   "execution_count": 8,
   "metadata": {},
   "outputs": [],
   "source": [
    "#for ele in dir(t1):\n",
    "#    if not ele.startswith(\"_\"):\n",
    "#        print(ele)"
   ]
  },
  {
   "cell_type": "code",
   "execution_count": 9,
   "metadata": {},
   "outputs": [
    {
     "data": {
      "text/plain": [
       "selenium.webdriver.remote.webelement.WebElement"
      ]
     },
     "execution_count": 9,
     "metadata": {},
     "output_type": "execute_result"
    }
   ],
   "source": [
    "type(t1)"
   ]
  },
  {
   "cell_type": "code",
   "execution_count": 10,
   "metadata": {},
   "outputs": [],
   "source": [
    "assert t1.tag_name == 'input'"
   ]
  },
  {
   "cell_type": "markdown",
   "metadata": {},
   "source": [
    "#### Let's click the damn thing"
   ]
  },
  {
   "cell_type": "code",
   "execution_count": 11,
   "metadata": {},
   "outputs": [],
   "source": [
    "from selenium.webdriver import ActionChains"
   ]
  },
  {
   "cell_type": "code",
   "execution_count": 12,
   "metadata": {},
   "outputs": [],
   "source": [
    "action_chains = ActionChains(driver)"
   ]
  },
  {
   "cell_type": "markdown",
   "metadata": {},
   "source": [
    "## This fucking works,\n",
    "### Actions:\n",
    "    hit \"Search Messenger\"\n",
    "    navigate downwards (按鍵盤下鍵)\n",
    "    navigate downwards (按鍵盤下鍵, 對你沒看錯, 再按一次)\n",
    "    按Enter\n",
    "    actions.perform() 執行\n"
   ]
  },
  {
   "cell_type": "code",
   "execution_count": 13,
   "metadata": {},
   "outputs": [],
   "source": [
    "from selenium.webdriver.common.keys import Keys"
   ]
  },
  {
   "cell_type": "code",
   "execution_count": 14,
   "metadata": {},
   "outputs": [],
   "source": [
    "action_chains.move_to_element(t1).click(t1)\n",
    "# this works, but the time interval is merely too short before it returns to nothing\n",
    "sleep(2)\n",
    "\"Enter name here, don't hit '\\n'!, which is equivalent to enter -> navigating using arrows won't work then\"\n",
    "action_chains.send_keys(\"Fu Yun\")\n",
    "sleep(2)\n",
    "action_chains.send_keys(Keys.ARROW_DOWN)\n",
    "action_chains.send_keys(Keys.ARROW_DOWN)\n",
    "action_chains.send_keys(Keys.ENTER)\n",
    "action_chains.perform()"
   ]
  },
  {
   "cell_type": "code",
   "execution_count": null,
   "metadata": {},
   "outputs": [],
   "source": []
  },
  {
   "cell_type": "code",
   "execution_count": 15,
   "metadata": {},
   "outputs": [
    {
     "data": {
      "text/plain": [
       "'uncomment below to run'"
      ]
     },
     "execution_count": 15,
     "metadata": {},
     "output_type": "execute_result"
    }
   ],
   "source": [
    "\"print loaded conversation in that chat room (aka, the chat with that person), about 30 lines\"\n",
    "\"uncomment below to run\"\n",
    "#for ele in driver.find_elements(\"xpath\", \"//div[@dir='auto']\"):\n",
    "#    print(ele.text, ele.tag_name)"
   ]
  },
  {
   "cell_type": "code",
   "execution_count": null,
   "metadata": {},
   "outputs": [],
   "source": []
  }
 ],
 "metadata": {
  "kernelspec": {
   "display_name": "Python 3.8.8 ('base')",
   "language": "python",
   "name": "python3"
  },
  "language_info": {
   "codemirror_mode": {
    "name": "ipython",
    "version": 3
   },
   "file_extension": ".py",
   "mimetype": "text/x-python",
   "name": "python",
   "nbconvert_exporter": "python",
   "pygments_lexer": "ipython3",
   "version": "3.8.8"
  },
  "orig_nbformat": 4,
  "vscode": {
   "interpreter": {
    "hash": "e2e6ef08d5c68e8f2b193a159a8a1d001cdef218fb863802a3579938b197420f"
   }
  }
 },
 "nbformat": 4,
 "nbformat_minor": 2
}
