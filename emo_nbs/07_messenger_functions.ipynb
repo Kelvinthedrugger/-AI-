{
 "cells": [
  {
   "cell_type": "code",
   "execution_count": null,
   "metadata": {},
   "outputs": [],
   "source": [
    "#adefault_exp messenger_utils"
   ]
  },
  {
   "cell_type": "markdown",
   "metadata": {},
   "source": [
    "## We try to load designated conversation on Messenger (webpage) directly\n",
    "### aka, messages/t/chat_id"
   ]
  },
  {
   "cell_type": "code",
   "execution_count": 1,
   "metadata": {},
   "outputs": [],
   "source": [
    "#aexport\n",
    "from EMO_AI.messenger import *"
   ]
  },
  {
   "cell_type": "code",
   "execution_count": 2,
   "metadata": {},
   "outputs": [
    {
     "name": "stdout",
     "output_type": "stream",
     "text": [
      "\n",
      "Opened facebook\n",
      "Email Id entered\n",
      "Password entered\n",
      "Login Done\n"
     ]
    }
   ],
   "source": [
    "# 關掉通知\n",
    "driver = login(close_option=True)"
   ]
  },
  {
   "cell_type": "code",
   "execution_count": 3,
   "metadata": {},
   "outputs": [],
   "source": [
    "# import pkg\n",
    "#from selenium import webdriver\n",
    "#from time import sleep\n",
    "#from webdriver_manager.chrome import ChromeDriverManager\n",
    "#from selenium.webdriver.chrome.options import Options\n",
    "#from selenium.webdriver.common.keys import Keys"
   ]
  },
  {
   "cell_type": "code",
   "execution_count": 4,
   "metadata": {},
   "outputs": [],
   "source": [
    "# visit messenger chat room page\n",
    "# it will automatically redirect the page to\n",
    "# the toppest conversation (aka, last conversation)\n",
    "\n",
    "#driver.get(\"https://www.facebook.com/messages/t/\")"
   ]
  },
  {
   "cell_type": "code",
   "execution_count": 5,
   "metadata": {},
   "outputs": [
    {
     "data": {
      "text/plain": [
       "'https://www.facebook.com/messages/t/100001277722583/'"
      ]
     },
     "execution_count": 5,
     "metadata": {},
     "output_type": "execute_result"
    }
   ],
   "source": [
    "#driver.current_url"
   ]
  },
  {
   "cell_type": "code",
   "execution_count": 6,
   "metadata": {},
   "outputs": [
    {
     "data": {
      "text/plain": [
       "\"\\n#we don't actually have to import this, it's just strings\\nvars(By)\\nmappingproxy(\\n{'__module__': 'selenium.webdriver.common.by',\\n'__doc__': '\\n    Set of supported locator strategies.\\n    ',\\n'ID': 'id',\\n'XPATH': 'xpath',\\n'LINK_TEXT': 'link text',\\n'PARTIAL_LINK_TEXT': 'partial link text',\\n'NAME': 'name',\\n'TAG_NAME': 'tag name',\\n'CLASS_NAME': 'class name',\\n'CSS_SELECTOR': 'css selector',\\n'__dict__': <attribute '__dict__' of 'By' objects>,\\n'__weakref__': <attribute '__weakref__' of 'By' objects>}\\n\""
      ]
     },
     "execution_count": 6,
     "metadata": {},
     "output_type": "execute_result"
    }
   ],
   "source": [
    "\"\"\"\n",
    "#we don't actually have to import this, it's just strings\n",
    "vars(By)\n",
    "mappingproxy(\n",
    "{'__module__': 'selenium.webdriver.common.by',\n",
    "'__doc__': '\\n    Set of supported locator strategies.\\n    ',\n",
    "'ID': 'id',\n",
    "'XPATH': 'xpath',\n",
    "'LINK_TEXT': 'link text',\n",
    "'PARTIAL_LINK_TEXT': 'partial link text',\n",
    "'NAME': 'name',\n",
    "'TAG_NAME': 'tag name',\n",
    "'CLASS_NAME': 'class name',\n",
    "'CSS_SELECTOR': 'css selector',\n",
    "'__dict__': <attribute '__dict__' of 'By' objects>,\n",
    "'__weakref__': <attribute '__weakref__' of 'By' objects>}\n",
    "\"\"\""
   ]
  },
  {
   "cell_type": "code",
   "execution_count": 7,
   "metadata": {},
   "outputs": [],
   "source": [
    "#from time import sleep"
   ]
  },
  {
   "cell_type": "code",
   "execution_count": 14,
   "metadata": {},
   "outputs": [],
   "source": [
    "#aexport\n",
    "def visit_messenger(driver=None):\n",
    "    if not driver:\n",
    "        print(\"Warning! driver not initialized, automatically login for you\")\n",
    "        #from EMO_AI.messenger import login\n",
    "        driver = login()\n",
    "    # facebook will auto re-direct this page to the latest conversation\n",
    "    # so, we don't need to worry about the Chat Id\n",
    "    driver.get(\"https://www.facebook.com/messages/t/\")"
   ]
  },
  {
   "cell_type": "code",
   "execution_count": 9,
   "metadata": {},
   "outputs": [],
   "source": [
    "#for ele in dir(t1):\n",
    "#    if not ele.startswith(\"_\"):\n",
    "#        print(ele)"
   ]
  },
  {
   "cell_type": "code",
   "execution_count": 10,
   "metadata": {},
   "outputs": [
    {
     "data": {
      "text/plain": [
       "selenium.webdriver.remote.webelement.WebElement"
      ]
     },
     "execution_count": 10,
     "metadata": {},
     "output_type": "execute_result"
    }
   ],
   "source": [
    "#type(t1)\n",
    "# output: selenium.webdriver.remote.webelement.WebElement"
   ]
  },
  {
   "cell_type": "code",
   "execution_count": 11,
   "metadata": {},
   "outputs": [],
   "source": [
    "#assert t1.tag_name == 'input'"
   ]
  },
  {
   "cell_type": "markdown",
   "metadata": {},
   "source": [
    "### Simpler and it works"
   ]
  },
  {
   "cell_type": "code",
   "execution_count": 13,
   "metadata": {},
   "outputs": [],
   "source": [
    "#from selenium.webdriver.common.keys import Keys"
   ]
  },
  {
   "cell_type": "code",
   "execution_count": 15,
   "metadata": {},
   "outputs": [],
   "source": [
    "#aexport\n",
    "def search_in_messenger(person=\"\", driver=None, save_method=True):\n",
    "    if not driver:\n",
    "        print(\"please login first then call this function\")\n",
    "        #from EMO_AI.messenger import login\n",
    "        driver = login()\n",
    "        visit_messenger()\n",
    "    \"locate 'Search Messenger' and click it\"\n",
    "    from time import sleep\n",
    "    sleep(1)\n",
    "    t1 = driver.find_element('css selector', '[aria-label=\"Search Messenger\"]')\n",
    "    t1.click()\n",
    "    from selenium.webdriver.common.keys import Keys\n",
    "    if not save_method:\n",
    "        t1.send_keys(person)\n",
    "        t1.send_keys(Keys.ARROW_DOWN)\n",
    "        t1.send_keys(Keys.ARROW_DOWN)\n",
    "        t1.send_keys(\"\\n\")\n",
    "    else:\n",
    "        from selenium.webdriver import ActionChains\n",
    "        action_chains.move_to_element(t1).click(t1)\n",
    "        # this works, but the time interval is merely too short before it returns to nothing\n",
    "        sleep(2)\n",
    "        action_chains.send_keys(person)\n",
    "        sleep(2)\n",
    "        action_chains.send_keys(Keys.ARROW_DOWN)\n",
    "        action_chains.send_keys(Keys.ARROW_DOWN)\n",
    "        action_chains.send_keys(Keys.ENTER)\n",
    "        action_chains.perform()\n",
    "        "
   ]
  },
  {
   "cell_type": "markdown",
   "metadata": {},
   "source": [
    "#### Let's click the damn thing"
   ]
  },
  {
   "cell_type": "code",
   "execution_count": 46,
   "metadata": {},
   "outputs": [],
   "source": [
    "from selenium.webdriver import ActionChains"
   ]
  },
  {
   "cell_type": "code",
   "execution_count": 47,
   "metadata": {},
   "outputs": [],
   "source": [
    "action_chains = ActionChains(driver)"
   ]
  },
  {
   "cell_type": "markdown",
   "metadata": {},
   "source": [
    "## This fucking works,\n",
    "### Actions:\n",
    "    hit \"Search Messenger\"\n",
    "    navigate downwards (按鍵盤下鍵)\n",
    "    navigate downwards (按鍵盤下鍵, 對你沒看錯, 再按一次)\n",
    "    按Enter\n",
    "    actions.perform() 執行\n"
   ]
  },
  {
   "cell_type": "code",
   "execution_count": 48,
   "metadata": {},
   "outputs": [],
   "source": [
    "from selenium.webdriver.common.keys import Keys"
   ]
  },
  {
   "cell_type": "code",
   "execution_count": 49,
   "metadata": {},
   "outputs": [],
   "source": [
    "action_chains.move_to_element(t1).click(t1)\n",
    "# this works, but the time interval is merely too short before it returns to nothing\n",
    "sleep(2)\n",
    "action_chains.send_keys(\"Fu Yun\")\n",
    "sleep(2)\n",
    "action_chains.send_keys(Keys.ARROW_DOWN)\n",
    "action_chains.send_keys(Keys.ARROW_DOWN)\n",
    "action_chains.send_keys(Keys.ENTER)\n",
    "action_chains.perform()"
   ]
  },
  {
   "cell_type": "code",
   "execution_count": null,
   "metadata": {},
   "outputs": [],
   "source": []
  },
  {
   "cell_type": "code",
   "execution_count": 50,
   "metadata": {},
   "outputs": [
    {
     "data": {
      "text/plain": [
       "'uncomment below to run'"
      ]
     },
     "execution_count": 50,
     "metadata": {},
     "output_type": "execute_result"
    }
   ],
   "source": [
    "\"print loaded conversation in that chat room (aka, the chat with that person), about 30 lines\"\n",
    "\"uncomment below to run\"\n",
    "#for ele in driver.find_elements(\"xpath\", \"//div[@dir='auto']\"):\n",
    "#    print(ele.text, ele.tag_name)"
   ]
  },
  {
   "cell_type": "code",
   "execution_count": null,
   "metadata": {},
   "outputs": [],
   "source": []
  }
 ],
 "metadata": {
  "kernelspec": {
   "display_name": "Python 3.7.9 ('AI_sheng')",
   "language": "python",
   "name": "python3"
  },
  "language_info": {
   "codemirror_mode": {
    "name": "ipython",
    "version": 3
   },
   "file_extension": ".py",
   "mimetype": "text/x-python",
   "name": "python",
   "nbconvert_exporter": "python",
   "pygments_lexer": "ipython3",
   "version": "3.7.9"
  },
  "orig_nbformat": 4,
  "vscode": {
   "interpreter": {
    "hash": "9db77c7d38baf4b93e998a2213b9026a3d1545f748ab5419893b25caa4e3cb58"
   }
  }
 },
 "nbformat": 4,
 "nbformat_minor": 2
}
