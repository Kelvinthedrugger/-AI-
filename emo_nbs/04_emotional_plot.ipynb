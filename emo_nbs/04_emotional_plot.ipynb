{
 "cells": [
  {
   "cell_type": "code",
   "execution_count": 1,
   "metadata": {},
   "outputs": [],
   "source": [
    "#default_exp vaplot"
   ]
  },
  {
   "cell_type": "code",
   "execution_count": 2,
   "metadata": {},
   "outputs": [
    {
     "name": "stdout",
     "output_type": "stream",
     "text": [
      "this is the file\n"
     ]
    }
   ],
   "source": [
    "print(\"this is the file\")"
   ]
  },
  {
   "cell_type": "code",
   "execution_count": 3,
   "metadata": {},
   "outputs": [],
   "source": [
    "#export\n",
    "from EMO_AI.model_api import *"
   ]
  },
  {
   "cell_type": "code",
   "execution_count": 4,
   "metadata": {},
   "outputs": [
    {
     "data": {
      "text/plain": [
       "{'sadness': 0, 'joy': 1, 'love': 2, 'anger': 3, 'fear': 4, 'surprise': 5}"
      ]
     },
     "execution_count": 4,
     "metadata": {},
     "output_type": "execute_result"
    }
   ],
   "source": [
    "label2int"
   ]
  },
  {
   "cell_type": "code",
   "execution_count": 2,
   "metadata": {},
   "outputs": [],
   "source": [
    "#export\n",
    "import numpy as np"
   ]
  },
  {
   "cell_type": "code",
   "execution_count": 6,
   "metadata": {},
   "outputs": [],
   "source": [
    "label2vector = dict()"
   ]
  },
  {
   "cell_type": "code",
   "execution_count": 3,
   "metadata": {},
   "outputs": [],
   "source": [
    "#export\n",
    "# helpful when changing the value of each emotional vector\n",
    "# e.g., label2vector['anger'] = get_vec(1,2)\n",
    "# , which will change the vector value of 'anger' to np.array([1,2])\n",
    "# pay attention to the shape when plotting\n",
    "# *args allows us to input as many dimension as we want, see examples below\n",
    "def get_vec(*args):\n",
    "    return np.array(args).reshape(-1,1)"
   ]
  },
  {
   "cell_type": "code",
   "execution_count": 9,
   "metadata": {},
   "outputs": [
    {
     "name": "stdout",
     "output_type": "stream",
     "text": [
      "[[-0.5]\n",
      " [-0.5]] with shape: (2, 1)\n",
      "\n",
      "all the elements: ele[0]:  [-0.5]; ele[1]:  [-0.5]; \n",
      "[[1]\n",
      " [2]\n",
      " [3]] with shape: (3, 1)\n",
      "\n",
      "all the elements: ele[0]:  [1]; ele[1]:  [2]; ele[2]:  [3]; \n",
      "[[ 1]\n",
      " [ 2]\n",
      " [ 5]\n",
      " [ 8]\n",
      " [-2]] with shape: (5, 1)\n",
      "\n",
      "all the elements: ele[0]:  [1]; ele[1]:  [2]; ele[2]:  [5]; ele[3]:  [8]; ele[4]:  [-2]; \n"
     ]
    }
   ],
   "source": [
    "for ele in [get_vec(-0.5,-0.5), get_vec(1,2,3), get_vec(1,2,5,8,-2)]:\n",
    "    print(ele, \"with shape:\", ele.shape, end=\"\\n\\n\")\n",
    "    print(\"all the elements:\", end=\" \")\n",
    "    for i in range(len(ele)):\n",
    "        print(\"ele[%d]: \" % (i), ele[i], end=\"; \")\n",
    "    print(\"\")"
   ]
  },
  {
   "cell_type": "code",
   "execution_count": 12,
   "metadata": {},
   "outputs": [
    {
     "name": "stdout",
     "output_type": "stream",
     "text": [
      "(1, 2)\n",
      "(-0.5, -0.5)\n",
      "(0.5, 0.5)\n",
      "(0.8, 0)\n",
      "(-0.8, 0.8)\n",
      "(-0.8, 0)\n",
      "(0.8, 0.8)\n",
      "key: sadness array: [[-0.5]\n",
      " [-0.5]]\n",
      "key: joy array: [[0.5]\n",
      " [0.5]]\n",
      "key: love array: [[0.8]\n",
      " [0. ]]\n",
      "key: anger array: [[-0.8]\n",
      " [ 0.8]]\n",
      "key: fear array: [[-0.8]\n",
      " [ 0. ]]\n",
      "key: surprise array: [[0.8]\n",
      " [0.8]]\n"
     ]
    }
   ],
   "source": [
    "\"\"\"\n",
    "# (not important) how i write label2vector in the first place\n",
    "# helpful when re-writing the maps tho\n",
    "from EMO_AI.model_api import label2int\n",
    "tmp = [1,2]\n",
    "def p(x,y):\n",
    "    return x,y\n",
    "print(p(*tmp))\n",
    "# hand write the vector values in the list\n",
    "# following the order of label2int map\n",
    "label2vector = dict()\n",
    "emovecs = [[-0.5,-0.5],[0.5,0.5],[0.8,0],[-0.8,0.8],[-0.8,0],[0.8,0.8]]\n",
    "for ele in emovecs: print(p(*ele))\n",
    "for key, ele in zip(label2int, emovecs):\n",
    "    label2vector[key] = np.array(ele).reshape(-1,1)\n",
    "for key, val in label2vector.items():\n",
    "    print(\"key:\", key, \"array:\", val)\n",
    "\"\"\""
   ]
  },
  {
   "cell_type": "code",
   "execution_count": 2,
   "metadata": {},
   "outputs": [],
   "source": [
    "#export\n",
    "label2vector = {'sadness': np.array([[-0.5],\n",
    "        [-0.5]]),\n",
    " 'joy': np.array([[0.5],\n",
    "        [0.5]]),\n",
    " 'love': np.array([[0.8],\n",
    "        [0. ]]),\n",
    " 'anger': np.array([[-0.8],\n",
    "        [ 0.8]]),\n",
    " 'fear': np.array([[-0.8],\n",
    "        [ 0. ]]),\n",
    " 'surprise': np.array([[0.8],\n",
    "        [0.8]])}"
   ]
  },
  {
   "cell_type": "code",
   "execution_count": 3,
   "metadata": {},
   "outputs": [
    {
     "data": {
      "text/plain": [
       "{'sadness': array([[-0.5],\n",
       "        [-0.5]]),\n",
       " 'joy': array([[0.5],\n",
       "        [0.5]]),\n",
       " 'love': array([[0.8],\n",
       "        [0. ]]),\n",
       " 'anger': array([[-0.8],\n",
       "        [ 0.8]]),\n",
       " 'fear': array([[-0.8],\n",
       "        [ 0. ]]),\n",
       " 'surprise': array([[0.8],\n",
       "        [0.8]])}"
      ]
     },
     "execution_count": 3,
     "metadata": {},
     "output_type": "execute_result"
    }
   ],
   "source": [
    "label2vector"
   ]
  },
  {
   "cell_type": "markdown",
   "metadata": {},
   "source": [
    "#### check the original map, aka, label2int"
   ]
  },
  {
   "cell_type": "code",
   "execution_count": 1,
   "metadata": {},
   "outputs": [],
   "source": [
    "from EMO_AI.model_api import label2int"
   ]
  },
  {
   "cell_type": "code",
   "execution_count": 2,
   "metadata": {},
   "outputs": [],
   "source": [
    "#export\n",
    "\"\"\"if you want to see the original map, just use this\"\"\"\n",
    "def check_label2int(print_it=True):\n",
    "    if print_it:\n",
    "        for key in label2int:\n",
    "            print(key,\":\",label2int[key])\n",
    "    return label2int"
   ]
  },
  {
   "cell_type": "code",
   "execution_count": 4,
   "metadata": {},
   "outputs": [
    {
     "name": "stdout",
     "output_type": "stream",
     "text": [
      "sadness : 0\n",
      "joy : 1\n",
      "love : 2\n",
      "anger : 3\n",
      "fear : 4\n",
      "surprise : 5\n"
     ]
    },
    {
     "data": {
      "text/plain": [
       "({'sadness': 0, 'joy': 1, 'love': 2, 'anger': 3, 'fear': 4, 'surprise': 5},\n",
       " {'sadness': 0, 'joy': 1, 'love': 2, 'anger': 3, 'fear': 4, 'surprise': 5})"
      ]
     },
     "execution_count": 4,
     "metadata": {},
     "output_type": "execute_result"
    }
   ],
   "source": [
    "check_label2int(), check_label2int(False) # this works"
   ]
  },
  {
   "cell_type": "code",
   "execution_count": 1,
   "metadata": {},
   "outputs": [
    {
     "name": "stdout",
     "output_type": "stream",
     "text": [
      "sadness : 0\n",
      "joy : 1\n",
      "love : 2\n",
      "anger : 3\n",
      "fear : 4\n",
      "surprise : 5\n"
     ]
    },
    {
     "data": {
      "text/plain": [
       "{'sadness': 0, 'joy': 1, 'love': 2, 'anger': 3, 'fear': 4, 'surprise': 5}"
      ]
     },
     "execution_count": 1,
     "metadata": {},
     "output_type": "execute_result"
    }
   ],
   "source": [
    "from EMO_AI.vaplot import check_label2int\n",
    "# it works, mofo\n",
    "check_label2int()"
   ]
  },
  {
   "cell_type": "code",
   "execution_count": 1,
   "metadata": {},
   "outputs": [
    {
     "data": {
      "text/plain": [
       "({'sadness': 0, 'joy': 1, 'love': 2, 'anger': 3, 'fear': 4, 'surprise': 5},\n",
       " {'sadness': array([[-0.5],\n",
       "         [-0.5]]),\n",
       "  'joy': array([[0.5],\n",
       "         [0.5]]),\n",
       "  'love': array([[0.8],\n",
       "         [0. ]]),\n",
       "  'anger': array([[-0.8],\n",
       "         [ 0.8]]),\n",
       "  'fear': array([[-0.8],\n",
       "         [ 0. ]]),\n",
       "  'surprise': array([[0.8],\n",
       "         [0.8]])})"
      ]
     },
     "execution_count": 1,
     "metadata": {},
     "output_type": "execute_result"
    }
   ],
   "source": [
    "\"\"\"works\"\"\"\n",
    "# i've create modules for importing the maps with handy, test here temporarily\n",
    "from EMO_AI.label_maps import *\n",
    "label2int, label2vector"
   ]
  },
  {
   "cell_type": "code",
   "execution_count": 1,
   "metadata": {},
   "outputs": [
    {
     "name": "stderr",
     "output_type": "stream",
     "text": [
      "c:\\Users\\Kelvin\\anaconda3\\envs\\AI_sheng\\lib\\site-packages\\transformers\\models\\auto\\modeling_auto.py:973: FutureWarning: The class `AutoModelWithLMHead` is deprecated and will be removed in a future version. Please use `AutoModelForCausalLM` for causal language models, `AutoModelForMaskedLM` for masked language models and `AutoModelForSeq2SeqLM` for encoder-decoder models.\n",
      "  FutureWarning,\n"
     ]
    },
    {
     "data": {
      "text/plain": [
       "('joy',\n",
       " {'sadness': array([[-0.5],\n",
       "         [-0.5]]),\n",
       "  'joy': array([[0.5],\n",
       "         [0.5]]),\n",
       "  'love': array([[0.8],\n",
       "         [0. ]]),\n",
       "  'anger': array([[-0.8],\n",
       "         [ 0.8]]),\n",
       "  'fear': array([[-0.8],\n",
       "         [ 0. ]]),\n",
       "  'surprise': array([[0.8],\n",
       "         [0.8]])})"
      ]
     },
     "execution_count": 1,
     "metadata": {},
     "output_type": "execute_result"
    }
   ],
   "source": [
    "\"\"\"works\"\"\"\n",
    "# test imports.py as well\n",
    "from EMO_AI.all import *\n",
    "model = get_model(pretrained=False)\n",
    "get_output(\"let it be\", model), label2vector"
   ]
  },
  {
   "cell_type": "code",
   "execution_count": null,
   "metadata": {},
   "outputs": [],
   "source": []
  }
 ],
 "metadata": {
  "kernelspec": {
   "display_name": "Python 3.7.9 ('AI_sheng')",
   "language": "python",
   "name": "python3"
  },
  "language_info": {
   "codemirror_mode": {
    "name": "ipython",
    "version": 3
   },
   "file_extension": ".py",
   "mimetype": "text/x-python",
   "name": "python",
   "nbconvert_exporter": "python",
   "pygments_lexer": "ipython3",
   "version": "3.7.9"
  },
  "orig_nbformat": 4,
  "vscode": {
   "interpreter": {
    "hash": "9db77c7d38baf4b93e998a2213b9026a3d1545f748ab5419893b25caa4e3cb58"
   }
  }
 },
 "nbformat": 4,
 "nbformat_minor": 2
}
