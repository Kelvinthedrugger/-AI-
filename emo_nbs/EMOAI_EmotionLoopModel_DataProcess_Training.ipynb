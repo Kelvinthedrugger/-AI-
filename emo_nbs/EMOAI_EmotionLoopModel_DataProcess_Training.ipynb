{
 "cells": [
  {
   "cell_type": "code",
   "execution_count": null,
   "id": "7c7e98ef",
   "metadata": {},
   "outputs": [],
   "source": [
    "mypath = r\"C:\\Users\\sam\\Desktop\\ABA_Dataset\"\n",
    "from os import listdir\n",
    "from os.path import isfile, join\n",
    "onlyfiles = [f for f in listdir(mypath) if isfile(join(mypath, f))]"
   ]
  },
  {
   "cell_type": "code",
   "execution_count": 1,
   "id": "932ded56",
   "metadata": {},
   "outputs": [],
   "source": [
    "import json"
   ]
  },
  {
   "cell_type": "code",
   "execution_count": null,
   "id": "f7d122ca",
   "metadata": {},
   "outputs": [],
   "source": [
    "print(len(onlyfiles))"
   ]
  },
  {
   "cell_type": "code",
   "execution_count": null,
   "id": "7a69ed6a",
   "metadata": {},
   "outputs": [],
   "source": [
    "#只要ABA就好\n",
    "puredata = []"
   ]
  },
  {
   "cell_type": "code",
   "execution_count": null,
   "id": "7b194253",
   "metadata": {},
   "outputs": [],
   "source": [
    "with open(join(mypath,'Fearful face.json'),'r') as fuckerfile:\n",
    "    theopenfile = json.load(fuckerfile)\n",
    "    ttt = []\n",
    "    for k in range(0,3):\n",
    "        print(theopenfile[80][k])\n",
    "        ttt.append(theopenfile[80][k][1])"
   ]
  },
  {
   "cell_type": "code",
   "execution_count": null,
   "id": "756aa8d7",
   "metadata": {},
   "outputs": [],
   "source": [
    "print(ttt)"
   ]
  },
  {
   "cell_type": "code",
   "execution_count": null,
   "id": "98c4a12f",
   "metadata": {},
   "outputs": [],
   "source": [
    "for singlefile in onlyfiles:\n",
    "    with open(join(mypath,singlefile),'r') as happyfiles:\n",
    "        print(singlefile)\n",
    "        theopenedfile = json.load(happyfiles)\n",
    "        for i in range(0,len(theopenedfile)):\n",
    "            transient = []\n",
    "            for j in range(0,3):\n",
    "                transient.append(theopenedfile[i][j][1])\n",
    "            puredata.append(transient)\n",
    "        happyfiles.close()\n"
   ]
  },
  {
   "cell_type": "code",
   "execution_count": null,
   "id": "34c3362d",
   "metadata": {},
   "outputs": [],
   "source": [
    "print(puredata)"
   ]
  },
  {
   "cell_type": "code",
   "execution_count": null,
   "id": "60ff5273",
   "metadata": {},
   "outputs": [],
   "source": [
    "print(len(puredata))"
   ]
  },
  {
   "cell_type": "code",
   "execution_count": null,
   "id": "9999aa00",
   "metadata": {},
   "outputs": [],
   "source": [
    "print(len(puredata[0]))"
   ]
  },
  {
   "cell_type": "code",
   "execution_count": null,
   "id": "82b7ae78",
   "metadata": {},
   "outputs": [],
   "source": [
    "with open(r\"C:\\Users\\sam\\Desktop\\Flushed face.json\",'r') as jjj:\n",
    "    rrr = jjj.read().replace('\"','')"
   ]
  },
  {
   "cell_type": "code",
   "execution_count": null,
   "id": "942316d6",
   "metadata": {},
   "outputs": [],
   "source": [
    "with open(r\"C:\\Users\\sam\\Desktop\\ABA_Dataset\\Flushed face.json\",'w') as kkkkk:\n",
    "    json.dump(ddd,kkkkk)"
   ]
  },
  {
   "cell_type": "code",
   "execution_count": null,
   "id": "a581aafb",
   "metadata": {},
   "outputs": [],
   "source": [
    "with open(r\"C:\\Users\\sam\\Desktop\\Flushed face.json\",'r') as jjj:\n",
    "    ppp = json.load(jjj)"
   ]
  },
  {
   "cell_type": "code",
   "execution_count": null,
   "id": "af0a1e4a",
   "metadata": {},
   "outputs": [],
   "source": [
    "print(len(ppp))"
   ]
  },
  {
   "cell_type": "code",
   "execution_count": null,
   "id": "e60feb89",
   "metadata": {},
   "outputs": [],
   "source": [
    "with open(r\"C:\\Users\\sam\\Desktop\\ABA_Dataset\\TheAllDataset.json\",'w') as theall:\n",
    "    json.dump(puredata,theall)"
   ]
  },
  {
   "cell_type": "code",
   "execution_count": null,
   "id": "3b1c1176",
   "metadata": {},
   "outputs": [],
   "source": [
    "with open(r\"C:\\Users\\sam\\Desktop\\ABA_Dataset\\TheAllDataset.json\",'r') as theall:\n",
    "    ghghgh = json.load(theall)"
   ]
  },
  {
   "cell_type": "code",
   "execution_count": null,
   "id": "acc10adc",
   "metadata": {},
   "outputs": [],
   "source": [
    "print(ghghgh)"
   ]
  },
  {
   "cell_type": "code",
   "execution_count": null,
   "id": "2f8bc4cb",
   "metadata": {},
   "outputs": [],
   "source": [
    "print(len(ghghgh))"
   ]
  },
  {
   "cell_type": "code",
   "execution_count": 2,
   "id": "d73e3255",
   "metadata": {},
   "outputs": [],
   "source": [
    "#這些是Hyper-parameter\n",
    "a = 0.6\n",
    "b1 = 0.5\n",
    "b2 = 0.5\n",
    "g1 = 0.8\n",
    "g2 = 0.8\n",
    "e = 0.2"
   ]
  },
  {
   "cell_type": "code",
   "execution_count": 3,
   "id": "6c0e7559",
   "metadata": {},
   "outputs": [],
   "source": [
    "import numpy as np\n",
    "import requests"
   ]
  },
  {
   "cell_type": "code",
   "execution_count": 4,
   "id": "14eea090",
   "metadata": {},
   "outputs": [],
   "source": [
    "#A是2說, B是1說\n",
    "A = [[e,(1-a)*e*(1-b1),(1-b2)*(1-a)*e,(1-a)*e],\n",
    "    [0,b1,0,0],\n",
    "    [1-e,(1-b1)*(1-a)*(1-e),b2+(1-b2)*(1-a)*(1-e),(1-a)*(1-e)],\n",
    "    [0,(1-b1)*a,(1-b2)*a,a]]\n",
    "B = [[e,(1-a)*e*(1-b1),(1-b2)*(1-a)*e,(1-a)*e],\n",
    "    [0,0,b2,0],\n",
    "    [1-e,b1+(1-b1)*(1-a)*(1-e),(1-b2)*(1-a)*(1-e),(1-a)*(1-e)],\n",
    "    [0,(1-b1)*a,(1-b2)*a,a]]"
   ]
  },
  {
   "cell_type": "code",
   "execution_count": null,
   "id": "e98331e7",
   "metadata": {},
   "outputs": [],
   "source": [
    "url = \"https://hf.space/embed/KLeedrug/EMO_AI_alpha/+/api/predict\"\n",
    "payload = {'data':[ghghgh[0][0]]}\n",
    "x = requests.post(url, json = payload)\n",
    "print(x.json()[\"data\"])"
   ]
  },
  {
   "cell_type": "code",
   "execution_count": null,
   "id": "4dff69b5",
   "metadata": {},
   "outputs": [],
   "source": [
    "purenewdata = []"
   ]
  },
  {
   "cell_type": "code",
   "execution_count": null,
   "id": "50fdb8ef",
   "metadata": {},
   "outputs": [],
   "source": [
    "for y in range(0,4742):\n",
    "    transdata = []\n",
    "    for q in range(0,3):\n",
    "        payload = {'data':[ghghgh[y][q]]}\n",
    "        x = requests.post(url, json = payload)\n",
    "        transdata.append(x.json()[\"data\"])\n",
    "    purenewdata.append(transdata)"
   ]
  },
  {
   "cell_type": "code",
   "execution_count": null,
   "id": "2a34a4a2",
   "metadata": {},
   "outputs": [],
   "source": [
    "with open(r\"C:\\Users\\sam\\Desktop\\ABA_Dataset\\DatasetInVA.json\",'w') as VADataset:\n",
    "    json.dump(purenewdata,VADataset)"
   ]
  },
  {
   "cell_type": "markdown",
   "id": "899eed91",
   "metadata": {},
   "source": [
    "## 製作資料集"
   ]
  },
  {
   "cell_type": "code",
   "execution_count": 12,
   "id": "7d7f8f32",
   "metadata": {},
   "outputs": [],
   "source": [
    "import tensorflow as tf\n",
    "from keras.models import Sequential, save_model\n",
    "from keras.layers import Dense,Dropout,Flatten,Conv2D,MaxPooling2D, Conv1D, Reshape, BatchNormalization, Add\n",
    "#mnist = tf.keras.datasets.mnist"
   ]
  },
  {
   "cell_type": "code",
   "execution_count": null,
   "id": "f25a148b",
   "metadata": {},
   "outputs": [],
   "source": [
    "(x_train, y_train), (x_test, y_test) = mnist.load_data()\n",
    "print(x_train[0])"
   ]
  },
  {
   "cell_type": "code",
   "execution_count": null,
   "id": "ee494bcd",
   "metadata": {},
   "outputs": [],
   "source": [
    "xdata = [[1,1,1,1],[2,2,2,2],[3,3,3,3],[4,4,4,4]]\n",
    "ydata = [[5,5,5],[6,6,6],[7,7,7],[8,8,8]]\n",
    "\n",
    "model = tf.keras.models.Sequential([\n",
    "  tf.keras.layers.Flatten(input_shape=(4, 1)),\n",
    "  tf.keras.layers.Dense(128, activation='relu'),\n",
    "  tf.keras.layers.Dropout(0.2),\n",
    "  tf.keras.layers.Dense(3)\n",
    "])\n",
    "\n",
    "#predictions = model(x_train[:1]).numpy()\n",
    "# tf.nn.softmax(predictions).numpy()\n",
    "\n",
    "#loss_fn = tf.keras.losses.SparseCategoricalCrossentropy(from_logits=True)\n",
    "# loss_fn(y_train[:1], predictions).numpy()\n",
    "\n",
    "#model.compile(optimizer='adam',\n",
    "#              loss=custom_mse,\n",
    "#              metrics=['accuracy'])\n",
    "#model.fit(xdata, ydata, epochs=10)\n",
    "#model.evaluate(x_test,  y_test, verbose=2)\n",
    "print(model.summary())"
   ]
  },
  {
   "cell_type": "code",
   "execution_count": null,
   "id": "40637f7a",
   "metadata": {},
   "outputs": [],
   "source": [
    "print(ffff[600])\n",
    "print(ffff[601])\n",
    "print(ffff[602])"
   ]
  },
  {
   "cell_type": "code",
   "execution_count": 6,
   "id": "1d25bbd7",
   "metadata": {},
   "outputs": [
    {
     "name": "stdout",
     "output_type": "stream",
     "text": [
      "4742.0\n"
     ]
    }
   ],
   "source": [
    "print(len(ffff)/3)"
   ]
  },
  {
   "cell_type": "code",
   "execution_count": 5,
   "id": "882fb15f",
   "metadata": {},
   "outputs": [],
   "source": [
    "import pickle\n",
    "with open(r\"C:\\Users\\sam\\DeskTop\\LoopData\\puredataset2.pkl\",'rb') as mdfk:\n",
    "    ffff = pickle.load(mdfk)"
   ]
  },
  {
   "cell_type": "code",
   "execution_count": null,
   "id": "29db65e7",
   "metadata": {},
   "outputs": [],
   "source": [
    "with open(r\"C:\\Users\\sam\\DeskTop\\LoopData\\TestTrain.json\",'r') as mdfk2:\n",
    "    hhhh = json.load(mdfk2)"
   ]
  },
  {
   "cell_type": "code",
   "execution_count": null,
   "id": "a59a2ac0",
   "metadata": {},
   "outputs": [],
   "source": [
    "#都是用S, VA1, VA2, F的順序來弄\n",
    "ggg = np.array(ffff[0][0][0])\n",
    "ep0 = [[0,0], [0,0], [0,0], [0,0]]\n",
    "ep1 = [ggg,(1-b1)*(1-a)*ggg,(1-b2)*(1-a)*ggg,(1-a)*ggg]"
   ]
  },
  {
   "cell_type": "code",
   "execution_count": null,
   "id": "5fa6c2c9",
   "metadata": {},
   "outputs": [],
   "source": [
    "print(ep1)"
   ]
  },
  {
   "cell_type": "code",
   "execution_count": null,
   "id": "1d21fe48",
   "metadata": {},
   "outputs": [],
   "source": [
    "ep2byloop = np.dot(ep1,B)"
   ]
  },
  {
   "cell_type": "code",
   "execution_count": null,
   "id": "548ccf70",
   "metadata": {},
   "outputs": [],
   "source": [
    "print(ep2byloop)"
   ]
  },
  {
   "cell_type": "code",
   "execution_count": null,
   "id": "0707798b",
   "metadata": {},
   "outputs": [],
   "source": [
    "S2 = ffff[0][1][0]\n",
    "F2 = a*ep1[3]+(1-a)*S2\n",
    "VA12 = b1*ep1[1]+(1-b1)*F2\n",
    "VA22 = b2*ep1[2]+(1-b2)*F2\n",
    "\n",
    "ep2byemo = [S2, VA12, VA22, F2]"
   ]
  },
  {
   "cell_type": "code",
   "execution_count": null,
   "id": "364883b9",
   "metadata": {},
   "outputs": [],
   "source": [
    "print(ep2byemo)"
   ]
  },
  {
   "cell_type": "code",
   "execution_count": null,
   "id": "84a35450",
   "metadata": {},
   "outputs": [],
   "source": [
    "ep3 = np.dot(ep2byemo,A)"
   ]
  },
  {
   "cell_type": "code",
   "execution_count": null,
   "id": "363e411e",
   "metadata": {},
   "outputs": [],
   "source": [
    "print(ep3)"
   ]
  },
  {
   "cell_type": "code",
   "execution_count": null,
   "id": "655a8d5c",
   "metadata": {},
   "outputs": [],
   "source": [
    "question = [ep2byemo[0], ep2byemo[1], ep2byemo[2],ffff[0][2][0]]\n",
    "answer = [ep3[0], ep3[1], ep3[2]]"
   ]
  },
  {
   "cell_type": "code",
   "execution_count": 7,
   "id": "47513f55",
   "metadata": {},
   "outputs": [],
   "source": [
    "xdata = []#題目\n",
    "ydata = []#答案"
   ]
  },
  {
   "cell_type": "code",
   "execution_count": null,
   "id": "e77d594a",
   "metadata": {},
   "outputs": [],
   "source": [
    "t = 0\n",
    "for h in range(0,4742):\n",
    "    ep1 = [[0,0],[0,0],[0,0],[0,0]]\n",
    "    \n",
    "    ep2 = [[0,0],[0,0],[0,0]]\n",
    "    ep3 = [[0,0],[0,0],[0,0],[0,0]]\n",
    "    ep4 = [[0,0],[0,0],[0,0]]\n",
    "    trans1 = []\n",
    "    trans2 = []\n",
    "    trans3 = []\n",
    "    trans4 = []\n",
    "    for r in range(0,2):\n",
    "        ggg = np.array(ffff[3*h][r])\n",
    "        ggg = ggg.tolist()\n",
    "        trans1 = [ggg,(1-b1)*(1-a)*ggg,(1-b2)*(1-a)*ggg,(1-a)*ggg]\n",
    "        trans2 = np.dot(trans1,B)\n",
    "        ep1[0][r] = trans1[1]\n",
    "        ep1[1][r] = trans1[2]\n",
    "        ep1[2][r] = trans1[3]\n",
    "        ep1[3][r] = np.array(ffff[3*h+1][r]).tolist()\n",
    "        ep2[0][r] = trans2[1]\n",
    "        ep2[1][r] = trans2[2]\n",
    "        ep2[2][r] = trans2[3]\n",
    "        \n",
    "        S2 = ffff[3*h+1][r]\n",
    "        F2 = a*trans1[3]+(1-a)*S2\n",
    "        VA12 = b1*trans1[1]+(1-b1)*F2\n",
    "        VA22 = b2*trans1[2]+(1-b2)*F2\n",
    "        trans3 = [S2, VA12, VA22, F2]\n",
    "        trans4 = np.dot(trans3,A)\n",
    "        \n",
    "        ep3[0][r] = trans3[1]\n",
    "        ep3[1][r] = trans3[2]\n",
    "        ep3[2][r] = trans3[3]\n",
    "        ep3[3][r] = np.array(ffff[3*h+2][r]).tolist()\n",
    "        ep4[0][r] = trans4[1]\n",
    "        ep4[1][r] = trans4[2]\n",
    "        ep4[2][r] = trans4[3]\n",
    "    xdata.append(ep1)\n",
    "    xdata.append(ep3)\n",
    "    ydata.append(ep2)\n",
    "    ydata.append(ep4)\n",
    "    print(t)\n",
    "    t = t+1"
   ]
  },
  {
   "cell_type": "code",
   "execution_count": null,
   "id": "442622b4",
   "metadata": {
    "scrolled": true
   },
   "outputs": [],
   "source": [
    "print(xdata)"
   ]
  },
  {
   "cell_type": "code",
   "execution_count": null,
   "id": "f7833009",
   "metadata": {},
   "outputs": [],
   "source": [
    "print(xdata)"
   ]
  },
  {
   "cell_type": "code",
   "execution_count": null,
   "id": "d6cc3981",
   "metadata": {},
   "outputs": [],
   "source": [
    "with open(r\"C:\\Users\\sam\\Desktop\\LoopData\\Question3.json\",'w') as theq:\n",
    "    json.dump(xdata,theq)"
   ]
  },
  {
   "cell_type": "code",
   "execution_count": null,
   "id": "fefaa267",
   "metadata": {},
   "outputs": [],
   "source": [
    "with open(r\"C:\\Users\\sam\\Desktop\\LoopData\\Answer3.json\",'w') as thea:\n",
    "    json.dump(ydata,thea)"
   ]
  },
  {
   "cell_type": "code",
   "execution_count": 18,
   "id": "0f882d56",
   "metadata": {},
   "outputs": [
    {
     "name": "stdout",
     "output_type": "stream",
     "text": [
      "9484\n"
     ]
    }
   ],
   "source": [
    "with open(r\"C:\\Users\\sam\\Desktop\\LoopData\\Question3.json\",'r') as eee:\n",
    "    theque = json.load(eee)\n",
    "    print(len(theque))"
   ]
  },
  {
   "cell_type": "code",
   "execution_count": 19,
   "id": "51103270",
   "metadata": {},
   "outputs": [
    {
     "name": "stdout",
     "output_type": "stream",
     "text": [
      "9484\n"
     ]
    }
   ],
   "source": [
    "with open(r\"C:\\Users\\sam\\Desktop\\LoopData\\Answer3.json\",'r') as mmm:\n",
    "    theans = json.load(mmm)\n",
    "    print(len(theans))"
   ]
  },
  {
   "cell_type": "code",
   "execution_count": 16,
   "id": "0717a527",
   "metadata": {},
   "outputs": [],
   "source": [
    "import random"
   ]
  },
  {
   "cell_type": "code",
   "execution_count": 17,
   "id": "4b4a5948",
   "metadata": {},
   "outputs": [],
   "source": [
    "shufque = random.shuffle(theque)\n",
    "shufans = random.shuffle(theans)"
   ]
  },
  {
   "cell_type": "code",
   "execution_count": 20,
   "id": "9f6201c6",
   "metadata": {},
   "outputs": [],
   "source": [
    "tfque = tf.convert_to_tensor(theque,dtype = tf.float32)\n",
    "tfans = tf.convert_to_tensor(theans,dtype = tf.float32)"
   ]
  },
  {
   "cell_type": "code",
   "execution_count": null,
   "id": "bcd4eba8",
   "metadata": {},
   "outputs": [],
   "source": [
    "xdata = [[[1,1],[1,1],[1,1],[1,1]],[[1,1],[1,1],[1,1],[1,1]],[[1,1],[1,1],[1,1],[1,1]],[[1,1],[1,1],[1,1],[1,1]]]\n",
    "ydata = [[[1,1],[1,1],[1,1]],[[1,1],[1,1],[1,1]],[[1,1],[1,1],[1,1]],[[1,1],[1,1],[1,1]]]\n",
    "\n",
    "#xdata = xdata.reshape(-1,4,2,1)\n",
    "#xdata = xdata.reshape(-1,3,2,1)\n",
    "\n",
    "model = tf.keras.models.Sequential([\n",
    "  tf.keras.layers.Flatten(input_shape=(4,2,1)),\n",
    "  tf.keras.layers.Dense(128, activation='relu'),\n",
    "  tf.keras.layers.Dropout(0.2),\n",
    "  tf.keras.layers.Dense(6),\n",
    "  tf.keras.layers.Reshape((3,2),input_shape = (6,))\n",
    "])\n",
    "\n",
    "#predictions = model(x_train[:1]).numpy()\n",
    "# tf.nn.softmax(predictions).numpy()\n",
    "\n",
    "#loss_fn = tf.keras.losses.SparseCategoricalCrossentropy(from_logits=True)\n",
    "# loss_fn(y_train[:1], predictions).numpy()\n",
    "\n",
    "print(model.summary())\n",
    "\n",
    "model.compile(optimizer='adam',\n",
    "              loss=custom_mse,\n",
    "              metrics=['accuracy'])\n",
    "model.fit(xdata, ydata, epochs=10)\n",
    "#model.evaluate(x_test,  y_test, verbose=2)"
   ]
  },
  {
   "cell_type": "code",
   "execution_count": null,
   "id": "ea903861",
   "metadata": {},
   "outputs": [],
   "source": []
  },
  {
   "cell_type": "code",
   "execution_count": null,
   "id": "61f5632c",
   "metadata": {},
   "outputs": [],
   "source": [
    "def custom_mse(y_true, y_pred):\n",
    "    \n",
    "    y_true = tf.cast(y_true,dtype = tf.float32)\n",
    "    # calculating squared difference between target and predicted values\n",
    "    loss = 0\n",
    "    for t in range (0,1):\n",
    "        loss += 10000*(y_true[0][t]-y_pred[0][t])*(y_true[0][t]-y_pred[0][t])+(y_true[1][t]-y_pred[1][t])*(y_true[1][t]-y_pred[1][t])+(y_true[2][t]-y_pred[2][t])*(y_true[2][t]-y_pred[2][t])\n",
    "                \n",
    "    # summing both loss values along batch dimension \n",
    "    #loss = K.sum(loss, axis=1)        # (batch_size,)\n",
    "    \n",
    "    return loss"
   ]
  },
  {
   "cell_type": "code",
   "execution_count": 35,
   "id": "81ff2f86",
   "metadata": {
    "scrolled": false
   },
   "outputs": [
    {
     "name": "stdout",
     "output_type": "stream",
     "text": [
      "Model: \"model_3\"\n",
      "__________________________________________________________________________________________________\n",
      " Layer (type)                   Output Shape         Param #     Connected to                     \n",
      "==================================================================================================\n",
      " input_4 (InputLayer)           [(None, 4, 2, 1)]    0           []                               \n",
      "                                                                                                  \n",
      " conv2d_15 (Conv2D)             (None, 4, 2, 32)     160         ['input_4[0][0]']                \n",
      "                                                                                                  \n",
      " max_pooling2d_6 (MaxPooling2D)  (None, 4, 2, 32)    0           ['conv2d_15[0][0]']              \n",
      "                                                                                                  \n",
      " dense_35 (Dense)               (None, 4, 2, 64)     2112        ['max_pooling2d_6[0][0]']        \n",
      "                                                                                                  \n",
      " spatial_dropout2d_6 (SpatialDr  (None, 4, 2, 64)    0           ['dense_35[0][0]']               \n",
      " opout2D)                                                                                         \n",
      "                                                                                                  \n",
      " batch_normalization_9 (BatchNo  (None, 4, 2, 64)    256         ['spatial_dropout2d_6[0][0]']    \n",
      " rmalization)                                                                                     \n",
      "                                                                                                  \n",
      " conv2d_16 (Conv2D)             (None, 4, 2, 32)     2080        ['batch_normalization_9[0][0]']  \n",
      "                                                                                                  \n",
      " conv2d_17 (Conv2D)             (None, 4, 2, 32)     9248        ['conv2d_16[0][0]']              \n",
      "                                                                                                  \n",
      " conv2d_18 (Conv2D)             (None, 4, 2, 64)     2112        ['conv2d_17[0][0]']              \n",
      "                                                                                                  \n",
      " add_3 (Add)                    (None, 4, 2, 64)     0           ['conv2d_18[0][0]',              \n",
      "                                                                  'batch_normalization_9[0][0]']  \n",
      "                                                                                                  \n",
      " batch_normalization_10 (BatchN  (None, 4, 2, 64)    256         ['add_3[0][0]']                  \n",
      " ormalization)                                                                                    \n",
      "                                                                                                  \n",
      " conv2d_19 (Conv2D)             (None, 4, 2, 64)     16448       ['batch_normalization_10[0][0]'] \n",
      "                                                                                                  \n",
      " max_pooling2d_7 (MaxPooling2D)  (None, 2, 1, 64)    0           ['conv2d_19[0][0]']              \n",
      "                                                                                                  \n",
      " dense_36 (Dense)               (None, 2, 1, 128)    8320        ['max_pooling2d_7[0][0]']        \n",
      "                                                                                                  \n",
      " spatial_dropout2d_7 (SpatialDr  (None, 2, 1, 128)   0           ['dense_36[0][0]']               \n",
      " opout2D)                                                                                         \n",
      "                                                                                                  \n",
      " batch_normalization_11 (BatchN  (None, 2, 1, 128)   512         ['spatial_dropout2d_7[0][0]']    \n",
      " ormalization)                                                                                    \n",
      "                                                                                                  \n",
      " flatten_7 (Flatten)            (None, 256)          0           ['batch_normalization_11[0][0]'] \n",
      "                                                                                                  \n",
      " dense_37 (Dense)               (None, 64)           16448       ['flatten_7[0][0]']              \n",
      "                                                                                                  \n",
      " dropout_22 (Dropout)           (None, 64)           0           ['dense_37[0][0]']               \n",
      "                                                                                                  \n",
      " dense_38 (Dense)               (None, 32)           2080        ['dropout_22[0][0]']             \n",
      "                                                                                                  \n",
      " dropout_23 (Dropout)           (None, 32)           0           ['dense_38[0][0]']               \n",
      "                                                                                                  \n",
      " dense_39 (Dense)               (None, 6)            198         ['dropout_23[0][0]']             \n",
      "                                                                                                  \n",
      " reshape_7 (Reshape)            (None, 3, 2)         0           ['dense_39[0][0]']               \n",
      "                                                                                                  \n",
      "==================================================================================================\n",
      "Total params: 60,230\n",
      "Trainable params: 59,718\n",
      "Non-trainable params: 512\n",
      "__________________________________________________________________________________________________\n",
      "None\n",
      "Epoch 1/20\n",
      "267/267 [==============================] - 7s 19ms/step - loss: 0.0690 - accuracy: 0.4426 - val_loss: 0.0213 - val_accuracy: 0.9852\n",
      "Epoch 2/20\n",
      "267/267 [==============================] - 5s 18ms/step - loss: 0.0070 - accuracy: 0.8329 - val_loss: 0.0058 - val_accuracy: 0.9852\n",
      "Epoch 3/20\n",
      "267/267 [==============================] - 5s 18ms/step - loss: 0.0041 - accuracy: 0.9120 - val_loss: 0.0026 - val_accuracy: 0.9852\n",
      "Epoch 4/20\n",
      "267/267 [==============================] - 5s 18ms/step - loss: 0.0027 - accuracy: 0.9417 - val_loss: 0.0026 - val_accuracy: 0.9852\n",
      "Epoch 5/20\n",
      "267/267 [==============================] - 5s 19ms/step - loss: 0.0022 - accuracy: 0.9602 - val_loss: 0.0013 - val_accuracy: 0.9852\n",
      "Epoch 6/20\n",
      "267/267 [==============================] - 5s 19ms/step - loss: 0.0019 - accuracy: 0.9727 - val_loss: 0.0026 - val_accuracy: 0.9852\n",
      "Epoch 7/20\n",
      "267/267 [==============================] - 5s 19ms/step - loss: 0.0018 - accuracy: 0.9781 - val_loss: 0.0019 - val_accuracy: 0.9852\n",
      "Epoch 8/20\n",
      "267/267 [==============================] - 5s 19ms/step - loss: 0.0017 - accuracy: 0.9791 - val_loss: 0.0011 - val_accuracy: 0.9852\n",
      "Epoch 9/20\n",
      "267/267 [==============================] - 5s 18ms/step - loss: 0.0016 - accuracy: 0.9813 - val_loss: 0.0020 - val_accuracy: 0.9852\n",
      "Epoch 10/20\n",
      "267/267 [==============================] - 5s 20ms/step - loss: 0.0016 - accuracy: 0.9814 - val_loss: 0.0018 - val_accuracy: 0.9852\n",
      "Epoch 11/20\n",
      "267/267 [==============================] - 5s 18ms/step - loss: 0.0015 - accuracy: 0.9817 - val_loss: 0.0018 - val_accuracy: 0.9852\n",
      "Epoch 12/20\n",
      "267/267 [==============================] - 5s 18ms/step - loss: 0.0015 - accuracy: 0.9822 - val_loss: 0.0018 - val_accuracy: 0.9852\n",
      "Epoch 13/20\n",
      "267/267 [==============================] - 5s 19ms/step - loss: 0.0015 - accuracy: 0.9824 - val_loss: 0.0013 - val_accuracy: 0.9852\n",
      "Epoch 14/20\n",
      "267/267 [==============================] - 5s 18ms/step - loss: 0.0014 - accuracy: 0.9824 - val_loss: 0.0015 - val_accuracy: 0.9852\n",
      "Epoch 15/20\n",
      "267/267 [==============================] - 5s 17ms/step - loss: 0.0014 - accuracy: 0.9824 - val_loss: 0.0017 - val_accuracy: 0.9852\n",
      "Epoch 16/20\n",
      "267/267 [==============================] - 5s 18ms/step - loss: 0.0014 - accuracy: 0.9825 - val_loss: 0.0012 - val_accuracy: 0.9852\n",
      "Epoch 17/20\n",
      "267/267 [==============================] - 5s 19ms/step - loss: 0.0014 - accuracy: 0.9825 - val_loss: 0.0015 - val_accuracy: 0.9852\n",
      "Epoch 18/20\n"
     ]
    },
    {
     "name": "stdout",
     "output_type": "stream",
     "text": [
      "267/267 [==============================] - 5s 18ms/step - loss: 0.0014 - accuracy: 0.9825 - val_loss: 0.0021 - val_accuracy: 0.9852\n",
      "Epoch 19/20\n",
      "267/267 [==============================] - 5s 17ms/step - loss: 0.0014 - accuracy: 0.9825 - val_loss: 0.0013 - val_accuracy: 0.9852\n",
      "Epoch 20/20\n",
      "267/267 [==============================] - 5s 17ms/step - loss: 0.0013 - accuracy: 0.9825 - val_loss: 0.0010 - val_accuracy: 0.9852\n"
     ]
    }
   ],
   "source": [
    "xdata = tfque\n",
    "ydata = tfans\n",
    "\n",
    "#xdata = xdata.reshape(-1,4,2,1)\n",
    "#xdata = xdata.reshape(-1,3,2,1)\n",
    "\n",
    "def Squeeze(x,filters, kernel_size, in_1, pool_size, in_2):\n",
    "  x = tf.keras.layers.Conv2D(filters = filters, kernel_size = kernel_size, padding = 'same', input_shape = in_1, activation = 'relu')(x)\n",
    "  x = tf.keras.layers.MaxPooling2D(pool_size = pool_size, padding = 'same')(x)\n",
    "  x = tf.keras.layers.Dense(2*filters, input_shape = in_2)(x)\n",
    "  x = tf.keras.layers.SpatialDropout2D(0.3)(x)\n",
    "  x = tf.keras.layers.BatchNormalization()(x)\n",
    "  return x\n",
    "\n",
    "def ResNet_Minimal(initial,filters, in_1):\n",
    "  x = tf.keras.layers.Conv2D(filters = filters, kernel_size = (1,1), padding = 'same', input_shape = in_1, activation = 'relu')(initial)\n",
    "  x = tf.keras.layers.Conv2D(filters = filters, kernel_size = (3,3), padding = 'same', input_shape = in_1, activation = 'relu')(x)\n",
    "  x = tf.keras.layers.Conv2D(filters = 2*filters, kernel_size = (1,1), padding = 'same', input_shape = in_1, activation = 'relu')(x)\n",
    "  #shortcut = tf.keras.layers.Conv2D(filters = 2*filters, kernel_size = (1,1), padding = 'same', input_shape = in_1, activation = 'relu')(initial)\n",
    "  x = tf.keras.layers.Add()([x,initial])\n",
    "  x = tf.keras.layers.BatchNormalization()(x)\n",
    "  return x\n",
    "\n",
    "input=tf.keras.Input(shape=(4,2,1))\n",
    "x = Squeeze(input,32,(2,2),(4,2,1),(1,1),(4,2))\n",
    "x = ResNet_Minimal(x,32,(4,2,1))\n",
    "x = Squeeze(x,64,(2,2),(4,2,1),(2,2),(2,1))\n",
    "x = tf.keras.layers.Flatten()(x)\n",
    "x = tf.keras.layers.Dense(64,activation='relu')(x)\n",
    "x = tf.keras.layers.Dropout(0.3)(x)\n",
    "x = tf.keras.layers.Dense(32,activation='relu')(x)\n",
    "x = tf.keras.layers.Dropout(0.3)(x)\n",
    "x = tf.keras.layers.Dense(6,activation='relu')(x)\n",
    "output = tf.keras.layers.Reshape((3,2),input_shape = (6,))(x)\n",
    "\n",
    "final=tf.keras.Model(inputs=input,outputs=output)\n",
    "\n",
    "#model = tf.keras.models.Sequential([\n",
    "#  tf.keras.layers.Flatten(input_shape=(4,2,1)),\n",
    "#  tf.keras.layers.Dense(128, activation='relu'),\n",
    "#  tf.keras.layers.Dropout(0.2),\n",
    "#  tf.keras.layers.Dense(32, activation='relu'),\n",
    "#  tf.keras.layers.Dropout(0.2),\n",
    "#  tf.keras.layers.Dense(6),\n",
    "#  tf.keras.layers.Reshape((3,2),input_shape = (6,))\n",
    "#])\n",
    "\n",
    "#predictions = model(x_train[:1]).numpy()\n",
    "# tf.nn.softmax(predictions).numpy()\n",
    "\n",
    "#loss_fn = tf.keras.losses.SparseCategoricalCrossentropy(from_logits=True)\n",
    "# loss_fn(y_train[:1], predictions).numpy()\n",
    "\n",
    "print(final.summary())\n",
    "\n",
    "final.compile(optimizer='adam',\n",
    "              loss=keras.losses.MeanSquaredError(),\n",
    "              metrics=['accuracy'])\n",
    "history = final.fit(xdata, ydata, validation_split = 0.1, epochs=20)\n",
    "#model.evaluate(x_test,  y_test, verbose=2)"
   ]
  },
  {
   "cell_type": "code",
   "execution_count": 24,
   "id": "49f6621d",
   "metadata": {
    "scrolled": false
   },
   "outputs": [
    {
     "name": "stdout",
     "output_type": "stream",
     "text": [
      "9484\n",
      "Model: \"sequential_3\"\n",
      "_________________________________________________________________\n",
      " Layer (type)                Output Shape              Param #   \n",
      "=================================================================\n",
      " flatten_6 (Flatten)         (None, 8)                 0         \n",
      "                                                                 \n",
      " dense_30 (Dense)            (None, 128)               1152      \n",
      "                                                                 \n",
      " dropout_18 (Dropout)        (None, 128)               0         \n",
      "                                                                 \n",
      " dense_31 (Dense)            (None, 64)                8256      \n",
      "                                                                 \n",
      " dropout_19 (Dropout)        (None, 64)                0         \n",
      "                                                                 \n",
      " dense_32 (Dense)            (None, 32)                2080      \n",
      "                                                                 \n",
      " dropout_20 (Dropout)        (None, 32)                0         \n",
      "                                                                 \n",
      " dense_33 (Dense)            (None, 16)                528       \n",
      "                                                                 \n",
      " dropout_21 (Dropout)        (None, 16)                0         \n",
      "                                                                 \n",
      " dense_34 (Dense)            (None, 6)                 102       \n",
      "                                                                 \n",
      " reshape_6 (Reshape)         (None, 3, 2)              0         \n",
      "                                                                 \n",
      "=================================================================\n",
      "Total params: 12,118\n",
      "Trainable params: 12,118\n",
      "Non-trainable params: 0\n",
      "_________________________________________________________________\n",
      "None\n",
      "Epoch 1/10\n",
      "238/238 [==============================] - 3s 10ms/step - loss: 0.0204 - Accuracy: 0.6958 - val_loss: 0.0022 - val_Accuracy: 0.9914\n",
      "Epoch 2/10\n",
      " 58/238 [======>.......................] - ETA: 1s - loss: 0.0055 - Accuracy: 0.7996\n",
      "Epoch 2: saving model to training_7\\cp-0002.ckpt\n",
      "238/238 [==============================] - 2s 10ms/step - loss: 0.0041 - Accuracy: 0.8317 - val_loss: 5.8199e-04 - val_Accuracy: 0.9914\n",
      "Epoch 3/10\n",
      "111/238 [============>.................] - ETA: 1s - loss: 0.0027 - Accuracy: 0.8902\n",
      "Epoch 3: saving model to training_7\\cp-0003.ckpt\n",
      "238/238 [==============================] - 2s 10ms/step - loss: 0.0024 - Accuracy: 0.9098 - val_loss: 4.9095e-04 - val_Accuracy: 0.9914\n",
      "Epoch 4/10\n",
      "172/238 [====================>.........] - ETA: 0s - loss: 0.0018 - Accuracy: 0.9519\n",
      "Epoch 4: saving model to training_7\\cp-0004.ckpt\n",
      "238/238 [==============================] - 2s 10ms/step - loss: 0.0017 - Accuracy: 0.9562 - val_loss: 4.3094e-04 - val_Accuracy: 0.9914\n",
      "Epoch 5/10\n",
      "234/238 [============================>.] - ETA: 0s - loss: 0.0012 - Accuracy: 0.9735\n",
      "Epoch 5: saving model to training_7\\cp-0005.ckpt\n",
      "238/238 [==============================] - 3s 11ms/step - loss: 0.0012 - Accuracy: 0.9736 - val_loss: 2.9304e-04 - val_Accuracy: 0.9914\n",
      "Epoch 6/10\n",
      "238/238 [==============================] - 2s 9ms/step - loss: 8.7120e-04 - Accuracy: 0.9766 - val_loss: 1.9655e-04 - val_Accuracy: 0.9914\n",
      "Epoch 7/10\n",
      " 56/238 [======>.......................] - ETA: 1s - loss: 7.5693e-04 - Accuracy: 0.9805\n",
      "Epoch 7: saving model to training_7\\cp-0007.ckpt\n",
      "238/238 [==============================] - 2s 10ms/step - loss: 7.5110e-04 - Accuracy: 0.9791 - val_loss: 2.0870e-04 - val_Accuracy: 0.9914\n",
      "Epoch 8/10\n",
      "113/238 [=============>................] - ETA: 1s - loss: 6.7876e-04 - Accuracy: 0.9787\n",
      "Epoch 8: saving model to training_7\\cp-0008.ckpt\n",
      "238/238 [==============================] - 2s 10ms/step - loss: 6.7175e-04 - Accuracy: 0.9793 - val_loss: 1.9618e-04 - val_Accuracy: 0.9914\n",
      "Epoch 9/10\n",
      "173/238 [====================>.........] - ETA: 0s - loss: 6.5920e-04 - Accuracy: 0.9791\n",
      "Epoch 9: saving model to training_7\\cp-0009.ckpt\n",
      "238/238 [==============================] - 2s 10ms/step - loss: 6.3839e-04 - Accuracy: 0.9804 - val_loss: 2.2482e-04 - val_Accuracy: 0.9914\n",
      "Epoch 10/10\n",
      "229/238 [===========================>..] - ETA: 0s - loss: 6.3944e-04 - Accuracy: 0.9803\n",
      "Epoch 10: saving model to training_7\\cp-0010.ckpt\n",
      "238/238 [==============================] - 3s 11ms/step - loss: 6.3800e-04 - Accuracy: 0.9802 - val_loss: 1.6968e-04 - val_Accuracy: 0.9914\n"
     ]
    }
   ],
   "source": [
    "xdata = tfque\n",
    "ydata = tfans\n",
    "\n",
    "print(len(xdata))\n",
    "\n",
    "#xdata = xdata.reshape(-1,4,2,1)\n",
    "#xdata = xdata.reshape(-1,3,2,1)\n",
    "\n",
    "model5 = tf.keras.models.Sequential([\n",
    "  tf.keras.layers.Flatten(input_shape=(4,2,1)),\n",
    "  tf.keras.layers.Dense(128, activation='relu'),\n",
    "  tf.keras.layers.Dropout(0.25),\n",
    "  tf.keras.layers.Dense(64, activation='relu'),\n",
    "  tf.keras.layers.Dropout(0.25),\n",
    "  tf.keras.layers.Dense(32, activation='relu'),\n",
    "  tf.keras.layers.Dropout(0.2),\n",
    "  tf.keras.layers.Dense(16, activation='relu'),\n",
    "  tf.keras.layers.Dropout(0.2),\n",
    "  tf.keras.layers.Dense(6),\n",
    "  tf.keras.layers.Reshape((3,2),input_shape = (6,))\n",
    "])\n",
    "\n",
    "checkpoint_path = \"training_7/cp-{epoch:04d}.ckpt\"\n",
    "checkpoint_dir = os.path.dirname(checkpoint_path)\n",
    "\n",
    "# Create a callback that saves the model's weights\n",
    "cp_callback = tf.keras.callbacks.ModelCheckpoint(filepath=checkpoint_path,\n",
    "                                                 save_weights_only=True,\n",
    "                                                 save_freq = 297,\n",
    "                                                 verbose=1)\n",
    "\n",
    "#predictions = model(x_train[:1]).numpy()\n",
    "# tf.nn.softmax(predictions).numpy()\n",
    "\n",
    "#loss_fn = tf.keras.losses.SparseCategoricalCrossentropy(from_logits=True)\n",
    "# loss_fn(y_train[:1], predictions).numpy()\n",
    "\n",
    "print(model5.summary())\n",
    "\n",
    "model5.compile(optimizer='adam',\n",
    "              loss=keras.losses.MeanSquaredError(),\n",
    "              #metrics=[tf.keras.metrics.MeanSquaredError()])\n",
    "              metrics=['Accuracy'])\n",
    "history = model5.fit(xdata, ydata, epochs=10, validation_split = 0.2, callbacks=[cp_callback])\n",
    "#model.evaluate(x_test,  y_test, verbose=2)"
   ]
  },
  {
   "cell_type": "code",
   "execution_count": 30,
   "id": "079fd588",
   "metadata": {},
   "outputs": [],
   "source": [
    "from matplotlib import pyplot as plt"
   ]
  },
  {
   "cell_type": "code",
   "execution_count": 36,
   "id": "8040d625",
   "metadata": {},
   "outputs": [
    {
     "data": {
      "image/png": "[encoded data removed]",
      "text/plain": [
       "<Figure size 432x288 with 1 Axes>"
      ]
     },
     "metadata": {
      "needs_background": "light"
     },
     "output_type": "display_data"
    },
    {
     "data": {
      "image/png": "[encoded data removed]",
      "text/plain": [
       "<Figure size 432x288 with 1 Axes>"
      ]
     },
     "metadata": {
      "needs_background": "light"
     },
     "output_type": "display_data"
    }
   ],
   "source": [
    "acc = history.history['accuracy']\n",
    "val_acc = history.history['val_accuracy']\n",
    "loss = history.history['loss']\n",
    "val_loss = history.history['val_loss']\n",
    "\n",
    "epochs = range(1, len(acc) + 1)\n",
    "\n",
    "plt.plot(epochs, acc, 'bo', label='Training acc')\n",
    "plt.plot(epochs, val_acc, 'b', label='Validation acc')\n",
    "plt.title('Training and validation accuracy')\n",
    "plt.legend()\n",
    "\n",
    "plt.figure()\n",
    "\n",
    "plt.plot(epochs, loss, 'bo', label='Training loss')\n",
    "plt.plot(epochs, val_loss, 'b', label='Validation loss')\n",
    "plt.title('Training and validation loss')\n",
    "plt.legend()\n",
    "\n",
    "plt.show()"
   ]
  },
  {
   "cell_type": "code",
   "execution_count": 32,
   "id": "ae08d1a8",
   "metadata": {},
   "outputs": [
    {
     "name": "stderr",
     "output_type": "stream",
     "text": [
      "WARNING:absl:Found untraced functions such as _jit_compiled_convolution_op, _jit_compiled_convolution_op, _jit_compiled_convolution_op, _jit_compiled_convolution_op, _jit_compiled_convolution_op while saving (showing 5 of 5). These functions will not be directly callable after loading.\n"
     ]
    },
    {
     "name": "stdout",
     "output_type": "stream",
     "text": [
      "INFO:tensorflow:Assets written to: testifworks\\assets\n"
     ]
    },
    {
     "name": "stderr",
     "output_type": "stream",
     "text": [
      "INFO:tensorflow:Assets written to: testifworks\\assets\n"
     ]
    }
   ],
   "source": [
    "final.save('testifworks')"
   ]
  },
  {
   "cell_type": "code",
   "execution_count": 11,
   "id": "023b1d68",
   "metadata": {},
   "outputs": [],
   "source": [
    "import os\n",
    "import keras"
   ]
  },
  {
   "cell_type": "code",
   "execution_count": 33,
   "id": "e78797ed",
   "metadata": {},
   "outputs": [],
   "source": [
    "modelf = keras.models.load_model('testifworks')"
   ]
  },
  {
   "cell_type": "code",
   "execution_count": 34,
   "id": "f2ed47c2",
   "metadata": {},
   "outputs": [
    {
     "name": "stdout",
     "output_type": "stream",
     "text": [
      "Model: \"model_2\"\n",
      "__________________________________________________________________________________________________\n",
      " Layer (type)                   Output Shape         Param #     Connected to                     \n",
      "==================================================================================================\n",
      " input_3 (InputLayer)           [(None, 4, 2, 1)]    0           []                               \n",
      "                                                                                                  \n",
      " conv2d_10 (Conv2D)             (None, 4, 2, 32)     160         ['input_3[0][0]']                \n",
      "                                                                                                  \n",
      " max_pooling2d_4 (MaxPooling2D)  (None, 4, 2, 32)    0           ['conv2d_10[0][0]']              \n",
      "                                                                                                  \n",
      " dense_20 (Dense)               (None, 4, 2, 64)     2112        ['max_pooling2d_4[0][0]']        \n",
      "                                                                                                  \n",
      " spatial_dropout2d_4 (SpatialDr  (None, 4, 2, 64)    0           ['dense_20[0][0]']               \n",
      " opout2D)                                                                                         \n",
      "                                                                                                  \n",
      " batch_normalization_6 (BatchNo  (None, 4, 2, 64)    256         ['spatial_dropout2d_4[0][0]']    \n",
      " rmalization)                                                                                     \n",
      "                                                                                                  \n",
      " conv2d_11 (Conv2D)             (None, 4, 2, 32)     2080        ['batch_normalization_6[0][0]']  \n",
      "                                                                                                  \n",
      " conv2d_12 (Conv2D)             (None, 4, 2, 32)     9248        ['conv2d_11[0][0]']              \n",
      "                                                                                                  \n",
      " conv2d_13 (Conv2D)             (None, 4, 2, 64)     2112        ['conv2d_12[0][0]']              \n",
      "                                                                                                  \n",
      " add_2 (Add)                    (None, 4, 2, 64)     0           ['conv2d_13[0][0]',              \n",
      "                                                                  'batch_normalization_6[0][0]']  \n",
      "                                                                                                  \n",
      " batch_normalization_7 (BatchNo  (None, 4, 2, 64)    256         ['add_2[0][0]']                  \n",
      " rmalization)                                                                                     \n",
      "                                                                                                  \n",
      " conv2d_14 (Conv2D)             (None, 4, 2, 64)     16448       ['batch_normalization_7[0][0]']  \n",
      "                                                                                                  \n",
      " max_pooling2d_5 (MaxPooling2D)  (None, 2, 1, 64)    0           ['conv2d_14[0][0]']              \n",
      "                                                                                                  \n",
      " dense_21 (Dense)               (None, 2, 1, 128)    8320        ['max_pooling2d_5[0][0]']        \n",
      "                                                                                                  \n",
      " spatial_dropout2d_5 (SpatialDr  (None, 2, 1, 128)   0           ['dense_21[0][0]']               \n",
      " opout2D)                                                                                         \n",
      "                                                                                                  \n",
      " batch_normalization_8 (BatchNo  (None, 2, 1, 128)   512         ['spatial_dropout2d_5[0][0]']    \n",
      " rmalization)                                                                                     \n",
      "                                                                                                  \n",
      " flatten_4 (Flatten)            (None, 256)          0           ['batch_normalization_8[0][0]']  \n",
      "                                                                                                  \n",
      " dense_22 (Dense)               (None, 64)           16448       ['flatten_4[0][0]']              \n",
      "                                                                                                  \n",
      " dropout_12 (Dropout)           (None, 64)           0           ['dense_22[0][0]']               \n",
      "                                                                                                  \n",
      " dense_23 (Dense)               (None, 32)           2080        ['dropout_12[0][0]']             \n",
      "                                                                                                  \n",
      " dropout_13 (Dropout)           (None, 32)           0           ['dense_23[0][0]']               \n",
      "                                                                                                  \n",
      " dense_24 (Dense)               (None, 6)            198         ['dropout_13[0][0]']             \n",
      "                                                                                                  \n",
      " reshape_4 (Reshape)            (None, 3, 2)         0           ['dense_24[0][0]']               \n",
      "                                                                                                  \n",
      "==================================================================================================\n",
      "Total params: 60,230\n",
      "Trainable params: 59,718\n",
      "Non-trainable params: 512\n",
      "__________________________________________________________________________________________________\n",
      "None\n"
     ]
    }
   ],
   "source": [
    "print(modelf.summary())"
   ]
  },
  {
   "cell_type": "code",
   "execution_count": null,
   "id": "6f0d4fef",
   "metadata": {},
   "outputs": [],
   "source": []
  }
 ],
 "metadata": {
  "kernelspec": {
   "display_name": "Python 3",
   "language": "python",
   "name": "python3"
  },
  "language_info": {
   "codemirror_mode": {
    "name": "ipython",
    "version": 3
   },
   "file_extension": ".py",
   "mimetype": "text/x-python",
   "name": "python",
   "nbconvert_exporter": "python",
   "pygments_lexer": "ipython3",
   "version": "3.8.10"
  }
 },
 "nbformat": 4,
 "nbformat_minor": 5
}
