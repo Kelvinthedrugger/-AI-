{
 "cells": [
  {
   "cell_type": "code",
   "execution_count": 1,
   "metadata": {},
   "outputs": [
    {
     "name": "stdout",
     "output_type": "stream",
     "text": [
      "\n"
     ]
    },
    {
     "name": "stderr",
     "output_type": "stream",
     "text": [
      "c:\\Users\\Kelvin\\anaconda3\\envs\\AI_sheng\\lib\\site-packages\\ipykernel_launcher.py:14: DeprecationWarning: executable_path has been deprecated, please pass in a Service object\n",
      "  \n"
     ]
    }
   ],
   "source": [
    "from selenium import webdriver\n",
    "from time import sleep\n",
    "from webdriver_manager.chrome import ChromeDriverManager\n",
    "from selenium.webdriver.chrome.options import Options\n",
    "from selenium.webdriver.common.keys import Keys\n",
    "from selenium.webdriver.common.by import By\n",
    "from selenium.webdriver.support.ui import WebDriverWait\n",
    "from selenium.webdriver.support import expected_conditions as EC\n",
    "from selenium.webdriver.common.action_chains import ActionChains\n",
    "\n",
    "#先把通知都關掉，不然後面會點不到按鈕\n",
    "optionla = Options();\n",
    "optionla.add_argument(\"disable-notifications\");\n",
    "driver = webdriver.Chrome(ChromeDriverManager().install(), options=optionla)"
   ]
  },
  {
   "cell_type": "code",
   "execution_count": 2,
   "metadata": {},
   "outputs": [
    {
     "data": {
      "text/plain": [
       "{'joy': '😂',\n",
       " 'sadness': '😭',\n",
       " 'love': '😍',\n",
       " 'anger': '😡',\n",
       " 'fear': '😨',\n",
       " 'surprise': '😮'}"
      ]
     },
     "execution_count": 2,
     "metadata": {},
     "output_type": "execute_result"
    }
   ],
   "source": [
    "emoji_list = {}\n",
    "emoji_list[\"joy\"] = '😂'\n",
    "emoji_list[\"sadness\"]='😭' # cry\n",
    "emoji_list['love']='😍'\n",
    "emoji_list['anger']='😡'\n",
    "emoji_list['fear']='😨'\n",
    "emoji_list['surprise']='😮'\n",
    "emoji_list"
   ]
  },
  {
   "cell_type": "code",
   "execution_count": 3,
   "metadata": {},
   "outputs": [
    {
     "data": {
      "text/plain": [
       "'😭'"
      ]
     },
     "execution_count": 3,
     "metadata": {},
     "output_type": "execute_result"
    }
   ],
   "source": [
    "TARGET = emoji_list[\"sadness\"]\n",
    "TARGET"
   ]
  },
  {
   "cell_type": "code",
   "execution_count": 28,
   "metadata": {},
   "outputs": [],
   "source": [
    "driver.get(\"https://www.plurk.com/search?q=\"+TARGET)"
   ]
  },
  {
   "cell_type": "code",
   "execution_count": 29,
   "metadata": {},
   "outputs": [
    {
     "data": {
      "text/plain": [
       "'覺得身邊好多朋友們比我努力比我聰明\\n但都領比我低的薪水就覺得這世界怎麼這樣😭\\n他們明明值得更好的薪水，可是他們的產業就只會給那樣\\n好希望他們能拿到相應的薪水然後過得好好的喔😭'"
      ]
     },
     "execution_count": 29,
     "metadata": {},
     "output_type": "execute_result"
    }
   ],
   "source": [
    "\"get the first content for trial\"\n",
    "one = driver.find_element('xpath', '//*[@class=\"content\"]')\n",
    "one.text\n"
   ]
  },
  {
   "cell_type": "code",
   "execution_count": 30,
   "metadata": {},
   "outputs": [],
   "source": [
    "\"open it\"\n",
    "one.click()"
   ]
  },
  {
   "cell_type": "code",
   "execution_count": 33,
   "metadata": {},
   "outputs": [
    {
     "data": {
      "text/plain": [
       "['',\n",
       " '7 則回應\\napple6551 \\n把他們拉去跟你當同事呢？\\nuranus2202 \\n如果我是你朋友看到這段話會很無言\\nಠ_ಠ \\napple6551: 有些產業不同沒辦法這樣做，有些我有介紹他們試試看\\nಠ_ಠ \\nuranus2202: 為什麼呢？\\nsolar6851 \\n因為提到了他們的薪水比你低這件事吧\\n配上小黃臉看起來有點諷刺\\nಠ_ಠ \\n我沒有那個意思\\U0001f972\\nಠ_ಠ \\n我覺得以他們的聰明跟認真程度，絕對值得比我高個1.5倍以上的薪水，可是現實怎麼會這樣\\n想表達這個']"
      ]
     },
     "execution_count": 33,
     "metadata": {},
     "output_type": "execute_result"
    }
   ],
   "source": [
    "\"get comments\"\n",
    "aa = one.find_elements('xpath','//*[@class=\"response_box\"]')\n",
    "ff = [ele.text for ele in aa]\n",
    "ff"
   ]
  },
  {
   "cell_type": "code",
   "execution_count": 34,
   "metadata": {},
   "outputs": [
    {
     "data": {
      "text/plain": [
       "['apple6551', 'uranus2202', 'ಠ_ಠ', 'ಠ_ಠ', 'solar6851', 'ಠ_ಠ', 'ಠ_ಠ']"
      ]
     },
     "execution_count": 34,
     "metadata": {},
     "output_type": "execute_result"
    }
   ],
   "source": [
    "bb = one.find_elements('xpath','//*[@class=\"response_box\"]//*[@class=\"user\"]//*[@class=\"name\"]')\n",
    "gg = [ele.text for ele in bb]\n",
    "gg"
   ]
  },
  {
   "cell_type": "code",
   "execution_count": 61,
   "metadata": {},
   "outputs": [
    {
     "data": {
      "text/plain": [
       "'apple6551'"
      ]
     },
     "execution_count": 61,
     "metadata": {},
     "output_type": "execute_result"
    }
   ],
   "source": [
    "\"filter user out via uid?\"\n",
    "jj = bb[0]\n",
    "jj.text"
   ]
  },
  {
   "cell_type": "code",
   "execution_count": 63,
   "metadata": {},
   "outputs": [
    {
     "data": {
      "text/plain": [
       "False"
      ]
     },
     "execution_count": 63,
     "metadata": {},
     "output_type": "execute_result"
    }
   ],
   "source": [
    "\"data-uid\" in dir(jj)"
   ]
  },
  {
   "cell_type": "code",
   "execution_count": 64,
   "metadata": {},
   "outputs": [
    {
     "data": {
      "text/plain": [
       "False"
      ]
     },
     "execution_count": 64,
     "metadata": {},
     "output_type": "execute_result"
    }
   ],
   "source": [
    "\"data-uid\" in vars(jj)"
   ]
  },
  {
   "cell_type": "code",
   "execution_count": 69,
   "metadata": {},
   "outputs": [
    {
     "data": {
      "text/plain": [
       "'apple6551'"
      ]
     },
     "execution_count": 69,
     "metadata": {},
     "output_type": "execute_result"
    }
   ],
   "source": [
    "jj.accessible_name"
   ]
  },
  {
   "cell_type": "code",
   "execution_count": 71,
   "metadata": {},
   "outputs": [
    {
     "data": {
      "text/plain": [
       "'link'"
      ]
     },
     "execution_count": 71,
     "metadata": {},
     "output_type": "execute_result"
    }
   ],
   "source": [
    "jj.aria_role"
   ]
  },
  {
   "cell_type": "code",
   "execution_count": 74,
   "metadata": {},
   "outputs": [
    {
     "data": {
      "text/plain": [
       "'99999'"
      ]
     },
     "execution_count": 74,
     "metadata": {},
     "output_type": "execute_result"
    }
   ],
   "source": [
    "jj.get_attribute('data-uid')"
   ]
  },
  {
   "cell_type": "code",
   "execution_count": 68,
   "metadata": {},
   "outputs": [
    {
     "data": {
      "text/plain": [
       "''"
      ]
     },
     "execution_count": 68,
     "metadata": {},
     "output_type": "execute_result"
    }
   ],
   "source": [
    "jj.value_of_css_property('data-uid')"
   ]
  },
  {
   "cell_type": "code",
   "execution_count": null,
   "metadata": {},
   "outputs": [],
   "source": [
    "\"end of by uid\""
   ]
  },
  {
   "cell_type": "code",
   "execution_count": 37,
   "metadata": {},
   "outputs": [
    {
     "data": {
      "text/plain": [
       "(17, 7)"
      ]
     },
     "execution_count": 37,
     "metadata": {},
     "output_type": "execute_result"
    }
   ],
   "source": [
    "\"single post\"\n",
    "len(ff[1].split(\"\\n\")), len(gg)"
   ]
  },
  {
   "cell_type": "code",
   "execution_count": 41,
   "metadata": {},
   "outputs": [
    {
     "data": {
      "text/plain": [
       "str"
      ]
     },
     "execution_count": 41,
     "metadata": {},
     "output_type": "execute_result"
    }
   ],
   "source": [
    "type(ff[1])"
   ]
  },
  {
   "cell_type": "code",
   "execution_count": 43,
   "metadata": {},
   "outputs": [
    {
     "data": {
      "text/plain": [
       "'7 則回應\\napple6551 \\n把他們拉去跟你當同事呢？\\nuranus2202 \\n如果我是你朋友看到這段話會很無言\\nಠ_ಠ \\napple6551: 有些產業不同沒辦法這樣做，有些我有介紹他們試試看\\nಠ_ಠ \\nuranus2202: 為什麼呢？\\nsolar6851 \\n因為提到了他們的薪水比你低這件事吧\\n配上小黃臉看起來有點諷刺\\nಠ_ಠ \\n我沒有那個意思\\U0001f972\\nಠ_ಠ \\n我覺得以他們的聰明跟認真程度，絕對值得比我高個1.5倍以上的薪水，可是現實怎麼會這樣\\n想表達這個'"
      ]
     },
     "execution_count": 43,
     "metadata": {},
     "output_type": "execute_result"
    }
   ],
   "source": [
    "ff[1]"
   ]
  },
  {
   "cell_type": "code",
   "execution_count": 55,
   "metadata": {},
   "outputs": [
    {
     "data": {
      "text/plain": [
       "['7 則回應',\n",
       " 'apple6551 ',\n",
       " '把他們拉去跟你當同事呢？',\n",
       " 'uranus2202 ',\n",
       " '如果我是你朋友看到這段話會很無言',\n",
       " 'ಠ_ಠ ',\n",
       " 'apple6551: 有些產業不同沒辦法這樣做，有些我有介紹他們試試看',\n",
       " 'ಠ_ಠ ',\n",
       " 'uranus2202: 為什麼呢？',\n",
       " 'solar6851 ',\n",
       " '因為提到了他們的薪水比你低這件事吧',\n",
       " '配上小黃臉看起來有點諷刺',\n",
       " 'ಠ_ಠ ',\n",
       " '我沒有那個意思\\U0001f972',\n",
       " 'ಠ_ಠ ',\n",
       " '我覺得以他們的聰明跟認真程度，絕對值得比我高個1.5倍以上的薪水，可是現實怎麼會這樣',\n",
       " '想表達這個']"
      ]
     },
     "execution_count": 55,
     "metadata": {},
     "output_type": "execute_result"
    }
   ],
   "source": [
    "hh = ff[1].split(\"\\n\")\n",
    "hh"
   ]
  },
  {
   "cell_type": "code",
   "execution_count": 56,
   "metadata": {},
   "outputs": [
    {
     "data": {
      "text/plain": [
       "(17, 7)"
      ]
     },
     "execution_count": 56,
     "metadata": {},
     "output_type": "execute_result"
    }
   ],
   "source": [
    "len(hh), len(gg)"
   ]
  },
  {
   "cell_type": "code",
   "execution_count": 75,
   "metadata": {},
   "outputs": [
    {
     "data": {
      "text/plain": [
       "['apple6551', 'uranus2202', 'ಠ_ಠ', 'ಠ_ಠ', 'solar6851', 'ಠ_ಠ', 'ಠ_ಠ']"
      ]
     },
     "execution_count": 75,
     "metadata": {},
     "output_type": "execute_result"
    }
   ],
   "source": [
    "gg"
   ]
  },
  {
   "cell_type": "code",
   "execution_count": 58,
   "metadata": {},
   "outputs": [
    {
     "data": {
      "text/plain": [
       "(16, 17)"
      ]
     },
     "execution_count": 58,
     "metadata": {},
     "output_type": "execute_result"
    }
   ],
   "source": [
    "\"lista = listb -> id(lista) == id(listb) !, shxt\"\n",
    "hhh = ff[1].split(\"\\n\")\n",
    "hhh.pop(0)\n",
    "len(hhh), len(hh)"
   ]
  },
  {
   "cell_type": "code",
   "execution_count": 59,
   "metadata": {},
   "outputs": [
    {
     "data": {
      "text/plain": [
       "['apple6551 ',\n",
       " '把他們拉去跟你當同事呢？',\n",
       " 'uranus2202 ',\n",
       " '如果我是你朋友看到這段話會很無言',\n",
       " 'ಠ_ಠ ',\n",
       " 'apple6551: 有些產業不同沒辦法這樣做，有些我有介紹他們試試看',\n",
       " 'ಠ_ಠ ',\n",
       " 'uranus2202: 為什麼呢？',\n",
       " 'solar6851 ',\n",
       " '因為提到了他們的薪水比你低這件事吧',\n",
       " '配上小黃臉看起來有點諷刺',\n",
       " 'ಠ_ಠ ',\n",
       " '我沒有那個意思\\U0001f972',\n",
       " 'ಠ_ಠ ',\n",
       " '我覺得以他們的聰明跟認真程度，絕對值得比我高個1.5倍以上的薪水，可是現實怎麼會這樣',\n",
       " '想表達這個']"
      ]
     },
     "execution_count": 59,
     "metadata": {},
     "output_type": "execute_result"
    }
   ],
   "source": [
    "hhh"
   ]
  },
  {
   "cell_type": "code",
   "execution_count": 76,
   "metadata": {},
   "outputs": [
    {
     "data": {
      "text/plain": [
       "['apple6551', 'uranus2202', 'ಠ_ಠ', 'ಠ_ಠ', 'solar6851', 'ಠ_ಠ', 'ಠ_ಠ']"
      ]
     },
     "execution_count": 76,
     "metadata": {},
     "output_type": "execute_result"
    }
   ],
   "source": [
    "gg"
   ]
  },
  {
   "cell_type": "code",
   "execution_count": 77,
   "metadata": {},
   "outputs": [
    {
     "data": {
      "text/plain": [
       "{'user_0': ['apple6551', '把他們拉去跟你當同事呢？'],\n",
       " 'user_1': ['uranus2202', '如果我是你朋友看到這段話會很無言'],\n",
       " 'user_2': ['ಠ_ಠ', 'apple6551: 有些產業不同沒辦法這樣做，有些我有介紹他們試試看'],\n",
       " 'user_3': ['ಠ_ಠ', 'uranus2202: 為什麼呢？'],\n",
       " 'user_4': ['solar6851', '因為提到了他們的薪水比你低這件事吧', '配上小黃臉看起來有點諷刺'],\n",
       " 'user_5': ['ಠ_ಠ', '我沒有那個意思\\U0001f972'],\n",
       " 'user_6': ['ಠ_ಠ', '我覺得以他們的聰明跟認真程度，絕對值得比我高個1.5倍以上的薪水，可是現實怎麼會這樣', '想表達這個']}"
      ]
     },
     "execution_count": 77,
     "metadata": {},
     "output_type": "execute_result"
    }
   ],
   "source": [
    "# Works!\n",
    "\"change this to user: text format, chronological\"\n",
    "\"{user_i: [name, text...]}\"\n",
    "usercnt = 0\n",
    "dia = {}\n",
    "lastppl = \"\"\n",
    "base_u = \"user_%d\"\n",
    "for ele in hhh:\n",
    "    if ele[:-1] in gg:\n",
    "        lastppl = base_u % usercnt\n",
    "        dia[lastppl] = [ele[:-1]]\n",
    "        usercnt += 1\n",
    "    else:\n",
    "        dia[lastppl].append(ele)\n",
    "\n",
    "dia"
   ]
  },
  {
   "cell_type": "code",
   "execution_count": null,
   "metadata": {},
   "outputs": [],
   "source": [
    "\"close it\"\n",
    "tt = one.find_element('xpath', '//*[@class=\"cbox_close pif-cancel\"]')\n",
    "#tt.click()\n",
    "\"actually click it\"\n",
    "tt.click()"
   ]
  },
  {
   "cell_type": "code",
   "execution_count": null,
   "metadata": {},
   "outputs": [],
   "source": []
  },
  {
   "cell_type": "code",
   "execution_count": 5,
   "metadata": {},
   "outputs": [],
   "source": [
    "assert 1 == 0, \"FOR REF ONLY\"\n",
    "\"run the correct way!\"\n",
    "# putting everything together\n",
    "def runit(filename, date_list, emoji):\n",
    "    # if filename exists, quit the whole thing\n",
    "    if filename.is_file():\n",
    "        print(f\"{filename} exists, didn't do a thing\")\n",
    "        return\n",
    "    \n",
    "    content = []\n",
    "    # loop thru date, fetch corresponding search result\n",
    "    # , save everything into content (list), write it, return it\n",
    "    for date in date_list:\n",
    "        # visit the search page # emoji date \n",
    "        driver.get(\"https://www.plurk.com/search?q=\"+emoji+\"&date=\" + date)\n",
    "        sleep(1)\n",
    "\n",
    "        # scroll to bottom # 300x posts\n",
    "        for i in range(300):\n",
    "            driver.execute_script(\"window.scrollTo(0,Math.max(document.documentElement.scrollHeight,\" + \"document.body.scrollHeight,document.documentElement.clientHeight));\")\n",
    "            sleep(1)\n",
    "\n",
    "        posts = driver.find_elements('xpath','//*[@class=\"content\"]')\n",
    "        content += [ele.text for ele in posts]\n",
    "\n",
    "    with open(filename, \"wb\") as f:\n",
    "        pickle.dump(content, f)\n",
    "\n",
    "    return content"
   ]
  },
  {
   "cell_type": "code",
   "execution_count": null,
   "metadata": {},
   "outputs": [],
   "source": []
  }
 ],
 "metadata": {
  "kernelspec": {
   "display_name": "Python 3.7.9 ('AI_sheng')",
   "language": "python",
   "name": "python3"
  },
  "language_info": {
   "codemirror_mode": {
    "name": "ipython",
    "version": 3
   },
   "file_extension": ".py",
   "mimetype": "text/x-python",
   "name": "python",
   "nbconvert_exporter": "python",
   "pygments_lexer": "ipython3",
   "version": "3.7.9"
  },
  "orig_nbformat": 4,
  "vscode": {
   "interpreter": {
    "hash": "9db77c7d38baf4b93e998a2213b9026a3d1545f748ab5419893b25caa4e3cb58"
   }
  }
 },
 "nbformat": 4,
 "nbformat_minor": 2
}
